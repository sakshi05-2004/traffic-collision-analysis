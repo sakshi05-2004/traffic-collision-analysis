{
 "cells": [
  {
   "cell_type": "markdown",
   "metadata": {
    "id": "xniekxi-cXZB"
   },
   "source": [
    "# Traffic Collision Data Analysis"
   ]
  },
  {
   "cell_type": "markdown",
   "metadata": {
    "id": "CaFEMotqcXXo"
   },
   "source": [
    "# Objective\n",
    "\n",
    "In this case study, you will be working on California Traffic Collision Data Analysis using Apache Spark, a powerful distributed computing framework designed for big data processing. This assignment aims to provide hands-on experience in analyzing large-scale traffic collision datasets using PySpark and AWS services. You will apply data analytics techniques to clean, transform, and explore crash data, drawing meaningful insights to support traffic safety and urban planning. Beyond understanding how big data tools optimize performance on a single machine and across clusters, you will develop a structured approach to analyzing crash trends, identifying high-risk locations, and evaluating contributing factors to traffic incidents. Additionally, you will utilize AWS S3 to store the processed data efficiently after the ETL process, enabling scalable storage and easy retrieval for further analysis.\n"
   ]
  },
  {
   "cell_type": "markdown",
   "metadata": {
    "id": "s-wICNZacXUL"
   },
   "source": [
    "# Business Value:\n",
    "\n",
    "Traffic collisions pose significant risks to public safety, requiring continuous monitoring and analysis to enhance road safety measures. Government agencies, city planners, and policymakers must leverage data-driven insights to improve infrastructure, optimize traffic management, and implement preventive measures.\n",
    "\n",
    "In this assignment, you will analyze California traffic collision data to uncover patterns related to accident severity, location-based risks, and key contributing factors. With Apache Spark's ability to handle large datasets efficiently and AWS S3's scalable storage, transportation authorities can process vast amounts of crash data in real time, enabling faster and more informed decision-making.\n",
    "\n",
    "As an analyst examining traffic safety trends, your task is to analyze historical crash data to derive actionable insights that can drive policy improvements and safety interventions. Your analysis will help identify high-risk areas, categorize accidents by severity and contributing factors, and store the processed data in an AWS S3 bucket for scalable and long-term storage.\n",
    "\n",
    "By leveraging big data analytics and cloud-based storage, urban planners and traffic authorities can enhance road safety strategies, reduce accident rates, and improve public transportation planning.\n"
   ]
  },
  {
   "cell_type": "markdown",
   "metadata": {
    "id": "-l9h-YYdcXPP"
   },
   "source": [
    "# Dataset Overview\n",
    "\n",
    "The dataset used in this analysis consists of California traffic collision data obtained from the Statewide Integrated Traffic Records System (SWITRS). It includes detailed records of traffic incidents across California, covering various attributes such as location, severity, involved parties, and contributing factors. The dataset has been preprocessed and transformed using PySpark to facilitate large-scale analysis. By leveraging Apache Spark, we ensure efficient data handling, enabling deeper insights into traffic patterns, accident trends, and potential safety improvements."
   ]
  },
  {
   "cell_type": "markdown",
   "metadata": {
    "id": "BphT7j-ocXHh"
   },
   "source": [
    "The dataset is a .sqlite file contains detailed information about traffic collisions across California and is structured into four primary tables:\n",
    "- `collisions` table contains information about the collision, where it happened, what vehicles were involved.\n",
    "\n",
    "- `parties` table contains information about the groups people involved in the collision including age, sex, and sobriety.\n",
    "\n",
    "- `victims` table contains information about the injuries of specific people involved in the collision.\n",
    "\n",
    "- `locations` table contains information about the geographical location and details of road intersections."
   ]
  },
  {
   "cell_type": "markdown",
   "metadata": {
    "id": "RRZctA56_ryO"
   },
   "source": [
    "# Assignment Tasks\n",
    "\n",
    "<ol>\n",
    "    <li>\n",
    "        <strong>Data Preparation</strong></br>\n",
    "        The dataset consists of structured tables containing traffic collision data. Before conducting any analysis, it is essential to ensure that the data is properly formatted and structured for efficient processing.</br>\n",
    "        Check for data consistency and ensure all columns are correctly formatted.</br>\n",
    "        Apply sampling techniques if needed to extract a representative subset for analysis.</br>\n",
    "        Structure and prepare the data for further processing and analysis.</br>\n",
    "    </br>\n",
    "    <li>\n",
    "        <strong>Data Cleaning</strong></br>\n",
    "            2.1 <strong>Fixing Columns:</strong> Ensure all columns are properly named and formatted.</br>\n",
    "            2.2 <strong>Handling Missing Values:</strong> Decide on an approach to handle missing data (e.g., imputation or removal). Mention the approach in your report.</br>\n",
    "            2.3 <strong>Handling Outliers:</strong> Identify outliers in the dataset and explain why they are considered outliers. It is not necessary to remove them for this task, but mention your approach for handling them.</br>\n",
    "    </br>\n",
    "    <li>\n",
    "        <strong>Exploratory Data Analysis</strong></br>\n",
    "        Finding Patterns and analyze the dataset and find patterns based on the following points:\n",
    "                <ul>\n",
    "                3.1 Classify variables into categorical and numerical types.</br>\n",
    "                3.2 Analyze the distribution of collision severity.</br>\n",
    "                3.3 Examine weather conditions during collisions.</br>\n",
    "                3.4 Analyze the distribution of victim ages.</br>\n",
    "                3.5 Study the relationship between collision severity and the number of victims.</br>\n",
    "                3.6 Analyze the correlation between weather conditions and collision severity.</br>\n",
    "                3.7 Visualize the impact of lighting conditions on collision severity.</br>\n",
    "                3.8 Extract and analyze weekday-wise collision trends.</br>\n",
    "                3.9 Assess the number of collisions occurring on different days of the week.</br>\n",
    "                3.10 Study spatial distribution of collisions by county.</br>\n",
    "                3.11 Generate a scatter plot to analyze collision locations geographically.</br>\n",
    "                3.12 Extract and analyze collision trends over time, including yearly, monthly, and hourly trends.</br>\n",
    "</ul>\n",
    "</br>\n",
    "<li>\n",
    "<strong>ETL Querying</strong><br>\n",
    "Write PySpark SQL queries for the following:</br>\n",
    "<ol>\n",
    "    4.1. Load the processed dataset as CSV files in S3 bucket.</br>\n",
    "    4.2. Identify the top 5 counties with the highest number of collisions.</br>\n",
    "    4.3. Identify the month with the highest number of collisions.</br>\n",
    "    4.4. Determine the most common weather condition during collisions.</br>\n",
    "    4.5. Calculate the percentage of collisions that resulted in fatalities.</br>\n",
    "    4.6. Find the most dangerous time of day for collisions.</br>\n",
    "    4.7. Identify the top 5 road surface conditions with the highest collision frequency.</br>\n",
    "    4.8. Analyze lighting conditions that contribute to the highest number of collisions.</br>\n",
    "</ol>\n",
    "</br>\n",
    "<li>\n",
    "<strong>Conclusion</strong></br>\n",
    "Provide final insights and recommendations based on the analysis:\n",
    "    <ul>\n",
    "        5.1 Recommendations to improve road safety by identifying high-risk locations and peak accident times for infrastructure improvements.</br>\n",
    "        5.2 Suggestions to optimize traffic management by analyzing trends in collision severity, weather conditions, and lighting to improve road design and traffic signal timing.</br>\n",
    "        5.3 Propose data-driven policy changes to enhance pedestrian and cyclist safety based on collision trends involving vulnerable road users.</br>\n",
    "        5.4 Identify potential high-risk zones for proactive intervention by examining geographic collision density and historical accident data.</br>\n",
    "        5.5 Assess the impact of environmental factors such as weather, road surface conditions, and lighting on accident frequency and severity.</br>\n",
    "        5.6 Develop predictive models to anticipate collision hotspots and support proactive safety measures.</br>\n",
    "        </ul>\n",
    "        Conclude the analysis by summarizing key findings and business implications.</br>\n",
    "        Explain the results of univariate, segmented univariate, and bivariate analyses in real-world traffic safety and policy terms.</br>\n",
    "        Include visualizations and summarize the most important results in the report. Insights should explain why each variable is important and how they can influence traffic safety policies and urban planning.</br>\n",
    "        </ul>\n",
    "        </br>\n",
    "    <li>\n",
    "    <strong>Visualization Integration [Optional]</strong>\n",
    "    <p>Enhance the project by incorporating a visualization component that connects the processed data stored in an S3 bucket to a business intelligence tool such as Tableau or Power BI. This involves setting up the connection between the S3 bucket and the chosen visualization tool, importing the processed dataset for analysis and visualization, creating interactive dashboards to explore key trends and insights and ensuring data updates are reflected dynamically in the visualization tool.<br>\n",
    "</br>\n",
    "</ol>"
   ]
  },
  {
   "cell_type": "code",
   "execution_count": 1,
   "metadata": {
    "execution": {
     "iopub.execute_input": "2025-06-17T05:01:47.879223Z",
     "iopub.status.busy": "2025-06-17T05:01:47.878846Z",
     "iopub.status.idle": "2025-06-17T05:02:34.094710Z",
     "shell.execute_reply": "2025-06-17T05:02:34.093370Z",
     "shell.execute_reply.started": "2025-06-17T05:01:47.879188Z"
    },
    "id": "ghk65qxBlktK",
    "tags": []
   },
   "outputs": [
    {
     "data": {
      "application/vnd.jupyter.widget-view+json": {
       "model_id": "5d9398021d9644ac930148fb0e9276d7",
       "version_major": 2,
       "version_minor": 0
      },
      "text/plain": [
       "VBox()"
      ]
     },
     "metadata": {},
     "output_type": "display_data"
    },
    {
     "name": "stdout",
     "output_type": "stream",
     "text": [
      "Starting Spark application\n"
     ]
    },
    {
     "data": {
      "text/html": [
       "<table>\n",
       "<tbody><tr><th>ID</th><th>YARN Application ID</th><th>Kind</th><th>State</th><th>Spark UI</th><th>Driver log</th><th>User</th><th>Current session?</th></tr><tr><td>0</td><td>application_1750136211518_0001</td><td>pyspark</td><td>idle</td><td><a target=\"_blank\" href=\"http://ip-172-31-17-216.ec2.internal:20888/proxy/application_1750136211518_0001/\" class=\"emr-proxy-link j-30SKT9CQEU49L application_1750136211518_0001\" emr-resource=\"j-30SKT9CQEU49L\n",
       "\" application-id=\"application_1750136211518_0001\">Link</a></td><td><a target=\"_blank\" href=\"http://ip-172-31-19-216.ec2.internal:8042/node/containerlogs/container_1750136211518_0001_01_000001/livy\">Link</a></td><td>None</td><td>✔</td></tr></tbody></table>"
      ],
      "text/plain": [
       "<IPython.core.display.HTML object>"
      ]
     },
     "metadata": {},
     "output_type": "display_data"
    },
    {
     "data": {
      "application/vnd.jupyter.widget-view+json": {
       "model_id": "",
       "version_major": 2,
       "version_minor": 0
      },
      "text/plain": [
       "FloatProgress(value=0.0, bar_style='info', description='Progress:', layout=Layout(height='25px', width='50%'),…"
      ]
     },
     "metadata": {},
     "output_type": "display_data"
    },
    {
     "name": "stdout",
     "output_type": "stream",
     "text": [
      "SparkSession available as 'spark'.\n"
     ]
    },
    {
     "data": {
      "application/vnd.jupyter.widget-view+json": {
       "model_id": "",
       "version_major": 2,
       "version_minor": 0
      },
      "text/plain": [
       "FloatProgress(value=0.0, bar_style='info', description='Progress:', layout=Layout(height='25px', width='50%'),…"
      ]
     },
     "metadata": {},
     "output_type": "display_data"
    }
   ],
   "source": [
    "#from google.colab import drive\n",
    "#drive.mount('/content/drive')"
   ]
  },
  {
   "cell_type": "markdown",
   "metadata": {
    "id": "1gK6V4F0n4zT"
   },
   "source": [
    "Install Required Libraries"
   ]
  },
  {
   "cell_type": "markdown",
   "metadata": {
    "colab": {
     "referenced_widgets": [
      "9e02d32e6fa544fbb3f1f34483a81205",
      ""
     ]
    },
    "execution": {
     "iopub.execute_input": "2025-06-12T07:10:40.126229Z",
     "iopub.status.busy": "2025-06-12T07:10:40.125984Z",
     "iopub.status.idle": "2025-06-12T07:10:40.201094Z",
     "shell.execute_reply": "2025-06-12T07:10:40.199776Z",
     "shell.execute_reply.started": "2025-06-12T07:10:40.126199Z"
    },
    "id": "HcipMrten2L_",
    "outputId": "d3b244f8-237c-4086-b491-f1cbba6cbbfa",
    "tags": []
   },
   "source": [
    "### As pip install fails from JupyterLab, following installation steps were done\n",
    "#### 1. Create a shell file as below and upload to S3.\n",
    "#### 2. Point Bootstrap actions to this S3 while creating EMR cluster."
   ]
  },
  {
   "cell_type": "code",
   "execution_count": 2,
   "metadata": {
    "execution": {
     "iopub.execute_input": "2025-06-17T05:02:34.096546Z",
     "iopub.status.busy": "2025-06-17T05:02:34.096267Z",
     "iopub.status.idle": "2025-06-17T05:02:34.188554Z",
     "shell.execute_reply": "2025-06-17T05:02:34.187381Z",
     "shell.execute_reply.started": "2025-06-17T05:02:34.096504Z"
    },
    "tags": []
   },
   "outputs": [
    {
     "data": {
      "application/vnd.jupyter.widget-view+json": {
       "model_id": "c5fc939c13f4422e9cb1d39f831eba75",
       "version_major": 2,
       "version_minor": 0
      },
      "text/plain": [
       "VBox()"
      ]
     },
     "metadata": {},
     "output_type": "display_data"
    },
    {
     "data": {
      "application/vnd.jupyter.widget-view+json": {
       "model_id": "",
       "version_major": 2,
       "version_minor": 0
      },
      "text/plain": [
       "FloatProgress(value=0.0, bar_style='info', description='Progress:', layout=Layout(height='25px', width='50%'),…"
      ]
     },
     "metadata": {},
     "output_type": "display_data"
    }
   ],
   "source": [
    "#!/bin/bash\n",
    "\n",
    "# Install pip for Python 3 (Amazon Linux 2023 compatible)\n",
    "# sudo dnf install -y python3-pip\n",
    "\n",
    "# Upgrade pip and install numpy\n",
    "# sudo python3 -m pip install --upgrade pip\n",
    "# sudo python3 -m pip install numpy\n",
    "# sudo python3 -m pip install Pillow\n",
    "# sudo python3 -m pip install --quiet matplotlib seaborn\n",
    "# sudo python3 -m pip install boto3\n",
    "# sudo python3 -m pip install IPython"
   ]
  },
  {
   "cell_type": "code",
   "execution_count": 3,
   "metadata": {
    "colab": {
     "referenced_widgets": [
      "8131ff793be24716b8115fd330c5c677",
      ""
     ]
    },
    "execution": {
     "iopub.execute_input": "2025-06-17T05:02:34.192224Z",
     "iopub.status.busy": "2025-06-17T05:02:34.191276Z",
     "iopub.status.idle": "2025-06-17T05:02:39.552050Z",
     "shell.execute_reply": "2025-06-17T05:02:39.550847Z",
     "shell.execute_reply.started": "2025-06-17T05:02:34.192170Z"
    },
    "id": "W8gwBP3PoZsl",
    "outputId": "b6175c08-97fc-42ff-989d-8cc861614034",
    "tags": []
   },
   "outputs": [
    {
     "data": {
      "application/vnd.jupyter.widget-view+json": {
       "model_id": "721b3d2c63554e8dabb2ef52361c9c05",
       "version_major": 2,
       "version_minor": 0
      },
      "text/plain": [
       "VBox()"
      ]
     },
     "metadata": {},
     "output_type": "display_data"
    },
    {
     "data": {
      "application/vnd.jupyter.widget-view+json": {
       "model_id": "",
       "version_major": 2,
       "version_minor": 0
      },
      "text/plain": [
       "FloatProgress(value=0.0, bar_style='info', description='Progress:', layout=Layout(height='25px', width='50%'),…"
      ]
     },
     "metadata": {},
     "output_type": "display_data"
    }
   ],
   "source": [
    "# Import the necessary libraries\n",
    "import sqlite3\n",
    "import pandas as pd\n",
    "from pyspark.sql import SparkSession\n",
    "from pyspark.sql.functions import col, sum, to_date, max, length\n",
    "from pyspark.sql.types import StructType, StructField, IntegerType, StringType, BooleanType, \\\n",
    "     DoubleType, LongType, DateType, TimestampType, DecimalType\n",
    "\n",
    "import numpy as np\n",
    "import matplotlib.pyplot as plt\n",
    "import seaborn as sns\n",
    "import warnings\n",
    "warnings.filterwarnings(action='ignore')"
   ]
  },
  {
   "cell_type": "markdown",
   "metadata": {
    "id": "NH1JOoUI7BQH"
   },
   "source": [
    "### Start the Spark Context"
   ]
  },
  {
   "cell_type": "code",
   "execution_count": 4,
   "metadata": {
    "colab": {
     "referenced_widgets": [
      "8e140899daaa47b7854b198d4788ffaf",
      ""
     ]
    },
    "execution": {
     "iopub.execute_input": "2025-06-17T05:02:39.554830Z",
     "iopub.status.busy": "2025-06-17T05:02:39.554185Z",
     "iopub.status.idle": "2025-06-17T05:02:39.682010Z",
     "shell.execute_reply": "2025-06-17T05:02:39.680867Z",
     "shell.execute_reply.started": "2025-06-17T05:02:39.554784Z"
    },
    "id": "rLasXk4z7BQH",
    "outputId": "31a6781f-c799-43d1-84e7-fe7687a4e1d6",
    "tags": []
   },
   "outputs": [
    {
     "data": {
      "application/vnd.jupyter.widget-view+json": {
       "model_id": "c2557f995f58400286c79c95f1e1c898",
       "version_major": 2,
       "version_minor": 0
      },
      "text/plain": [
       "VBox()"
      ]
     },
     "metadata": {},
     "output_type": "display_data"
    },
    {
     "data": {
      "application/vnd.jupyter.widget-view+json": {
       "model_id": "",
       "version_major": 2,
       "version_minor": 0
      },
      "text/plain": [
       "FloatProgress(value=0.0, bar_style='info', description='Progress:', layout=Layout(height='25px', width='50%'),…"
      ]
     },
     "metadata": {},
     "output_type": "display_data"
    },
    {
     "name": "stdout",
     "output_type": "stream",
     "text": [
      "<SparkContext master=yarn appName=livy-session-0>"
     ]
    }
   ],
   "source": [
    "sc"
   ]
  },
  {
   "cell_type": "markdown",
   "metadata": {
    "id": "3zDiIEhHPWco"
   },
   "source": [
    "# **1. Data Preparation** <font color = red>[5 marks]</font> <br>\n",
    "\n",
    "The dataset consists of structured tables containing traffic collision data.\n",
    "\n",
    "Before conducting any analysis, it is essential to ensure that the data is properly formatted and structured for efficient processing.\n",
    "\n",
    "Check for data consistency and ensure all columns are correctly formatted."
   ]
  },
  {
   "cell_type": "markdown",
   "metadata": {
    "id": "VJkAqqwO7BQI"
   },
   "source": [
    "### 1.1 Read Victims Sample CSV File"
   ]
  },
  {
   "cell_type": "code",
   "execution_count": 5,
   "metadata": {
    "colab": {
     "referenced_widgets": [
      "e8b78bc86e644d8691f732406535bf57",
      ""
     ]
    },
    "execution": {
     "iopub.execute_input": "2025-06-17T05:02:39.684524Z",
     "iopub.status.busy": "2025-06-17T05:02:39.683774Z",
     "iopub.status.idle": "2025-06-17T05:02:49.034804Z",
     "shell.execute_reply": "2025-06-17T05:02:49.033651Z",
     "shell.execute_reply.started": "2025-06-17T05:02:39.684476Z"
    },
    "id": "NnrbDNsdoe1p",
    "outputId": "48c9dbc6-851a-4408-896e-db5255bebcd0",
    "tags": []
   },
   "outputs": [
    {
     "data": {
      "application/vnd.jupyter.widget-view+json": {
       "model_id": "e5d6a4e8a57f4e7abc6020322dc15eed",
       "version_major": 2,
       "version_minor": 0
      },
      "text/plain": [
       "VBox()"
      ]
     },
     "metadata": {},
     "output_type": "display_data"
    },
    {
     "data": {
      "application/vnd.jupyter.widget-view+json": {
       "model_id": "",
       "version_major": 2,
       "version_minor": 0
      },
      "text/plain": [
       "FloatProgress(value=0.0, bar_style='info', description='Progress:', layout=Layout(height='25px', width='50%'),…"
      ]
     },
     "metadata": {},
     "output_type": "display_data"
    }
   ],
   "source": [
    "# Write code to load the data and check the schema\n",
    "victims_df = spark.read.load(\"/user/livy/sample_victims.csv\", format = \"csv\", header = \"true\", inferSchema = \"true\")"
   ]
  },
  {
   "cell_type": "code",
   "execution_count": 6,
   "metadata": {
    "colab": {
     "referenced_widgets": [
      "765170617bdd495ca9990063b35346aa",
      ""
     ]
    },
    "execution": {
     "iopub.execute_input": "2025-06-17T05:02:49.036170Z",
     "iopub.status.busy": "2025-06-17T05:02:49.035901Z",
     "iopub.status.idle": "2025-06-17T05:02:49.318247Z",
     "shell.execute_reply": "2025-06-17T05:02:49.316979Z",
     "shell.execute_reply.started": "2025-06-17T05:02:49.036139Z"
    },
    "id": "FkT2AG0Z7BQI",
    "outputId": "4b4fc1d6-51e9-441b-a6c3-82c185c7d549",
    "tags": []
   },
   "outputs": [
    {
     "data": {
      "application/vnd.jupyter.widget-view+json": {
       "model_id": "25c148807834486a93dd5f289f4f6ab0",
       "version_major": 2,
       "version_minor": 0
      },
      "text/plain": [
       "VBox()"
      ]
     },
     "metadata": {},
     "output_type": "display_data"
    },
    {
     "data": {
      "application/vnd.jupyter.widget-view+json": {
       "model_id": "",
       "version_major": 2,
       "version_minor": 0
      },
      "text/plain": [
       "FloatProgress(value=0.0, bar_style='info', description='Progress:', layout=Layout(height='25px', width='50%'),…"
      ]
     },
     "metadata": {},
     "output_type": "display_data"
    },
    {
     "name": "stdout",
     "output_type": "stream",
     "text": [
      "Victims Schema as read by PySpark:\n",
      "\n",
      "root\n",
      " |-- id: integer (nullable = true)\n",
      " |-- case_id: double (nullable = true)\n",
      " |-- party_number: integer (nullable = true)\n",
      " |-- victim_role: string (nullable = true)\n",
      " |-- victim_sex: string (nullable = true)\n",
      " |-- victim_age: double (nullable = true)\n",
      " |-- victim_degree_of_injury: string (nullable = true)\n",
      " |-- victim_seating_position: string (nullable = true)\n",
      " |-- victim_safety_equipment_1: string (nullable = true)\n",
      " |-- victim_safety_equipment_2: string (nullable = true)\n",
      " |-- victim_ejected: string (nullable = true)"
     ]
    }
   ],
   "source": [
    "print(\"Victims Schema as read by PySpark:\\n\")\n",
    "victims_df.printSchema()"
   ]
  },
  {
   "cell_type": "code",
   "execution_count": 7,
   "metadata": {
    "colab": {
     "referenced_widgets": [
      "71eab146580445dd8876dfb4b0228587",
      ""
     ]
    },
    "execution": {
     "iopub.execute_input": "2025-06-17T05:02:49.320214Z",
     "iopub.status.busy": "2025-06-17T05:02:49.319799Z",
     "iopub.status.idle": "2025-06-17T05:02:50.118422Z",
     "shell.execute_reply": "2025-06-17T05:02:50.117361Z",
     "shell.execute_reply.started": "2025-06-17T05:02:49.320164Z"
    },
    "id": "aNsDBm2F7BQJ",
    "outputId": "c3b6cc7d-d5dc-4167-ca17-bcc4051c7f08",
    "tags": []
   },
   "outputs": [
    {
     "data": {
      "application/vnd.jupyter.widget-view+json": {
       "model_id": "c6a27caefed44caca6274d8ed768c03e",
       "version_major": 2,
       "version_minor": 0
      },
      "text/plain": [
       "VBox()"
      ]
     },
     "metadata": {},
     "output_type": "display_data"
    },
    {
     "data": {
      "application/vnd.jupyter.widget-view+json": {
       "model_id": "",
       "version_major": 2,
       "version_minor": 0
      },
      "text/plain": [
       "FloatProgress(value=0.0, bar_style='info', description='Progress:', layout=Layout(height='25px', width='50%'),…"
      ]
     },
     "metadata": {},
     "output_type": "display_data"
    },
    {
     "name": "stdout",
     "output_type": "stream",
     "text": [
      "+-------+-----------+------------+-----------+----------+----------+-----------------------+-----------------------+-------------------------+-------------------------+--------------+\n",
      "|     id|    case_id|party_number|victim_role|victim_sex|victim_age|victim_degree_of_injury|victim_seating_position|victim_safety_equipment_1|victim_safety_equipment_2|victim_ejected|\n",
      "+-------+-----------+------------+-----------+----------+----------+-----------------------+-----------------------+-------------------------+-------------------------+--------------+\n",
      "|2166324|  6324923.0|           1|     driver|      male|      62.0|      complaint of pain|                 driver|     air bag not deployed|     lap/shoulder harn...|   not ejected|\n",
      "| 779470|   761473.0|           1|  passenger|      male|      25.0|              no injury|       passenger seat 3|     lap/shoulder harn...|                     NULL|   not ejected|\n",
      "| 742636|   723123.0|           1|     driver|      NULL|      31.0|      complaint of pain|                 driver|     lap/shoulder harn...|                     NULL|   not ejected|\n",
      "|2412638|  2276798.0|           1|     driver|    female|      51.0|      complaint of pain|                 driver|     air bag not deployed|     lap/shoulder harn...|   not ejected|\n",
      "|4121224|9.0110954E7|           1|  passenger|    female|       4.0|              no injury|       passenger seat 4|             not required|     child restraint i...|   not ejected|\n",
      "+-------+-----------+------------+-----------+----------+----------+-----------------------+-----------------------+-------------------------+-------------------------+--------------+\n",
      "only showing top 5 rows"
     ]
    }
   ],
   "source": [
    "victims_df.show(5)"
   ]
  },
  {
   "cell_type": "markdown",
   "metadata": {
    "id": "WQDIj43f7BQJ"
   },
   "source": [
    "#### Inspect the colums 'case_id' and 'victim_age'"
   ]
  },
  {
   "cell_type": "code",
   "execution_count": 8,
   "metadata": {
    "colab": {
     "referenced_widgets": [
      "0592317c6cf14ef49b5543f38662a23b",
      ""
     ]
    },
    "execution": {
     "iopub.execute_input": "2025-06-17T05:02:50.121749Z",
     "iopub.status.busy": "2025-06-17T05:02:50.121518Z",
     "iopub.status.idle": "2025-06-17T05:02:55.450316Z",
     "shell.execute_reply": "2025-06-17T05:02:55.449176Z",
     "shell.execute_reply.started": "2025-06-17T05:02:50.121718Z"
    },
    "id": "QY1nHuyS7BQJ",
    "outputId": "c8a2bc4b-4bb4-44db-faf7-acae8e4b457f",
    "tags": []
   },
   "outputs": [
    {
     "data": {
      "application/vnd.jupyter.widget-view+json": {
       "model_id": "ad85fe6e93a04018803d06d1f18852db",
       "version_major": 2,
       "version_minor": 0
      },
      "text/plain": [
       "VBox()"
      ]
     },
     "metadata": {},
     "output_type": "display_data"
    },
    {
     "data": {
      "application/vnd.jupyter.widget-view+json": {
       "model_id": "",
       "version_major": 2,
       "version_minor": 0
      },
      "text/plain": [
       "FloatProgress(value=0.0, bar_style='info', description='Progress:', layout=Layout(height='25px', width='50%'),…"
      ]
     },
     "metadata": {},
     "output_type": "display_data"
    },
    {
     "name": "stdout",
     "output_type": "stream",
     "text": [
      "+--------------------+\n",
      "|             case_id|\n",
      "+--------------------+\n",
      "|           8474612.0|\n",
      "|           7130714.0|\n",
      "|           4714551.0|\n",
      "|           5866798.0|\n",
      "|           1304870.0|\n",
      "|            990175.0|\n",
      "|           5368293.0|\n",
      "|           6233401.0|\n",
      "|3.711010106104204...|\n",
      "|            470926.0|\n",
      "|           4845793.0|\n",
      "|           8044503.0|\n",
      "|           7071072.0|\n",
      "|3.404010717121100...|\n",
      "|         9.0017906E7|\n",
      "|           8574868.0|\n",
      "|           5392691.0|\n",
      "|           1567280.0|\n",
      "|           6304776.0|\n",
      "|           2504632.0|\n",
      "+--------------------+\n",
      "only showing top 20 rows"
     ]
    }
   ],
   "source": [
    "victims_df.select(\"case_id\").distinct().show()"
   ]
  },
  {
   "cell_type": "code",
   "execution_count": 9,
   "metadata": {
    "colab": {
     "referenced_widgets": [
      "fd8004fabd634416a74dde4bd71c6f59",
      ""
     ]
    },
    "execution": {
     "iopub.execute_input": "2025-06-17T05:02:55.452448Z",
     "iopub.status.busy": "2025-06-17T05:02:55.452217Z",
     "iopub.status.idle": "2025-06-17T05:02:57.756684Z",
     "shell.execute_reply": "2025-06-17T05:02:57.755574Z",
     "shell.execute_reply.started": "2025-06-17T05:02:55.452398Z"
    },
    "id": "7gcJWSQT7BQJ",
    "outputId": "52223112-599c-48f6-a243-006c6acca0d4",
    "tags": []
   },
   "outputs": [
    {
     "data": {
      "application/vnd.jupyter.widget-view+json": {
       "model_id": "aebcadda04104a2294006dcef7290482",
       "version_major": 2,
       "version_minor": 0
      },
      "text/plain": [
       "VBox()"
      ]
     },
     "metadata": {},
     "output_type": "display_data"
    },
    {
     "data": {
      "application/vnd.jupyter.widget-view+json": {
       "model_id": "",
       "version_major": 2,
       "version_minor": 0
      },
      "text/plain": [
       "FloatProgress(value=0.0, bar_style='info', description='Progress:', layout=Layout(height='25px', width='50%'),…"
      ]
     },
     "metadata": {},
     "output_type": "display_data"
    },
    {
     "name": "stdout",
     "output_type": "stream",
     "text": [
      "+----------+\n",
      "|victim_age|\n",
      "+----------+\n",
      "|      NULL|\n",
      "|      29.0|\n",
      "|     107.0|\n",
      "|      47.0|\n",
      "|       1.0|\n",
      "|      94.0|\n",
      "|     122.0|\n",
      "|     103.0|\n",
      "|     106.0|\n",
      "|      63.0|\n",
      "|      82.0|\n",
      "|      66.0|\n",
      "|      61.0|\n",
      "|      46.0|\n",
      "|      28.0|\n",
      "|      13.0|\n",
      "|      26.0|\n",
      "|      76.0|\n",
      "|      69.0|\n",
      "|      98.0|\n",
      "+----------+\n",
      "only showing top 20 rows"
     ]
    }
   ],
   "source": [
    "victims_df.select(\"victim_age\").distinct().show()"
   ]
  },
  {
   "cell_type": "markdown",
   "metadata": {
    "id": "JdqFRwwh7BQK"
   },
   "source": [
    "#### Some of the data types in Victims schema need to change\n",
    "\n",
    "- 'case_id': double --> long int\n",
    "- 'victim_age': double --> int"
   ]
  },
  {
   "cell_type": "markdown",
   "metadata": {
    "id": "QoYwHhvq7BQK"
   },
   "source": [
    "#### Define schema with 'case_id' and 'victim_age' as String and after Spark read, cast to the target data type explicitly. This is intermediate steps is intriduced as a direct schema read into target data type is resulting into NULL values in the table."
   ]
  },
  {
   "cell_type": "code",
   "execution_count": 10,
   "metadata": {
    "colab": {
     "referenced_widgets": [
      "3fac9f41c6cc4f5b8831ffcc53819cf3",
      ""
     ]
    },
    "execution": {
     "iopub.execute_input": "2025-06-17T05:02:57.761379Z",
     "iopub.status.busy": "2025-06-17T05:02:57.758515Z",
     "iopub.status.idle": "2025-06-17T05:02:58.044496Z",
     "shell.execute_reply": "2025-06-17T05:02:58.043321Z",
     "shell.execute_reply.started": "2025-06-17T05:02:57.761271Z"
    },
    "id": "5TvhExfo7BQK",
    "outputId": "0a937213-025d-4e99-a28e-b4fc5aaec4b5",
    "tags": []
   },
   "outputs": [
    {
     "data": {
      "application/vnd.jupyter.widget-view+json": {
       "model_id": "1c22ac08e1ce4e9cb503cd631da3ad47",
       "version_major": 2,
       "version_minor": 0
      },
      "text/plain": [
       "VBox()"
      ]
     },
     "metadata": {},
     "output_type": "display_data"
    },
    {
     "data": {
      "application/vnd.jupyter.widget-view+json": {
       "model_id": "",
       "version_major": 2,
       "version_minor": 0
      },
      "text/plain": [
       "FloatProgress(value=0.0, bar_style='info', description='Progress:', layout=Layout(height='25px', width='50%'),…"
      ]
     },
     "metadata": {},
     "output_type": "display_data"
    }
   ],
   "source": [
    "victimSchema = StructType([StructField('id', IntegerType(),True),\n",
    "                        StructField('case_id', StringType(),True),\n",
    "                        StructField('party_number', IntegerType(),True),\n",
    "                        StructField('victim_role', StringType(),True),\n",
    "                        StructField('victim_sex', StringType(),True),\n",
    "                        StructField('victim_age', StringType(),True),\n",
    "                        StructField('victim_degree_of_injury', StringType(),True),\n",
    "                        StructField('victim_seating_position', StringType(),True),\n",
    "                        StructField('victim_safety_equipment_1', StringType(),True),\n",
    "                        StructField('victim_safety_equipment_2', StringType(),True),\n",
    "                        StructField('victim_ejected', StringType(),True),\n",
    "                        ])"
   ]
  },
  {
   "cell_type": "code",
   "execution_count": 11,
   "metadata": {
    "execution": {
     "iopub.execute_input": "2025-06-17T05:02:58.046103Z",
     "iopub.status.busy": "2025-06-17T05:02:58.045888Z",
     "iopub.status.idle": "2025-06-17T05:03:00.356288Z",
     "shell.execute_reply": "2025-06-17T05:03:00.355351Z",
     "shell.execute_reply.started": "2025-06-17T05:02:58.046074Z"
    },
    "tags": []
   },
   "outputs": [
    {
     "data": {
      "application/vnd.jupyter.widget-view+json": {
       "model_id": "5f63c5ec791f464cbaec09f602c20fab",
       "version_major": 2,
       "version_minor": 0
      },
      "text/plain": [
       "VBox()"
      ]
     },
     "metadata": {},
     "output_type": "display_data"
    },
    {
     "data": {
      "application/vnd.jupyter.widget-view+json": {
       "model_id": "",
       "version_major": 2,
       "version_minor": 0
      },
      "text/plain": [
       "FloatProgress(value=0.0, bar_style='info', description='Progress:', layout=Layout(height='25px', width='50%'),…"
      ]
     },
     "metadata": {},
     "output_type": "display_data"
    },
    {
     "name": "stdout",
     "output_type": "stream",
     "text": [
      "+--------------------+\n",
      "|max(length(case_id))|\n",
      "+--------------------+\n",
      "|                  22|\n",
      "+--------------------+"
     ]
    }
   ],
   "source": [
    "victims_df2 = spark.read.load(\"/user/livy/sample_victims.csv\", format = \"csv\", header = \"true\", schema = victimSchema)\n",
    "victims_df2.select(max(length(col('case_id')))).show()"
   ]
  },
  {
   "cell_type": "markdown",
   "metadata": {},
   "source": [
    "#### 'case_id' is an integer of max 22 digits. Define a large decimal type with 22 digits and 0 scale and use it for casting"
   ]
  },
  {
   "cell_type": "code",
   "execution_count": 12,
   "metadata": {
    "execution": {
     "iopub.execute_input": "2025-06-17T05:03:00.358302Z",
     "iopub.status.busy": "2025-06-17T05:03:00.357967Z",
     "iopub.status.idle": "2025-06-17T05:03:00.615537Z",
     "shell.execute_reply": "2025-06-17T05:03:00.612589Z",
     "shell.execute_reply.started": "2025-06-17T05:03:00.358252Z"
    },
    "tags": []
   },
   "outputs": [
    {
     "data": {
      "application/vnd.jupyter.widget-view+json": {
       "model_id": "1149b8bb6ec14ef798a80dc5e486a26e",
       "version_major": 2,
       "version_minor": 0
      },
      "text/plain": [
       "VBox()"
      ]
     },
     "metadata": {},
     "output_type": "display_data"
    },
    {
     "data": {
      "application/vnd.jupyter.widget-view+json": {
       "model_id": "",
       "version_major": 2,
       "version_minor": 0
      },
      "text/plain": [
       "FloatProgress(value=0.0, bar_style='info', description='Progress:', layout=Layout(height='25px', width='50%'),…"
      ]
     },
     "metadata": {},
     "output_type": "display_data"
    }
   ],
   "source": [
    "large_case_id_decimal_type = DecimalType(22, 0)"
   ]
  },
  {
   "cell_type": "markdown",
   "metadata": {
    "id": "1wcdI4lX7BQK"
   },
   "source": [
    "#### Now validate the schema and sample records"
   ]
  },
  {
   "cell_type": "code",
   "execution_count": 13,
   "metadata": {
    "colab": {
     "referenced_widgets": [
      "9f9a4d61b6cc42e4adc9d349799e950a",
      ""
     ]
    },
    "execution": {
     "iopub.execute_input": "2025-06-17T05:03:00.618822Z",
     "iopub.status.busy": "2025-06-17T05:03:00.618501Z",
     "iopub.status.idle": "2025-06-17T05:03:01.418537Z",
     "shell.execute_reply": "2025-06-17T05:03:01.417543Z",
     "shell.execute_reply.started": "2025-06-17T05:03:00.618774Z"
    },
    "id": "w2REAV-V7BQL",
    "outputId": "cd683cc3-9fe4-427d-c6d8-ce1ae6ad0735",
    "tags": []
   },
   "outputs": [
    {
     "data": {
      "application/vnd.jupyter.widget-view+json": {
       "model_id": "e8fd80b67c06436cbfc433103ded7b51",
       "version_major": 2,
       "version_minor": 0
      },
      "text/plain": [
       "VBox()"
      ]
     },
     "metadata": {},
     "output_type": "display_data"
    },
    {
     "data": {
      "application/vnd.jupyter.widget-view+json": {
       "model_id": "",
       "version_major": 2,
       "version_minor": 0
      },
      "text/plain": [
       "FloatProgress(value=0.0, bar_style='info', description='Progress:', layout=Layout(height='25px', width='50%'),…"
      ]
     },
     "metadata": {},
     "output_type": "display_data"
    },
    {
     "name": "stdout",
     "output_type": "stream",
     "text": [
      "Victims Schema after modification:\n",
      "\n",
      "root\n",
      " |-- id: integer (nullable = true)\n",
      " |-- case_id: decimal(22,0) (nullable = true)\n",
      " |-- party_number: integer (nullable = true)\n",
      " |-- victim_role: string (nullable = true)\n",
      " |-- victim_sex: string (nullable = true)\n",
      " |-- victim_age: integer (nullable = true)\n",
      " |-- victim_degree_of_injury: string (nullable = true)\n",
      " |-- victim_seating_position: string (nullable = true)\n",
      " |-- victim_safety_equipment_1: string (nullable = true)\n",
      " |-- victim_safety_equipment_2: string (nullable = true)\n",
      " |-- victim_ejected: string (nullable = true)\n",
      "\n",
      "\n",
      "Sample data from Victims Schema:\n",
      "\n",
      "+-------+--------+------------+-----------+----------+----------+-----------------------+-----------------------+-------------------------+-------------------------+--------------+\n",
      "|     id| case_id|party_number|victim_role|victim_sex|victim_age|victim_degree_of_injury|victim_seating_position|victim_safety_equipment_1|victim_safety_equipment_2|victim_ejected|\n",
      "+-------+--------+------------+-----------+----------+----------+-----------------------+-----------------------+-------------------------+-------------------------+--------------+\n",
      "|2166324| 6324923|           1|     driver|      male|        62|      complaint of pain|                 driver|     air bag not deployed|     lap/shoulder harn...|   not ejected|\n",
      "| 779470|  761473|           1|  passenger|      male|        25|              no injury|       passenger seat 3|     lap/shoulder harn...|                     NULL|   not ejected|\n",
      "| 742636|  723123|           1|     driver|      NULL|        31|      complaint of pain|                 driver|     lap/shoulder harn...|                     NULL|   not ejected|\n",
      "|2412638| 2276798|           1|     driver|    female|        51|      complaint of pain|                 driver|     air bag not deployed|     lap/shoulder harn...|   not ejected|\n",
      "|4121224|90110954|           1|  passenger|    female|         4|              no injury|       passenger seat 4|             not required|     child restraint i...|   not ejected|\n",
      "+-------+--------+------------+-----------+----------+----------+-----------------------+-----------------------+-------------------------+-------------------------+--------------+\n",
      "only showing top 5 rows"
     ]
    }
   ],
   "source": [
    "victims_df1 = spark.read.load(\"/user/livy/sample_victims.csv\", format = \"csv\", header = \"true\", schema = victimSchema)\n",
    "\n",
    "victims_df1 = victims_df1.withColumn(\"case_id\", col(\"case_id\").cast(large_case_id_decimal_type))\n",
    "\n",
    "victims_df1 = victims_df1.withColumn(\"victim_age\", col(\"victim_age\").cast(\"int\"))\n",
    "print(\"Victims Schema after modification:\\n\")\n",
    "victims_df1.printSchema()\n",
    "print(\"\\nSample data from Victims Schema:\\n\")\n",
    "victims_df1.show(5)"
   ]
  },
  {
   "cell_type": "markdown",
   "metadata": {
    "id": "4RnyhXxQ7BQL"
   },
   "source": [
    "### 1.2 Read Parties Sample CSV File"
   ]
  },
  {
   "cell_type": "code",
   "execution_count": 14,
   "metadata": {
    "colab": {
     "referenced_widgets": [
      "7fb862d7af3b43c8860a4b0d00abb3e7",
      ""
     ]
    },
    "execution": {
     "iopub.execute_input": "2025-06-17T05:03:01.420042Z",
     "iopub.status.busy": "2025-06-17T05:03:01.419820Z",
     "iopub.status.idle": "2025-06-17T05:03:06.757556Z",
     "shell.execute_reply": "2025-06-17T05:03:06.756360Z",
     "shell.execute_reply.started": "2025-06-17T05:03:01.420013Z"
    },
    "id": "xAAXOpOD7BQL",
    "outputId": "db171ba1-78cc-4675-a7c6-7662802f2227",
    "tags": []
   },
   "outputs": [
    {
     "data": {
      "application/vnd.jupyter.widget-view+json": {
       "model_id": "576a106abe674caa9f1ca2670fdd1fb5",
       "version_major": 2,
       "version_minor": 0
      },
      "text/plain": [
       "VBox()"
      ]
     },
     "metadata": {},
     "output_type": "display_data"
    },
    {
     "data": {
      "application/vnd.jupyter.widget-view+json": {
       "model_id": "",
       "version_major": 2,
       "version_minor": 0
      },
      "text/plain": [
       "FloatProgress(value=0.0, bar_style='info', description='Progress:', layout=Layout(height='25px', width='50%'),…"
      ]
     },
     "metadata": {},
     "output_type": "display_data"
    }
   ],
   "source": [
    "parties_df = spark.read.load(\"/user/livy/sample_parties.csv\", format = \"csv\", header = \"true\", inferSchema = \"true\")"
   ]
  },
  {
   "cell_type": "code",
   "execution_count": 15,
   "metadata": {
    "colab": {
     "referenced_widgets": [
      "c4ca3e6cb4b840faacd413939cdcab3e",
      ""
     ]
    },
    "execution": {
     "iopub.execute_input": "2025-06-17T05:03:06.758981Z",
     "iopub.status.busy": "2025-06-17T05:03:06.758750Z",
     "iopub.status.idle": "2025-06-17T05:03:06.829833Z",
     "shell.execute_reply": "2025-06-17T05:03:06.828448Z",
     "shell.execute_reply.started": "2025-06-17T05:03:06.758951Z"
    },
    "id": "9U-ZM_Jq7BQL",
    "outputId": "63e48579-3ccb-4616-feb4-26aea1e12061",
    "tags": []
   },
   "outputs": [
    {
     "data": {
      "application/vnd.jupyter.widget-view+json": {
       "model_id": "2f0acfda5d7047b58fd068da5cb45145",
       "version_major": 2,
       "version_minor": 0
      },
      "text/plain": [
       "VBox()"
      ]
     },
     "metadata": {},
     "output_type": "display_data"
    },
    {
     "data": {
      "application/vnd.jupyter.widget-view+json": {
       "model_id": "",
       "version_major": 2,
       "version_minor": 0
      },
      "text/plain": [
       "FloatProgress(value=0.0, bar_style='info', description='Progress:', layout=Layout(height='25px', width='50%'),…"
      ]
     },
     "metadata": {},
     "output_type": "display_data"
    },
    {
     "name": "stdout",
     "output_type": "stream",
     "text": [
      "Parties Schema as read by PySpark:\n",
      "\n",
      "root\n",
      " |-- id: integer (nullable = true)\n",
      " |-- case_id: double (nullable = true)\n",
      " |-- party_number: integer (nullable = true)\n",
      " |-- party_type: string (nullable = true)\n",
      " |-- at_fault: integer (nullable = true)\n",
      " |-- party_sex: string (nullable = true)\n",
      " |-- party_age: double (nullable = true)\n",
      " |-- party_sobriety: string (nullable = true)\n",
      " |-- direction_of_travel: string (nullable = true)\n",
      " |-- party_safety_equipment_1: string (nullable = true)\n",
      " |-- party_safety_equipment_2: string (nullable = true)\n",
      " |-- financial_responsibility: string (nullable = true)\n",
      " |-- cellphone_in_use: double (nullable = true)\n",
      " |-- cellphone_use_type: string (nullable = true)\n",
      " |-- other_associate_factor_1: string (nullable = true)\n",
      " |-- party_number_killed: integer (nullable = true)\n",
      " |-- party_number_injured: integer (nullable = true)\n",
      " |-- movement_preceding_collision: string (nullable = true)\n",
      " |-- vehicle_year: double (nullable = true)\n",
      " |-- vehicle_make: string (nullable = true)\n",
      " |-- statewide_vehicle_type: string (nullable = true)\n",
      " |-- chp_vehicle_type_towing: string (nullable = true)\n",
      " |-- chp_vehicle_type_towed: string (nullable = true)\n",
      " |-- party_race: string (nullable = true)"
     ]
    }
   ],
   "source": [
    "print(\"Parties Schema as read by PySpark:\\n\")\n",
    "parties_df.printSchema()"
   ]
  },
  {
   "cell_type": "code",
   "execution_count": 16,
   "metadata": {
    "colab": {
     "referenced_widgets": [
      "ad85187a69d8414fa4cb3149c232b53d",
      ""
     ]
    },
    "execution": {
     "iopub.execute_input": "2025-06-17T05:03:06.831867Z",
     "iopub.status.busy": "2025-06-17T05:03:06.831556Z",
     "iopub.status.idle": "2025-06-17T05:03:07.615835Z",
     "shell.execute_reply": "2025-06-17T05:03:07.614815Z",
     "shell.execute_reply.started": "2025-06-17T05:03:06.831822Z"
    },
    "id": "sUKeZpP07BQL",
    "outputId": "3f3aad83-6b08-48e3-bed6-19f915bb8d69",
    "tags": []
   },
   "outputs": [
    {
     "data": {
      "application/vnd.jupyter.widget-view+json": {
       "model_id": "b760fdb11fcc4764bb64516f7ac70b12",
       "version_major": 2,
       "version_minor": 0
      },
      "text/plain": [
       "VBox()"
      ]
     },
     "metadata": {},
     "output_type": "display_data"
    },
    {
     "data": {
      "application/vnd.jupyter.widget-view+json": {
       "model_id": "",
       "version_major": 2,
       "version_minor": 0
      },
      "text/plain": [
       "FloatProgress(value=0.0, bar_style='info', description='Progress:', layout=Layout(height='25px', width='50%'),…"
      ]
     },
     "metadata": {},
     "output_type": "display_data"
    },
    {
     "name": "stdout",
     "output_type": "stream",
     "text": [
      "+--------+--------------------+------------+----------+--------+---------+---------+--------------------+-------------------+------------------------+------------------------+------------------------+----------------+--------------------+------------------------+-------------------+--------------------+----------------------------+------------+------------+----------------------+-----------------------+----------------------+----------+\n",
      "|      id|             case_id|party_number|party_type|at_fault|party_sex|party_age|      party_sobriety|direction_of_travel|party_safety_equipment_1|party_safety_equipment_2|financial_responsibility|cellphone_in_use|  cellphone_use_type|other_associate_factor_1|party_number_killed|party_number_injured|movement_preceding_collision|vehicle_year|vehicle_make|statewide_vehicle_type|chp_vehicle_type_towing|chp_vehicle_type_towed|party_race|\n",
      "+--------+--------------------+------------+----------+--------+---------+---------+--------------------+-------------------+------------------------+------------------------+------------------------+----------------+--------------------+------------------------+-------------------+--------------------+----------------------------+------------+------------+----------------------+-----------------------+----------------------+----------+\n",
      "| 1292305|           4843348.0|           1|    driver|       1|     male|     28.0|had not been drin...|              south|    lap/shoulder harn...|                    NULL|    no proof of insur...|            NULL|                NULL|             inattention|                  0|                   0|           making right turn|      1974.0|   chevrolet|         passenger car|                   NULL|                  NULL|      NULL|\n",
      "| 3252679|           5965300.0|           2|    driver|       0|     male|     53.0|had not been drin...|              south|    air bag not deployed|    lap/shoulder harn...|    proof of insuranc...|             0.0|cellphone not in use|    entering/leaving ...|                  0|                   0|         proceeding straight|      2000.0|      toyota|         passenger car|   passenger car, st...|                    00|  hispanic|\n",
      "| 5367929|           7110929.0|           2|    driver|       0|   female|     22.0|had not been drin...|               west|    air bag not deployed|    lap/shoulder harn...|    proof of insuranc...|             0.0|cellphone not in use|           none apparent|                  0|                   0|         proceeding straight|      2008.0|       mazda|         passenger car|   passenger car, st...|                  NULL|  hispanic|\n",
      "| 1482458|           4945119.0|           2|pedestrian|       0|   female|     52.0|had not been drin...|              south|                    NULL|                    NULL|          not applicable|             0.0|cellphone not in use|           none apparent|                  0|                   1|         proceeding straight|        NULL|        NULL|            pedestrian|             pedestrian|                    00|  hispanic|\n",
      "|16036906|9.250010821150513E18|           2|    driver|       0|   female|     34.0|had not been drin...|              south|    lap/shoulder harn...|                    NULL|    no proof of insur...|            NULL|no cellphone/unknown|           none apparent|                  0|                   0|         proceeding straight|      1976.0|        ford|         passenger car|   passenger car, st...|                    00|      NULL|\n",
      "+--------+--------------------+------------+----------+--------+---------+---------+--------------------+-------------------+------------------------+------------------------+------------------------+----------------+--------------------+------------------------+-------------------+--------------------+----------------------------+------------+------------+----------------------+-----------------------+----------------------+----------+\n",
      "only showing top 5 rows"
     ]
    }
   ],
   "source": [
    "parties_df.show(5)"
   ]
  },
  {
   "cell_type": "markdown",
   "metadata": {
    "id": "XQmyRvb47gC3"
   },
   "source": [
    "#### Inspect the colums 'case_id', 'party_age', 'vehicle_year' and cellphone_in_use"
   ]
  },
  {
   "cell_type": "code",
   "execution_count": 17,
   "metadata": {
    "execution": {
     "iopub.execute_input": "2025-06-17T05:03:07.617548Z",
     "iopub.status.busy": "2025-06-17T05:03:07.617315Z",
     "iopub.status.idle": "2025-06-17T05:03:10.919073Z",
     "shell.execute_reply": "2025-06-17T05:03:10.917951Z",
     "shell.execute_reply.started": "2025-06-17T05:03:07.617517Z"
    },
    "id": "w3uX0iu67flX",
    "tags": []
   },
   "outputs": [
    {
     "data": {
      "application/vnd.jupyter.widget-view+json": {
       "model_id": "ed5a6a67d3b6497481ef2aa0a12dc144",
       "version_major": 2,
       "version_minor": 0
      },
      "text/plain": [
       "VBox()"
      ]
     },
     "metadata": {},
     "output_type": "display_data"
    },
    {
     "data": {
      "application/vnd.jupyter.widget-view+json": {
       "model_id": "",
       "version_major": 2,
       "version_minor": 0
      },
      "text/plain": [
       "FloatProgress(value=0.0, bar_style='info', description='Progress:', layout=Layout(height='25px', width='50%'),…"
      ]
     },
     "metadata": {},
     "output_type": "display_data"
    },
    {
     "name": "stdout",
     "output_type": "stream",
     "text": [
      "+--------------------+\n",
      "|             case_id|\n",
      "+--------------------+\n",
      "|           6577619.0|\n",
      "|           5304948.0|\n",
      "|           6936449.0|\n",
      "|           8017444.0|\n",
      "|           5059621.0|\n",
      "|           5621639.0|\n",
      "|           3333832.0|\n",
      "|           2265243.0|\n",
      "|         9.1389171E7|\n",
      "|           4393203.0|\n",
      "|           3179263.0|\n",
      "|           1403433.0|\n",
      "|3.700010128125601...|\n",
      "|           3249766.0|\n",
      "|           5163354.0|\n",
      "|           3300431.0|\n",
      "|           2299152.0|\n",
      "|           8931817.0|\n",
      "|           3436879.0|\n",
      "|           3204338.0|\n",
      "+--------------------+\n",
      "only showing top 20 rows"
     ]
    }
   ],
   "source": [
    "parties_df.select(\"case_id\").distinct().show()"
   ]
  },
  {
   "cell_type": "code",
   "execution_count": 18,
   "metadata": {
    "execution": {
     "iopub.execute_input": "2025-06-17T05:03:10.920575Z",
     "iopub.status.busy": "2025-06-17T05:03:10.920330Z",
     "iopub.status.idle": "2025-06-17T05:03:14.296913Z",
     "shell.execute_reply": "2025-06-17T05:03:14.295952Z",
     "shell.execute_reply.started": "2025-06-17T05:03:10.920529Z"
    },
    "id": "aTyI_u8qAv3l",
    "tags": []
   },
   "outputs": [
    {
     "data": {
      "application/vnd.jupyter.widget-view+json": {
       "model_id": "894137ddbffa45fcb21c0137edc104b7",
       "version_major": 2,
       "version_minor": 0
      },
      "text/plain": [
       "VBox()"
      ]
     },
     "metadata": {},
     "output_type": "display_data"
    },
    {
     "data": {
      "application/vnd.jupyter.widget-view+json": {
       "model_id": "",
       "version_major": 2,
       "version_minor": 0
      },
      "text/plain": [
       "FloatProgress(value=0.0, bar_style='info', description='Progress:', layout=Layout(height='25px', width='50%'),…"
      ]
     },
     "metadata": {},
     "output_type": "display_data"
    },
    {
     "name": "stdout",
     "output_type": "stream",
     "text": [
      "+---------+\n",
      "|party_age|\n",
      "+---------+\n",
      "|     NULL|\n",
      "|     29.0|\n",
      "|     47.0|\n",
      "|      1.0|\n",
      "|     94.0|\n",
      "|    114.0|\n",
      "|    103.0|\n",
      "|    106.0|\n",
      "|     63.0|\n",
      "|     82.0|\n",
      "|     66.0|\n",
      "|     61.0|\n",
      "|     46.0|\n",
      "|     28.0|\n",
      "|     13.0|\n",
      "|     26.0|\n",
      "|     76.0|\n",
      "|     69.0|\n",
      "|     98.0|\n",
      "|     85.0|\n",
      "+---------+\n",
      "only showing top 20 rows"
     ]
    }
   ],
   "source": [
    "parties_df.select(\"party_age\").distinct().show()"
   ]
  },
  {
   "cell_type": "code",
   "execution_count": 19,
   "metadata": {
    "execution": {
     "iopub.execute_input": "2025-06-17T05:03:14.298450Z",
     "iopub.status.busy": "2025-06-17T05:03:14.298187Z",
     "iopub.status.idle": "2025-06-17T05:03:19.795140Z",
     "shell.execute_reply": "2025-06-17T05:03:19.794030Z",
     "shell.execute_reply.started": "2025-06-17T05:03:14.298404Z"
    },
    "id": "zOPHl8coAwZb",
    "tags": []
   },
   "outputs": [
    {
     "data": {
      "application/vnd.jupyter.widget-view+json": {
       "model_id": "db8336048cf545bb9d01c24db251b521",
       "version_major": 2,
       "version_minor": 0
      },
      "text/plain": [
       "VBox()"
      ]
     },
     "metadata": {},
     "output_type": "display_data"
    },
    {
     "data": {
      "application/vnd.jupyter.widget-view+json": {
       "model_id": "",
       "version_major": 2,
       "version_minor": 0
      },
      "text/plain": [
       "FloatProgress(value=0.0, bar_style='info', description='Progress:', layout=Layout(height='25px', width='50%'),…"
      ]
     },
     "metadata": {},
     "output_type": "display_data"
    },
    {
     "name": "stdout",
     "output_type": "stream",
     "text": [
      "+------------+\n",
      "|vehicle_year|\n",
      "+------------+\n",
      "|        NULL|\n",
      "|      1909.0|\n",
      "|      2010.0|\n",
      "|      1932.0|\n",
      "|      1996.0|\n",
      "|      1969.0|\n",
      "|      1998.0|\n",
      "|      1985.0|\n",
      "|      1944.0|\n",
      "|      2017.0|\n",
      "|      2200.0|\n",
      "|      1948.0|\n",
      "|      1994.0|\n",
      "|      1921.0|\n",
      "|      1926.0|\n",
      "|      1920.0|\n",
      "|      2006.0|\n",
      "|      1947.0|\n",
      "|      1972.0|\n",
      "|      2015.0|\n",
      "+------------+\n",
      "only showing top 20 rows"
     ]
    }
   ],
   "source": [
    "parties_df.select(\"vehicle_year\").distinct().show()"
   ]
  },
  {
   "cell_type": "code",
   "execution_count": 20,
   "metadata": {
    "execution": {
     "iopub.execute_input": "2025-06-17T05:03:19.796596Z",
     "iopub.status.busy": "2025-06-17T05:03:19.796384Z",
     "iopub.status.idle": "2025-06-17T05:03:23.119118Z",
     "shell.execute_reply": "2025-06-17T05:03:23.118110Z",
     "shell.execute_reply.started": "2025-06-17T05:03:19.796566Z"
    },
    "id": "d6-rHbhyAwr5",
    "tags": []
   },
   "outputs": [
    {
     "data": {
      "application/vnd.jupyter.widget-view+json": {
       "model_id": "11a6d3cae52d45258d0b60c2dfae940b",
       "version_major": 2,
       "version_minor": 0
      },
      "text/plain": [
       "VBox()"
      ]
     },
     "metadata": {},
     "output_type": "display_data"
    },
    {
     "data": {
      "application/vnd.jupyter.widget-view+json": {
       "model_id": "",
       "version_major": 2,
       "version_minor": 0
      },
      "text/plain": [
       "FloatProgress(value=0.0, bar_style='info', description='Progress:', layout=Layout(height='25px', width='50%'),…"
      ]
     },
     "metadata": {},
     "output_type": "display_data"
    },
    {
     "name": "stdout",
     "output_type": "stream",
     "text": [
      "+----------------+\n",
      "|cellphone_in_use|\n",
      "+----------------+\n",
      "|            NULL|\n",
      "|             1.0|\n",
      "|             0.0|\n",
      "+----------------+"
     ]
    }
   ],
   "source": [
    "parties_df.select(\"cellphone_in_use\").distinct().show()"
   ]
  },
  {
   "cell_type": "markdown",
   "metadata": {
    "id": "0rIstNk9BAsc"
   },
   "source": [
    "#### Some of the data types in Party schema need to change\n",
    "\n",
    "- 'case_id': double --> long int as case id is of 19 digit number with no precision\n",
    "- 'party_age': double --> int\n",
    "- 'vehicle_year': double --> int\n",
    "- 'cellphone_in_use': double --> int"
   ]
  },
  {
   "cell_type": "markdown",
   "metadata": {
    "id": "vp9y5DOeB3ns"
   },
   "source": [
    "#### Define schema with 'case_id', 'party_age', 'vehicle_year' and  'cellphone_in_use' as String and after Spark read, cast to the target data type explicitly. This is intermediate steps is intriduced as a direct schema read into target data type is resulting into NULL values in the table."
   ]
  },
  {
   "cell_type": "code",
   "execution_count": 21,
   "metadata": {
    "execution": {
     "iopub.execute_input": "2025-06-17T05:03:23.120657Z",
     "iopub.status.busy": "2025-06-17T05:03:23.120433Z",
     "iopub.status.idle": "2025-06-17T05:03:23.185799Z",
     "shell.execute_reply": "2025-06-17T05:03:23.184730Z",
     "shell.execute_reply.started": "2025-06-17T05:03:23.120627Z"
    },
    "id": "y5-wP6esA6W6",
    "tags": []
   },
   "outputs": [
    {
     "data": {
      "application/vnd.jupyter.widget-view+json": {
       "model_id": "7f9422ac46b949cea3ec28754cb1a554",
       "version_major": 2,
       "version_minor": 0
      },
      "text/plain": [
       "VBox()"
      ]
     },
     "metadata": {},
     "output_type": "display_data"
    },
    {
     "data": {
      "application/vnd.jupyter.widget-view+json": {
       "model_id": "",
       "version_major": 2,
       "version_minor": 0
      },
      "text/plain": [
       "FloatProgress(value=0.0, bar_style='info', description='Progress:', layout=Layout(height='25px', width='50%'),…"
      ]
     },
     "metadata": {},
     "output_type": "display_data"
    }
   ],
   "source": [
    "partiesSchema = StructType([StructField('id', IntegerType(),True),\n",
    "                        StructField('case_id', StringType(),True),\n",
    "                        StructField('party_number', IntegerType(),True),\n",
    "                        StructField('party_type', StringType(),True),\n",
    "                        StructField('at_fault', IntegerType(),True),\n",
    "                        StructField('party_sex', StringType(),True),\n",
    "                        StructField('party_age', StringType(),True),\n",
    "                        StructField('party_sobriety', StringType(),True),\n",
    "                        StructField('direction_of_travel', StringType(),True),\n",
    "                        StructField('party_safety_equipment_1', StringType(),True),\n",
    "                        StructField('party_safety_equipment_2', StringType(),True),\n",
    "                        StructField('financial_responsibility', StringType(),True),\n",
    "                        StructField('cellphone_in_use', StringType(),True),\n",
    "                        StructField('cellphone_use_type', StringType(),True),\n",
    "                        StructField('other_associate_factor_1', StringType(),True),\n",
    "                        StructField('party_number_killed', IntegerType(),True),\n",
    "                        StructField('party_number_injured', IntegerType(),True),\n",
    "                        StructField('movement_preceding_collision', StringType(),True),\n",
    "                        StructField('vehicle_year', StringType(),True),\n",
    "                        StructField('vehicle_make', StringType(),True),\n",
    "                        StructField('statewide_vehicle_type', StringType(),True),\n",
    "                        StructField('chp_vehicle_type_towing', StringType(),True),\n",
    "                        StructField('chp_vehicle_type_towed', StringType(),True),\n",
    "                        StructField('party_race', StringType(),True),\n",
    "                        ])"
   ]
  },
  {
   "cell_type": "code",
   "execution_count": 22,
   "metadata": {
    "execution": {
     "iopub.execute_input": "2025-06-17T05:03:23.187497Z",
     "iopub.status.busy": "2025-06-17T05:03:23.187157Z",
     "iopub.status.idle": "2025-06-17T05:03:28.680099Z",
     "shell.execute_reply": "2025-06-17T05:03:28.679081Z",
     "shell.execute_reply.started": "2025-06-17T05:03:23.187451Z"
    },
    "tags": []
   },
   "outputs": [
    {
     "data": {
      "application/vnd.jupyter.widget-view+json": {
       "model_id": "b069d278b1b346d5b3885f593ca9c677",
       "version_major": 2,
       "version_minor": 0
      },
      "text/plain": [
       "VBox()"
      ]
     },
     "metadata": {},
     "output_type": "display_data"
    },
    {
     "data": {
      "application/vnd.jupyter.widget-view+json": {
       "model_id": "",
       "version_major": 2,
       "version_minor": 0
      },
      "text/plain": [
       "FloatProgress(value=0.0, bar_style='info', description='Progress:', layout=Layout(height='25px', width='50%'),…"
      ]
     },
     "metadata": {},
     "output_type": "display_data"
    },
    {
     "name": "stdout",
     "output_type": "stream",
     "text": [
      "+--------------------+\n",
      "|max(length(case_id))|\n",
      "+--------------------+\n",
      "|                  22|\n",
      "+--------------------+"
     ]
    }
   ],
   "source": [
    "parties_df2 = spark.read.load(\"/user/livy/sample_parties.csv\", format = \"csv\", header = \"true\", schema = partiesSchema)\n",
    "parties_df2.select(max(length(col('case_id')))).show()"
   ]
  },
  {
   "cell_type": "markdown",
   "metadata": {},
   "source": [
    "#### 'case_id' is an integer of max 22 digits. Define a large decimal type with 22 digits and 0 scale and use it for casting"
   ]
  },
  {
   "cell_type": "markdown",
   "metadata": {
    "id": "bp7hbgCUFmaC"
   },
   "source": [
    "#### Now validate the schema and sample records"
   ]
  },
  {
   "cell_type": "code",
   "execution_count": 23,
   "metadata": {
    "execution": {
     "iopub.execute_input": "2025-06-17T05:03:28.685793Z",
     "iopub.status.busy": "2025-06-17T05:03:28.685580Z",
     "iopub.status.idle": "2025-06-17T05:03:29.464356Z",
     "shell.execute_reply": "2025-06-17T05:03:29.463249Z",
     "shell.execute_reply.started": "2025-06-17T05:03:28.685763Z"
    },
    "id": "LW-j_jEJFq-7",
    "tags": []
   },
   "outputs": [
    {
     "data": {
      "application/vnd.jupyter.widget-view+json": {
       "model_id": "100abdb397fc40099fbc5fbeda285302",
       "version_major": 2,
       "version_minor": 0
      },
      "text/plain": [
       "VBox()"
      ]
     },
     "metadata": {},
     "output_type": "display_data"
    },
    {
     "data": {
      "application/vnd.jupyter.widget-view+json": {
       "model_id": "",
       "version_major": 2,
       "version_minor": 0
      },
      "text/plain": [
       "FloatProgress(value=0.0, bar_style='info', description='Progress:', layout=Layout(height='25px', width='50%'),…"
      ]
     },
     "metadata": {},
     "output_type": "display_data"
    },
    {
     "name": "stdout",
     "output_type": "stream",
     "text": [
      "Parties Schema after modification:\n",
      "\n",
      "root\n",
      " |-- id: integer (nullable = true)\n",
      " |-- case_id: decimal(22,0) (nullable = true)\n",
      " |-- party_number: integer (nullable = true)\n",
      " |-- party_type: string (nullable = true)\n",
      " |-- at_fault: integer (nullable = true)\n",
      " |-- party_sex: string (nullable = true)\n",
      " |-- party_age: integer (nullable = true)\n",
      " |-- party_sobriety: string (nullable = true)\n",
      " |-- direction_of_travel: string (nullable = true)\n",
      " |-- party_safety_equipment_1: string (nullable = true)\n",
      " |-- party_safety_equipment_2: string (nullable = true)\n",
      " |-- financial_responsibility: string (nullable = true)\n",
      " |-- cellphone_in_use: integer (nullable = true)\n",
      " |-- cellphone_use_type: string (nullable = true)\n",
      " |-- other_associate_factor_1: string (nullable = true)\n",
      " |-- party_number_killed: integer (nullable = true)\n",
      " |-- party_number_injured: integer (nullable = true)\n",
      " |-- movement_preceding_collision: string (nullable = true)\n",
      " |-- vehicle_year: integer (nullable = true)\n",
      " |-- vehicle_make: string (nullable = true)\n",
      " |-- statewide_vehicle_type: string (nullable = true)\n",
      " |-- chp_vehicle_type_towing: string (nullable = true)\n",
      " |-- chp_vehicle_type_towed: string (nullable = true)\n",
      " |-- party_race: string (nullable = true)\n",
      "\n",
      "\n",
      "Sample data from Parties Schema:\n",
      "\n",
      "+--------+-------------------+------------+----------+--------+---------+---------+--------------------+-------------------+------------------------+------------------------+------------------------+----------------+--------------------+------------------------+-------------------+--------------------+----------------------------+------------+------------+----------------------+-----------------------+----------------------+----------+\n",
      "|      id|            case_id|party_number|party_type|at_fault|party_sex|party_age|      party_sobriety|direction_of_travel|party_safety_equipment_1|party_safety_equipment_2|financial_responsibility|cellphone_in_use|  cellphone_use_type|other_associate_factor_1|party_number_killed|party_number_injured|movement_preceding_collision|vehicle_year|vehicle_make|statewide_vehicle_type|chp_vehicle_type_towing|chp_vehicle_type_towed|party_race|\n",
      "+--------+-------------------+------------+----------+--------+---------+---------+--------------------+-------------------+------------------------+------------------------+------------------------+----------------+--------------------+------------------------+-------------------+--------------------+----------------------------+------------+------------+----------------------+-----------------------+----------------------+----------+\n",
      "| 1292305|            4843348|           1|    driver|       1|     male|       28|had not been drin...|              south|    lap/shoulder harn...|                    NULL|    no proof of insur...|            NULL|                NULL|             inattention|                  0|                   0|           making right turn|        1974|   chevrolet|         passenger car|                   NULL|                  NULL|      NULL|\n",
      "| 3252679|            5965300|           2|    driver|       0|     male|       53|had not been drin...|              south|    air bag not deployed|    lap/shoulder harn...|    proof of insuranc...|               0|cellphone not in use|    entering/leaving ...|                  0|                   0|         proceeding straight|        2000|      toyota|         passenger car|   passenger car, st...|                    00|  hispanic|\n",
      "| 5367929|            7110929|           2|    driver|       0|   female|       22|had not been drin...|               west|    air bag not deployed|    lap/shoulder harn...|    proof of insuranc...|               0|cellphone not in use|           none apparent|                  0|                   0|         proceeding straight|        2008|       mazda|         passenger car|   passenger car, st...|                  NULL|  hispanic|\n",
      "| 1482458|            4945119|           2|pedestrian|       0|   female|       52|had not been drin...|              south|                    NULL|                    NULL|          not applicable|               0|cellphone not in use|           none apparent|                  0|                   1|         proceeding straight|        NULL|        NULL|            pedestrian|             pedestrian|                    00|  hispanic|\n",
      "|16036906|9250010821150513000|           2|    driver|       0|   female|       34|had not been drin...|              south|    lap/shoulder harn...|                    NULL|    no proof of insur...|            NULL|no cellphone/unknown|           none apparent|                  0|                   0|         proceeding straight|        1976|        ford|         passenger car|   passenger car, st...|                    00|      NULL|\n",
      "+--------+-------------------+------------+----------+--------+---------+---------+--------------------+-------------------+------------------------+------------------------+------------------------+----------------+--------------------+------------------------+-------------------+--------------------+----------------------------+------------+------------+----------------------+-----------------------+----------------------+----------+\n",
      "only showing top 5 rows"
     ]
    }
   ],
   "source": [
    "parties_df1 = spark.read.load(\"/user/livy/sample_parties.csv\", format = \"csv\", header = \"true\", schema = partiesSchema)\n",
    "\n",
    "parties_df1 = parties_df1.withColumn(\"case_id\", col(\"case_id\").cast(large_case_id_decimal_type))\n",
    "\n",
    "parties_df1 = parties_df1.withColumn(\"party_age\", col(\"party_age\").cast(\"int\"))\n",
    "parties_df1 = parties_df1.withColumn(\"cellphone_in_use\", col(\"cellphone_in_use\").cast(\"int\"))\n",
    "parties_df1 = parties_df1.withColumn(\"vehicle_year\", col(\"vehicle_year\").cast(\"int\"))\n",
    "print(\"Parties Schema after modification:\\n\")\n",
    "parties_df1.printSchema()\n",
    "print(\"\\nSample data from Parties Schema:\\n\")\n",
    "parties_df1.show(5)"
   ]
  },
  {
   "cell_type": "code",
   "execution_count": 24,
   "metadata": {
    "execution": {
     "iopub.execute_input": "2025-06-17T05:03:29.467604Z",
     "iopub.status.busy": "2025-06-17T05:03:29.467371Z",
     "iopub.status.idle": "2025-06-17T05:03:34.779552Z",
     "shell.execute_reply": "2025-06-17T05:03:34.778581Z",
     "shell.execute_reply.started": "2025-06-17T05:03:29.467575Z"
    },
    "id": "ZKXqRlefl0fA",
    "tags": []
   },
   "outputs": [
    {
     "data": {
      "application/vnd.jupyter.widget-view+json": {
       "model_id": "b30d78f3da8943c5a5647a7c4111beed",
       "version_major": 2,
       "version_minor": 0
      },
      "text/plain": [
       "VBox()"
      ]
     },
     "metadata": {},
     "output_type": "display_data"
    },
    {
     "data": {
      "application/vnd.jupyter.widget-view+json": {
       "model_id": "",
       "version_major": 2,
       "version_minor": 0
      },
      "text/plain": [
       "FloatProgress(value=0.0, bar_style='info', description='Progress:', layout=Layout(height='25px', width='50%'),…"
      ]
     },
     "metadata": {},
     "output_type": "display_data"
    },
    {
     "name": "stdout",
     "output_type": "stream",
     "text": [
      "+-------------------+\n",
      "|            case_id|\n",
      "+-------------------+\n",
      "|9252010105233514000|\n",
      "|             295388|\n",
      "|            9089584|\n",
      "|            7059163|\n",
      "|           90217428|\n",
      "|            2544466|\n",
      "|           90616884|\n",
      "|            2258927|\n",
      "|            9020118|\n",
      "|            1282340|\n",
      "|           91031051|\n",
      "|            1035951|\n",
      "|             556275|\n",
      "|            2383501|\n",
      "|            5100942|\n",
      "|            8649659|\n",
      "|            2241991|\n",
      "|            5912077|\n",
      "|            4287744|\n",
      "|            6414430|\n",
      "+-------------------+\n",
      "only showing top 20 rows"
     ]
    }
   ],
   "source": [
    "parties_df1.select(\"case_id\").distinct().show()"
   ]
  },
  {
   "cell_type": "code",
   "execution_count": 25,
   "metadata": {
    "execution": {
     "iopub.execute_input": "2025-06-17T05:03:34.781143Z",
     "iopub.status.busy": "2025-06-17T05:03:34.780864Z",
     "iopub.status.idle": "2025-06-17T05:03:38.077530Z",
     "shell.execute_reply": "2025-06-17T05:03:38.076226Z",
     "shell.execute_reply.started": "2025-06-17T05:03:34.781108Z"
    },
    "id": "tuGcrHoBl0sb",
    "tags": []
   },
   "outputs": [
    {
     "data": {
      "application/vnd.jupyter.widget-view+json": {
       "model_id": "7d22f4ce839840c5a77152dca15b5930",
       "version_major": 2,
       "version_minor": 0
      },
      "text/plain": [
       "VBox()"
      ]
     },
     "metadata": {},
     "output_type": "display_data"
    },
    {
     "data": {
      "application/vnd.jupyter.widget-view+json": {
       "model_id": "",
       "version_major": 2,
       "version_minor": 0
      },
      "text/plain": [
       "FloatProgress(value=0.0, bar_style='info', description='Progress:', layout=Layout(height='25px', width='50%'),…"
      ]
     },
     "metadata": {},
     "output_type": "display_data"
    },
    {
     "name": "stdout",
     "output_type": "stream",
     "text": [
      "+---------+\n",
      "|party_age|\n",
      "+---------+\n",
      "|     NULL|\n",
      "|       65|\n",
      "|       66|\n",
      "|       67|\n",
      "|       68|\n",
      "|       69|\n",
      "|       70|\n",
      "|       71|\n",
      "|       72|\n",
      "|       73|\n",
      "|       74|\n",
      "|       75|\n",
      "|       76|\n",
      "|       77|\n",
      "|       78|\n",
      "|       79|\n",
      "|       80|\n",
      "|       81|\n",
      "|       82|\n",
      "|       83|\n",
      "+---------+\n",
      "only showing top 20 rows"
     ]
    }
   ],
   "source": [
    "parties_df1.select(\"party_age\").distinct().show()"
   ]
  },
  {
   "cell_type": "code",
   "execution_count": 26,
   "metadata": {
    "execution": {
     "iopub.execute_input": "2025-06-17T05:03:38.079409Z",
     "iopub.status.busy": "2025-06-17T05:03:38.079098Z",
     "iopub.status.idle": "2025-06-17T05:03:43.429322Z",
     "shell.execute_reply": "2025-06-17T05:03:43.428225Z",
     "shell.execute_reply.started": "2025-06-17T05:03:38.079362Z"
    },
    "id": "eAJ1-nUdl00F",
    "tags": []
   },
   "outputs": [
    {
     "data": {
      "application/vnd.jupyter.widget-view+json": {
       "model_id": "401884debd4247d182165e08a49a9431",
       "version_major": 2,
       "version_minor": 0
      },
      "text/plain": [
       "VBox()"
      ]
     },
     "metadata": {},
     "output_type": "display_data"
    },
    {
     "data": {
      "application/vnd.jupyter.widget-view+json": {
       "model_id": "",
       "version_major": 2,
       "version_minor": 0
      },
      "text/plain": [
       "FloatProgress(value=0.0, bar_style='info', description='Progress:', layout=Layout(height='25px', width='50%'),…"
      ]
     },
     "metadata": {},
     "output_type": "display_data"
    },
    {
     "name": "stdout",
     "output_type": "stream",
     "text": [
      "+------------+\n",
      "|vehicle_year|\n",
      "+------------+\n",
      "|        NULL|\n",
      "|        2003|\n",
      "|        2004|\n",
      "|        2005|\n",
      "|        2006|\n",
      "|        2007|\n",
      "|        2008|\n",
      "|        2009|\n",
      "|        2010|\n",
      "|        2011|\n",
      "|        2012|\n",
      "|        2013|\n",
      "|        2014|\n",
      "|        2015|\n",
      "|        2016|\n",
      "|        2017|\n",
      "|        2018|\n",
      "|        2019|\n",
      "|        2020|\n",
      "|        2021|\n",
      "+------------+\n",
      "only showing top 20 rows"
     ]
    }
   ],
   "source": [
    "parties_df1.select(\"vehicle_year\").distinct().show()"
   ]
  },
  {
   "cell_type": "code",
   "execution_count": 27,
   "metadata": {
    "execution": {
     "iopub.execute_input": "2025-06-17T05:03:43.431178Z",
     "iopub.status.busy": "2025-06-17T05:03:43.430836Z",
     "iopub.status.idle": "2025-06-17T05:03:46.755951Z",
     "shell.execute_reply": "2025-06-17T05:03:46.754665Z",
     "shell.execute_reply.started": "2025-06-17T05:03:43.431130Z"
    },
    "id": "wqyXvgs2l1FG",
    "tags": []
   },
   "outputs": [
    {
     "data": {
      "application/vnd.jupyter.widget-view+json": {
       "model_id": "32cd27d93ff34c459b1eea2728704ba2",
       "version_major": 2,
       "version_minor": 0
      },
      "text/plain": [
       "VBox()"
      ]
     },
     "metadata": {},
     "output_type": "display_data"
    },
    {
     "data": {
      "application/vnd.jupyter.widget-view+json": {
       "model_id": "",
       "version_major": 2,
       "version_minor": 0
      },
      "text/plain": [
       "FloatProgress(value=0.0, bar_style='info', description='Progress:', layout=Layout(height='25px', width='50%'),…"
      ]
     },
     "metadata": {},
     "output_type": "display_data"
    },
    {
     "name": "stdout",
     "output_type": "stream",
     "text": [
      "+----------------+\n",
      "|cellphone_in_use|\n",
      "+----------------+\n",
      "|            NULL|\n",
      "|               1|\n",
      "|               0|\n",
      "+----------------+"
     ]
    }
   ],
   "source": [
    "parties_df1.select(\"cellphone_in_use\").distinct().show()"
   ]
  },
  {
   "cell_type": "markdown",
   "metadata": {
    "id": "8xrasRzr7BQM"
   },
   "source": [
    "### 1.3 Read Collisions Sample CSV File"
   ]
  },
  {
   "cell_type": "code",
   "execution_count": 28,
   "metadata": {
    "colab": {
     "referenced_widgets": [
      "f8e1926e44504d94b8058f21240b1e4e",
      ""
     ]
    },
    "execution": {
     "iopub.execute_input": "2025-06-17T05:03:46.758062Z",
     "iopub.status.busy": "2025-06-17T05:03:46.757751Z",
     "iopub.status.idle": "2025-06-17T05:03:54.136003Z",
     "shell.execute_reply": "2025-06-17T05:03:54.134875Z",
     "shell.execute_reply.started": "2025-06-17T05:03:46.758016Z"
    },
    "id": "T7yqIKTR7BQM",
    "outputId": "a4403ae6-4f32-47af-daea-9851ed8b40ba",
    "tags": []
   },
   "outputs": [
    {
     "data": {
      "application/vnd.jupyter.widget-view+json": {
       "model_id": "5f6de84cbe25498ca05979261b7785ec",
       "version_major": 2,
       "version_minor": 0
      },
      "text/plain": [
       "VBox()"
      ]
     },
     "metadata": {},
     "output_type": "display_data"
    },
    {
     "data": {
      "application/vnd.jupyter.widget-view+json": {
       "model_id": "",
       "version_major": 2,
       "version_minor": 0
      },
      "text/plain": [
       "FloatProgress(value=0.0, bar_style='info', description='Progress:', layout=Layout(height='25px', width='50%'),…"
      ]
     },
     "metadata": {},
     "output_type": "display_data"
    }
   ],
   "source": [
    "collisions_df = spark.read.load(\"/user/livy/sample_collisions.csv\", format = \"csv\", header = \"true\", inferSchema = \"true\")"
   ]
  },
  {
   "cell_type": "code",
   "execution_count": 29,
   "metadata": {
    "colab": {
     "referenced_widgets": [
      "38c199152df54cbdadf873b4ac1fba14",
      ""
     ]
    },
    "execution": {
     "iopub.execute_input": "2025-06-17T05:03:54.137575Z",
     "iopub.status.busy": "2025-06-17T05:03:54.137293Z",
     "iopub.status.idle": "2025-06-17T05:03:54.204431Z",
     "shell.execute_reply": "2025-06-17T05:03:54.203461Z",
     "shell.execute_reply.started": "2025-06-17T05:03:54.137544Z"
    },
    "id": "a6WDq13n7BQM",
    "outputId": "bf2e03cd-25fe-4e27-d225-7e5fd803162c",
    "tags": []
   },
   "outputs": [
    {
     "data": {
      "application/vnd.jupyter.widget-view+json": {
       "model_id": "52191cf2a1f240c5aeb22cd569890e88",
       "version_major": 2,
       "version_minor": 0
      },
      "text/plain": [
       "VBox()"
      ]
     },
     "metadata": {},
     "output_type": "display_data"
    },
    {
     "data": {
      "application/vnd.jupyter.widget-view+json": {
       "model_id": "",
       "version_major": 2,
       "version_minor": 0
      },
      "text/plain": [
       "FloatProgress(value=0.0, bar_style='info', description='Progress:', layout=Layout(height='25px', width='50%'),…"
      ]
     },
     "metadata": {},
     "output_type": "display_data"
    },
    {
     "name": "stdout",
     "output_type": "stream",
     "text": [
      "Collissions Schema as read by PySpark:\n",
      "\n",
      "root\n",
      " |-- case_id: double (nullable = true)\n",
      " |-- jurisdiction: double (nullable = true)\n",
      " |-- officer_id: string (nullable = true)\n",
      " |-- reporting_district: string (nullable = true)\n",
      " |-- chp_shift: string (nullable = true)\n",
      " |-- population: string (nullable = true)\n",
      " |-- county_city_location: integer (nullable = true)\n",
      " |-- county_location: string (nullable = true)\n",
      " |-- special_condition: double (nullable = true)\n",
      " |-- beat_type: string (nullable = true)\n",
      " |-- chp_beat_type: string (nullable = true)\n",
      " |-- chp_beat_class: string (nullable = true)\n",
      " |-- beat_number: string (nullable = true)\n",
      " |-- primary_road: string (nullable = true)\n",
      " |-- secondary_road: string (nullable = true)\n",
      " |-- distance: double (nullable = true)\n",
      " |-- direction: string (nullable = true)\n",
      " |-- intersection: double (nullable = true)\n",
      " |-- weather_1: string (nullable = true)\n",
      " |-- state_highway_indicator: double (nullable = true)\n",
      " |-- caltrans_county: string (nullable = true)\n",
      " |-- caltrans_district: double (nullable = true)\n",
      " |-- state_route: double (nullable = true)\n",
      " |-- postmile: double (nullable = true)\n",
      " |-- location_type: string (nullable = true)\n",
      " |-- side_of_highway: string (nullable = true)\n",
      " |-- tow_away: double (nullable = true)\n",
      " |-- collision_severity: string (nullable = true)\n",
      " |-- killed_victims: double (nullable = true)\n",
      " |-- injured_victims: double (nullable = true)\n",
      " |-- party_count: double (nullable = true)\n",
      " |-- primary_collision_factor: string (nullable = true)\n",
      " |-- pcf_violation_category: string (nullable = true)\n",
      " |-- pcf_violation: double (nullable = true)\n",
      " |-- pcf_violation_subsection: string (nullable = true)\n",
      " |-- hit_and_run: string (nullable = true)\n",
      " |-- type_of_collision: string (nullable = true)\n",
      " |-- motor_vehicle_involved_with: string (nullable = true)\n",
      " |-- pedestrian_action: string (nullable = true)\n",
      " |-- road_surface: string (nullable = true)\n",
      " |-- road_condition_1: string (nullable = true)\n",
      " |-- lighting: string (nullable = true)\n",
      " |-- control_device: string (nullable = true)\n",
      " |-- chp_road_type: double (nullable = true)\n",
      " |-- pedestrian_collision: integer (nullable = true)\n",
      " |-- bicycle_collision: integer (nullable = true)\n",
      " |-- motorcycle_collision: integer (nullable = true)\n",
      " |-- truck_collision: integer (nullable = true)\n",
      " |-- not_private_property: double (nullable = true)\n",
      " |-- statewide_vehicle_type_at_fault: string (nullable = true)\n",
      " |-- chp_vehicle_type_at_fault: string (nullable = true)\n",
      " |-- severe_injury_count: integer (nullable = true)\n",
      " |-- other_visible_injury_count: integer (nullable = true)\n",
      " |-- complaint_of_pain_injury_count: integer (nullable = true)\n",
      " |-- pedestrian_killed_count: integer (nullable = true)\n",
      " |-- pedestrian_injured_count: integer (nullable = true)\n",
      " |-- bicyclist_killed_count: integer (nullable = true)\n",
      " |-- bicyclist_injured_count: integer (nullable = true)\n",
      " |-- motorcyclist_killed_count: integer (nullable = true)\n",
      " |-- motorcyclist_injured_count: double (nullable = true)\n",
      " |-- latitude: double (nullable = true)\n",
      " |-- longitude: double (nullable = true)\n",
      " |-- collision_date: date (nullable = true)\n",
      " |-- collision_time: timestamp (nullable = true)\n",
      " |-- process_date: date (nullable = true)"
     ]
    }
   ],
   "source": [
    "print(\"Collissions Schema as read by PySpark:\\n\")\n",
    "collisions_df.printSchema()"
   ]
  },
  {
   "cell_type": "code",
   "execution_count": 30,
   "metadata": {
    "colab": {
     "referenced_widgets": [
      "36162892482a4b8ea2455eeeecfa8449",
      ""
     ]
    },
    "execution": {
     "iopub.execute_input": "2025-06-17T05:03:54.205997Z",
     "iopub.status.busy": "2025-06-17T05:03:54.205702Z",
     "iopub.status.idle": "2025-06-17T05:03:54.987896Z",
     "shell.execute_reply": "2025-06-17T05:03:54.986826Z",
     "shell.execute_reply.started": "2025-06-17T05:03:54.205966Z"
    },
    "id": "ZHHHeX8k7BQM",
    "outputId": "e77ff17e-87e3-45e7-ba16-d53d760a3044",
    "tags": []
   },
   "outputs": [
    {
     "data": {
      "application/vnd.jupyter.widget-view+json": {
       "model_id": "b9807e470de04668bd6a49a2b188b62f",
       "version_major": 2,
       "version_minor": 0
      },
      "text/plain": [
       "VBox()"
      ]
     },
     "metadata": {},
     "output_type": "display_data"
    },
    {
     "data": {
      "application/vnd.jupyter.widget-view+json": {
       "model_id": "",
       "version_major": 2,
       "version_minor": 0
      },
      "text/plain": [
       "FloatProgress(value=0.0, bar_style='info', description='Progress:', layout=Layout(height='25px', width='50%'),…"
      ]
     },
     "metadata": {},
     "output_type": "display_data"
    },
    {
     "name": "stdout",
     "output_type": "stream",
     "text": [
      "+-----------+------------+----------+------------------+--------------+----------------+--------------------+---------------+-----------------+-------------------+----------------+--------------+-----------+------------------+--------------+--------+---------+------------+---------+-----------------------+---------------+-----------------+-----------+--------+-------------+---------------+--------+--------------------+--------------+---------------+-----------+------------------------+----------------------+-------------+------------------------+---------------+-----------------+---------------------------+--------------------+------------+----------------+--------------------+--------------+-------------+--------------------+-----------------+--------------------+---------------+--------------------+-------------------------------+-------------------------+-------------------+--------------------------+------------------------------+-----------------------+------------------------+----------------------+-----------------------+-------------------------+--------------------------+--------+----------+--------------+-------------------+------------+\n",
      "|    case_id|jurisdiction|officer_id|reporting_district|     chp_shift|      population|county_city_location|county_location|special_condition|          beat_type|   chp_beat_type|chp_beat_class|beat_number|      primary_road|secondary_road|distance|direction|intersection|weather_1|state_highway_indicator|caltrans_county|caltrans_district|state_route|postmile|location_type|side_of_highway|tow_away|  collision_severity|killed_victims|injured_victims|party_count|primary_collision_factor|pcf_violation_category|pcf_violation|pcf_violation_subsection|    hit_and_run|type_of_collision|motor_vehicle_involved_with|   pedestrian_action|road_surface|road_condition_1|            lighting|control_device|chp_road_type|pedestrian_collision|bicycle_collision|motorcycle_collision|truck_collision|not_private_property|statewide_vehicle_type_at_fault|chp_vehicle_type_at_fault|severe_injury_count|other_visible_injury_count|complaint_of_pain_injury_count|pedestrian_killed_count|pedestrian_injured_count|bicyclist_killed_count|bicyclist_injured_count|motorcyclist_killed_count|motorcyclist_injured_count|latitude| longitude|collision_date|     collision_time|process_date|\n",
      "+-----------+------------+----------+------------------+--------------+----------------+--------------------+---------------+-----------------+-------------------+----------------+--------------+-----------+------------------+--------------+--------+---------+------------+---------+-----------------------+---------------+-----------------+-----------+--------+-------------+---------------+--------+--------------------+--------------+---------------+-----------+------------------------+----------------------+-------------+------------------------+---------------+-----------------+---------------------------+--------------------+------------+----------------+--------------------+--------------+-------------+--------------------+-----------------+--------------------+---------------+--------------------+-------------------------------+-------------------------+-------------------+--------------------------+------------------------------+-----------------------+------------------------+----------------------+-----------------------+-------------------------+--------------------------+--------+----------+--------------+-------------------+------------+\n",
      "|  8000993.0|      1942.0|     39335|              1676|       not chp|         >250000|                1942|    los angeles|              0.0|            not chp|         not chp|       not chp|      9TL56|      NETTLETON ST|      GLENOAKS|   300.0|     west|         0.0|    clear|                    0.0|           NULL|             NULL|       NULL|    NULL|         NULL|           NULL|     0.0|property damage only|           0.0|            0.0|        2.0|    vehicle code viol...|      improper turning|      22107.0|                    NULL|    misdemeanor|         rear end|       parked motor vehicle|no pedestrian inv...|         dry|          normal|            daylight|          none|          0.0|                   0|                0|                   0|              0|                 1.0|                           NULL|     unknown hit and r...|                  0|                         0|                             0|                      0|                       0|                     0|                      0|                        0|                       0.0|    NULL|      NULL|    2016-03-20|2025-06-17 16:30:00|  2016-03-30|\n",
      "|  4232117.0|      3008.0|      1284|                Z2|       not chp|100000 to 250000|                3008|         orange|              0.0|            not chp|         not chp|       not chp|       NULL|         HARBOR BL|     BROOKDALE|   160.0|    south|         0.0|    clear|                    0.0|           NULL|             NULL|       NULL|    NULL|         NULL|           NULL|     1.0|        other injury|           0.0|            1.0|        1.0|    vehicle code viol...|                   dui|      23152.0|                       A|    misdemeanor|       hit object|               fixed object|no pedestrian inv...|         dry|          normal|            daylight|          none|          0.0|                   0|                0|                   0|              0|                 1.0|           pickup or panel t...|         pickups & panels|                  0|                         1|                             0|                      0|                       0|                     0|                      0|                        0|                       0.0|    NULL|      NULL|    2009-04-13|2025-06-17 18:24:00|  2009-11-30|\n",
      "|9.1389627E7|      9285.0|    019223|              NULL|1400 thru 2159|  unincorporated|                5800|           yuba|              0.0|chp county roadline|county road line|   chp primary|        041|    NORTH BEALE RD| LINDHURST AVE|   329.0|    north|         0.0|   cloudy|                    0.0|           NULL|             NULL|       NULL|    NULL|         NULL|           NULL|     1.0|                pain|           0.0|            1.0|        1.0|    vehicle code viol...|      improper turning|      22107.0|                    NULL|not hit and run|       hit object|               fixed object|no pedestrian inv...|         dry|          normal|        dusk or dawn|          none|          0.0|                   0|                0|                   0|              0|                 1.0|                  passenger car|     passenger car, st...|                  0|                         0|                             1|                      0|                       0|                     0|                      0|                        0|                       0.0|39.12512|-121.57211|    2021-01-09|2025-06-17 18:15:00|  2021-01-18|\n",
      "|  3589817.0|      3610.0|     50586|              3610|       not chp|100000 to 250000|                3610| san bernardino|              0.0|            not chp|         not chp|       not chp|       NULL|N MOUNTAIN VIEW AV| W BASELINE ST|     0.0|     NULL|         1.0|    clear|                    0.0|           NULL|             NULL|       NULL|    NULL|         NULL|           NULL|     0.0|property damage only|           0.0|            0.0|        2.0|    vehicle code viol...|  traffic signals a...|      21453.0|                       A|    misdemeanor|             NULL|        other motor vehicle|no pedestrian inv...|         dry|          normal|dark with street ...|   functioning|          0.0|                   0|                0|                   0|              0|                 1.0|                      other bus|         other commercial|                  0|                         0|                             0|                      0|                       0|                     0|                      0|                        0|                       0.0|    NULL|      NULL|    2007-06-16|2025-06-17 21:50:00|  2008-03-11|\n",
      "|  9111695.0|      1900.0|    649318|              0261|       not chp|  25000 to 50000|                1917|    los angeles|              0.0|            not chp|         not chp|       not chp|        26T|       ATLANTIC AV|      CLARA ST|    15.0|    south|         0.0|    clear|                    0.0|           NULL|             NULL|       NULL|    NULL|         NULL|           NULL|     1.0|property damage only|           0.0|            0.0|        2.0|    vehicle code viol...|      improper turning|      22107.0|                    NULL|    misdemeanor|         rear end|        other motor vehicle|no pedestrian inv...|         dry|          normal|            daylight|          none|          0.0|                   0|                0|                   0|              0|                 1.0|                  passenger car|     passenger car, st...|                  0|                         0|                             0|                      0|                       0|                     0|                      0|                        0|                       0.0|    NULL|      NULL|    2020-04-14|2025-06-17 17:56:00|  2020-08-03|\n",
      "+-----------+------------+----------+------------------+--------------+----------------+--------------------+---------------+-----------------+-------------------+----------------+--------------+-----------+------------------+--------------+--------+---------+------------+---------+-----------------------+---------------+-----------------+-----------+--------+-------------+---------------+--------+--------------------+--------------+---------------+-----------+------------------------+----------------------+-------------+------------------------+---------------+-----------------+---------------------------+--------------------+------------+----------------+--------------------+--------------+-------------+--------------------+-----------------+--------------------+---------------+--------------------+-------------------------------+-------------------------+-------------------+--------------------------+------------------------------+-----------------------+------------------------+----------------------+-----------------------+-------------------------+--------------------------+--------+----------+--------------+-------------------+------------+\n",
      "only showing top 5 rows"
     ]
    }
   ],
   "source": [
    "collisions_df.show(5)"
   ]
  },
  {
   "cell_type": "markdown",
   "metadata": {
    "id": "RhDfqP5BthyZ"
   },
   "source": [
    "#### Inspect the colums 'case_id', 'jurisdiction', 'special_condition', 'distance', 'intersection','state_highway_indicator','caltrans_district','state_route', 'postmile','tow_away','killed_victims','injured_victims','party_count','pcf_violation', 'chp_road_type','not_private_property','motorcyclist_injured_count'"
   ]
  },
  {
   "cell_type": "code",
   "execution_count": 31,
   "metadata": {
    "execution": {
     "iopub.execute_input": "2025-06-17T05:03:54.989461Z",
     "iopub.status.busy": "2025-06-17T05:03:54.989250Z",
     "iopub.status.idle": "2025-06-17T05:03:58.281596Z",
     "shell.execute_reply": "2025-06-17T05:03:58.280344Z",
     "shell.execute_reply.started": "2025-06-17T05:03:54.989431Z"
    }
   },
   "outputs": [
    {
     "data": {
      "application/vnd.jupyter.widget-view+json": {
       "model_id": "03de6669209540e8bf78ef225265856a",
       "version_major": 2,
       "version_minor": 0
      },
      "text/plain": [
       "VBox()"
      ]
     },
     "metadata": {},
     "output_type": "display_data"
    },
    {
     "data": {
      "application/vnd.jupyter.widget-view+json": {
       "model_id": "",
       "version_major": 2,
       "version_minor": 0
      },
      "text/plain": [
       "FloatProgress(value=0.0, bar_style='info', description='Progress:', layout=Layout(height='25px', width='50%'),…"
      ]
     },
     "metadata": {},
     "output_type": "display_data"
    },
    {
     "name": "stdout",
     "output_type": "stream",
     "text": [
      "+-----------+\n",
      "|    case_id|\n",
      "+-----------+\n",
      "|  1363511.0|\n",
      "|  1391137.0|\n",
      "|  5507105.0|\n",
      "|  6059078.0|\n",
      "|  5221786.0|\n",
      "|  5129252.0|\n",
      "|9.1427419E7|\n",
      "|  1638103.0|\n",
      "|  1850676.0|\n",
      "|  2255158.0|\n",
      "|  8869107.0|\n",
      "|  6618123.0|\n",
      "|  7201000.0|\n",
      "|  7185424.0|\n",
      "|  2042443.0|\n",
      "|  3986562.0|\n",
      "|  6936449.0|\n",
      "|  1681106.0|\n",
      "|9.1339482E7|\n",
      "|  8556401.0|\n",
      "+-----------+\n",
      "only showing top 20 rows"
     ]
    }
   ],
   "source": [
    "collisions_df.select(\"case_id\").distinct().show()"
   ]
  },
  {
   "cell_type": "code",
   "execution_count": 32,
   "metadata": {
    "execution": {
     "iopub.execute_input": "2025-06-17T05:03:58.283266Z",
     "iopub.status.busy": "2025-06-17T05:03:58.282959Z",
     "iopub.status.idle": "2025-06-17T05:04:01.591371Z",
     "shell.execute_reply": "2025-06-17T05:04:01.590423Z",
     "shell.execute_reply.started": "2025-06-17T05:03:58.283218Z"
    }
   },
   "outputs": [
    {
     "data": {
      "application/vnd.jupyter.widget-view+json": {
       "model_id": "b8539ed4d867436c9aafb43bbd69c775",
       "version_major": 2,
       "version_minor": 0
      },
      "text/plain": [
       "VBox()"
      ]
     },
     "metadata": {},
     "output_type": "display_data"
    },
    {
     "data": {
      "application/vnd.jupyter.widget-view+json": {
       "model_id": "",
       "version_major": 2,
       "version_minor": 0
      },
      "text/plain": [
       "FloatProgress(value=0.0, bar_style='info', description='Progress:', layout=Layout(height='25px', width='50%'),…"
      ]
     },
     "metadata": {},
     "output_type": "display_data"
    },
    {
     "name": "stdout",
     "output_type": "stream",
     "text": [
      "+------------+\n",
      "|jurisdiction|\n",
      "+------------+\n",
      "|        NULL|\n",
      "|      9870.0|\n",
      "|       702.0|\n",
      "|      9265.0|\n",
      "|      4115.0|\n",
      "|      4105.0|\n",
      "|      2105.0|\n",
      "|      5406.0|\n",
      "|      1012.0|\n",
      "|      3015.0|\n",
      "|      5702.0|\n",
      "|      3700.0|\n",
      "|      4708.0|\n",
      "|      4119.0|\n",
      "|      9420.0|\n",
      "|      9685.0|\n",
      "|      1909.0|\n",
      "|       403.0|\n",
      "|      4307.0|\n",
      "|      9590.0|\n",
      "+------------+\n",
      "only showing top 20 rows"
     ]
    }
   ],
   "source": [
    "collisions_df.select(\"jurisdiction\").distinct().show()"
   ]
  },
  {
   "cell_type": "code",
   "execution_count": 33,
   "metadata": {
    "execution": {
     "iopub.execute_input": "2025-06-17T05:04:01.592736Z",
     "iopub.status.busy": "2025-06-17T05:04:01.592500Z",
     "iopub.status.idle": "2025-06-17T05:04:06.947965Z",
     "shell.execute_reply": "2025-06-17T05:04:06.946870Z",
     "shell.execute_reply.started": "2025-06-17T05:04:01.592694Z"
    }
   },
   "outputs": [
    {
     "data": {
      "application/vnd.jupyter.widget-view+json": {
       "model_id": "9428e4fcaed54ed7a9f224eed8edda99",
       "version_major": 2,
       "version_minor": 0
      },
      "text/plain": [
       "VBox()"
      ]
     },
     "metadata": {},
     "output_type": "display_data"
    },
    {
     "data": {
      "application/vnd.jupyter.widget-view+json": {
       "model_id": "",
       "version_major": 2,
       "version_minor": 0
      },
      "text/plain": [
       "FloatProgress(value=0.0, bar_style='info', description='Progress:', layout=Layout(height='25px', width='50%'),…"
      ]
     },
     "metadata": {},
     "output_type": "display_data"
    },
    {
     "name": "stdout",
     "output_type": "stream",
     "text": [
      "+-----------------+\n",
      "|special_condition|\n",
      "+-----------------+\n",
      "|             NULL|\n",
      "|              1.0|\n",
      "|              0.0|\n",
      "+-----------------+"
     ]
    }
   ],
   "source": [
    "collisions_df.select(\"special_condition\").distinct().show()"
   ]
  },
  {
   "cell_type": "code",
   "execution_count": 34,
   "metadata": {
    "execution": {
     "iopub.execute_input": "2025-06-17T05:04:06.949959Z",
     "iopub.status.busy": "2025-06-17T05:04:06.949585Z",
     "iopub.status.idle": "2025-06-17T05:04:10.283792Z",
     "shell.execute_reply": "2025-06-17T05:04:10.282572Z",
     "shell.execute_reply.started": "2025-06-17T05:04:06.949903Z"
    }
   },
   "outputs": [
    {
     "data": {
      "application/vnd.jupyter.widget-view+json": {
       "model_id": "d1ff5d1c43ea43e5a9e1ac6dc9c416ac",
       "version_major": 2,
       "version_minor": 0
      },
      "text/plain": [
       "VBox()"
      ]
     },
     "metadata": {},
     "output_type": "display_data"
    },
    {
     "data": {
      "application/vnd.jupyter.widget-view+json": {
       "model_id": "",
       "version_major": 2,
       "version_minor": 0
      },
      "text/plain": [
       "FloatProgress(value=0.0, bar_style='info', description='Progress:', layout=Layout(height='25px', width='50%'),…"
      ]
     },
     "metadata": {},
     "output_type": "display_data"
    },
    {
     "name": "stdout",
     "output_type": "stream",
     "text": [
      "+--------+\n",
      "|distance|\n",
      "+--------+\n",
      "|   769.0|\n",
      "|   692.0|\n",
      "|   934.0|\n",
      "|   720.0|\n",
      "|  3690.0|\n",
      "|  3432.0|\n",
      "|   576.0|\n",
      "| 24394.0|\n",
      "|  1765.0|\n",
      "|   486.0|\n",
      "|  3753.0|\n",
      "| 12830.0|\n",
      "|  3440.0|\n",
      "|   702.0|\n",
      "|  7370.0|\n",
      "|   758.0|\n",
      "|  1226.0|\n",
      "|  4105.0|\n",
      "|   389.0|\n",
      "|  1363.0|\n",
      "+--------+\n",
      "only showing top 20 rows"
     ]
    }
   ],
   "source": [
    "collisions_df.select(\"distance\").distinct().show()"
   ]
  },
  {
   "cell_type": "code",
   "execution_count": 35,
   "metadata": {
    "execution": {
     "iopub.execute_input": "2025-06-17T05:04:10.285390Z",
     "iopub.status.busy": "2025-06-17T05:04:10.285115Z",
     "iopub.status.idle": "2025-06-17T05:04:15.652515Z",
     "shell.execute_reply": "2025-06-17T05:04:15.651339Z",
     "shell.execute_reply.started": "2025-06-17T05:04:10.285359Z"
    }
   },
   "outputs": [
    {
     "data": {
      "application/vnd.jupyter.widget-view+json": {
       "model_id": "6b49fe3c79ba4be1929814e94431c041",
       "version_major": 2,
       "version_minor": 0
      },
      "text/plain": [
       "VBox()"
      ]
     },
     "metadata": {},
     "output_type": "display_data"
    },
    {
     "data": {
      "application/vnd.jupyter.widget-view+json": {
       "model_id": "",
       "version_major": 2,
       "version_minor": 0
      },
      "text/plain": [
       "FloatProgress(value=0.0, bar_style='info', description='Progress:', layout=Layout(height='25px', width='50%'),…"
      ]
     },
     "metadata": {},
     "output_type": "display_data"
    },
    {
     "name": "stdout",
     "output_type": "stream",
     "text": [
      "+------------+\n",
      "|intersection|\n",
      "+------------+\n",
      "|        NULL|\n",
      "|         1.0|\n",
      "|         0.0|\n",
      "+------------+"
     ]
    }
   ],
   "source": [
    "collisions_df.select(\"intersection\").distinct().show()"
   ]
  },
  {
   "cell_type": "code",
   "execution_count": 36,
   "metadata": {
    "execution": {
     "iopub.execute_input": "2025-06-17T05:04:15.653983Z",
     "iopub.status.busy": "2025-06-17T05:04:15.653760Z",
     "iopub.status.idle": "2025-06-17T05:04:20.990631Z",
     "shell.execute_reply": "2025-06-17T05:04:20.989476Z",
     "shell.execute_reply.started": "2025-06-17T05:04:15.653953Z"
    }
   },
   "outputs": [
    {
     "data": {
      "application/vnd.jupyter.widget-view+json": {
       "model_id": "a8c41986b3d3468785b116b2fc9a49cf",
       "version_major": 2,
       "version_minor": 0
      },
      "text/plain": [
       "VBox()"
      ]
     },
     "metadata": {},
     "output_type": "display_data"
    },
    {
     "data": {
      "application/vnd.jupyter.widget-view+json": {
       "model_id": "",
       "version_major": 2,
       "version_minor": 0
      },
      "text/plain": [
       "FloatProgress(value=0.0, bar_style='info', description='Progress:', layout=Layout(height='25px', width='50%'),…"
      ]
     },
     "metadata": {},
     "output_type": "display_data"
    },
    {
     "name": "stdout",
     "output_type": "stream",
     "text": [
      "+-----------------------+\n",
      "|state_highway_indicator|\n",
      "+-----------------------+\n",
      "|                   NULL|\n",
      "|                    1.0|\n",
      "|                    0.0|\n",
      "+-----------------------+"
     ]
    }
   ],
   "source": [
    "collisions_df.select(\"state_highway_indicator\").distinct().show()"
   ]
  },
  {
   "cell_type": "code",
   "execution_count": 37,
   "metadata": {
    "execution": {
     "iopub.execute_input": "2025-06-17T05:04:20.993378Z",
     "iopub.status.busy": "2025-06-17T05:04:20.992382Z",
     "iopub.status.idle": "2025-06-17T05:04:24.330472Z",
     "shell.execute_reply": "2025-06-17T05:04:24.329382Z",
     "shell.execute_reply.started": "2025-06-17T05:04:20.993329Z"
    }
   },
   "outputs": [
    {
     "data": {
      "application/vnd.jupyter.widget-view+json": {
       "model_id": "8070b67e6f6348489908308cb57fba86",
       "version_major": 2,
       "version_minor": 0
      },
      "text/plain": [
       "VBox()"
      ]
     },
     "metadata": {},
     "output_type": "display_data"
    },
    {
     "data": {
      "application/vnd.jupyter.widget-view+json": {
       "model_id": "",
       "version_major": 2,
       "version_minor": 0
      },
      "text/plain": [
       "FloatProgress(value=0.0, bar_style='info', description='Progress:', layout=Layout(height='25px', width='50%'),…"
      ]
     },
     "metadata": {},
     "output_type": "display_data"
    },
    {
     "name": "stdout",
     "output_type": "stream",
     "text": [
      "+-----------------+\n",
      "|caltrans_district|\n",
      "+-----------------+\n",
      "|             NULL|\n",
      "|              1.0|\n",
      "|              6.0|\n",
      "|              5.0|\n",
      "|              2.0|\n",
      "|              4.0|\n",
      "|             10.0|\n",
      "|              8.0|\n",
      "|              0.0|\n",
      "|              7.0|\n",
      "|             11.0|\n",
      "|              3.0|\n",
      "|              9.0|\n",
      "|             12.0|\n",
      "+-----------------+"
     ]
    }
   ],
   "source": [
    "collisions_df.select(\"caltrans_district\").distinct().show()"
   ]
  },
  {
   "cell_type": "code",
   "execution_count": 38,
   "metadata": {
    "execution": {
     "iopub.execute_input": "2025-06-17T05:04:24.332469Z",
     "iopub.status.busy": "2025-06-17T05:04:24.332147Z",
     "iopub.status.idle": "2025-06-17T05:04:29.692489Z",
     "shell.execute_reply": "2025-06-17T05:04:29.691354Z",
     "shell.execute_reply.started": "2025-06-17T05:04:24.332421Z"
    }
   },
   "outputs": [
    {
     "data": {
      "application/vnd.jupyter.widget-view+json": {
       "model_id": "74fe0e53a9f540bbbea21a49fbfce591",
       "version_major": 2,
       "version_minor": 0
      },
      "text/plain": [
       "VBox()"
      ]
     },
     "metadata": {},
     "output_type": "display_data"
    },
    {
     "data": {
      "application/vnd.jupyter.widget-view+json": {
       "model_id": "",
       "version_major": 2,
       "version_minor": 0
      },
      "text/plain": [
       "FloatProgress(value=0.0, bar_style='info', description='Progress:', layout=Layout(height='25px', width='50%'),…"
      ]
     },
     "metadata": {},
     "output_type": "display_data"
    },
    {
     "name": "stdout",
     "output_type": "stream",
     "text": [
      "+-----------+\n",
      "|state_route|\n",
      "+-----------+\n",
      "|       NULL|\n",
      "|      201.0|\n",
      "|      180.0|\n",
      "|      905.0|\n",
      "|      155.0|\n",
      "|       29.0|\n",
      "|      107.0|\n",
      "|       47.0|\n",
      "|      275.0|\n",
      "|      178.0|\n",
      "|      780.0|\n",
      "|      237.0|\n",
      "|      177.0|\n",
      "|        1.0|\n",
      "|       94.0|\n",
      "|      114.0|\n",
      "|      149.0|\n",
      "|      137.0|\n",
      "|      245.0|\n",
      "|      165.0|\n",
      "+-----------+\n",
      "only showing top 20 rows"
     ]
    }
   ],
   "source": [
    "collisions_df.select(\"state_route\").distinct().show()"
   ]
  },
  {
   "cell_type": "code",
   "execution_count": 39,
   "metadata": {
    "execution": {
     "iopub.execute_input": "2025-06-17T05:04:29.694021Z",
     "iopub.status.busy": "2025-06-17T05:04:29.693792Z",
     "iopub.status.idle": "2025-06-17T05:04:33.015157Z",
     "shell.execute_reply": "2025-06-17T05:04:33.014068Z",
     "shell.execute_reply.started": "2025-06-17T05:04:29.693987Z"
    }
   },
   "outputs": [
    {
     "data": {
      "application/vnd.jupyter.widget-view+json": {
       "model_id": "dd49d2bc1fd44866b9508e18d8e48df0",
       "version_major": 2,
       "version_minor": 0
      },
      "text/plain": [
       "VBox()"
      ]
     },
     "metadata": {},
     "output_type": "display_data"
    },
    {
     "data": {
      "application/vnd.jupyter.widget-view+json": {
       "model_id": "",
       "version_major": 2,
       "version_minor": 0
      },
      "text/plain": [
       "FloatProgress(value=0.0, bar_style='info', description='Progress:', layout=Layout(height='25px', width='50%'),…"
      ]
     },
     "metadata": {},
     "output_type": "display_data"
    },
    {
     "name": "stdout",
     "output_type": "stream",
     "text": [
      "+--------+\n",
      "|postmile|\n",
      "+--------+\n",
      "|    NULL|\n",
      "|    26.7|\n",
      "|  24.478|\n",
      "|   8.397|\n",
      "|    13.4|\n",
      "|   38.61|\n",
      "|    15.5|\n",
      "|    14.9|\n",
      "|  24.524|\n",
      "|   12.32|\n",
      "|   30.49|\n",
      "|  10.802|\n",
      "|  16.066|\n",
      "|   76.46|\n",
      "|  102.62|\n",
      "|   76.98|\n",
      "|  52.002|\n",
      "|   41.89|\n",
      "|   85.86|\n",
      "|  20.813|\n",
      "+--------+\n",
      "only showing top 20 rows"
     ]
    }
   ],
   "source": [
    "collisions_df.select(\"postmile\").distinct().show()"
   ]
  },
  {
   "cell_type": "code",
   "execution_count": 40,
   "metadata": {
    "execution": {
     "iopub.execute_input": "2025-06-17T05:04:33.017090Z",
     "iopub.status.busy": "2025-06-17T05:04:33.016764Z",
     "iopub.status.idle": "2025-06-17T05:04:38.380693Z",
     "shell.execute_reply": "2025-06-17T05:04:38.379645Z",
     "shell.execute_reply.started": "2025-06-17T05:04:33.017043Z"
    }
   },
   "outputs": [
    {
     "data": {
      "application/vnd.jupyter.widget-view+json": {
       "model_id": "752c66616f3442ddab30d4cf30beafd3",
       "version_major": 2,
       "version_minor": 0
      },
      "text/plain": [
       "VBox()"
      ]
     },
     "metadata": {},
     "output_type": "display_data"
    },
    {
     "data": {
      "application/vnd.jupyter.widget-view+json": {
       "model_id": "",
       "version_major": 2,
       "version_minor": 0
      },
      "text/plain": [
       "FloatProgress(value=0.0, bar_style='info', description='Progress:', layout=Layout(height='25px', width='50%'),…"
      ]
     },
     "metadata": {},
     "output_type": "display_data"
    },
    {
     "name": "stdout",
     "output_type": "stream",
     "text": [
      "+--------+\n",
      "|tow_away|\n",
      "+--------+\n",
      "|    NULL|\n",
      "|     1.0|\n",
      "|     0.0|\n",
      "+--------+"
     ]
    }
   ],
   "source": [
    "collisions_df.select(\"tow_away\").distinct().show()"
   ]
  },
  {
   "cell_type": "code",
   "execution_count": 41,
   "metadata": {
    "execution": {
     "iopub.execute_input": "2025-06-17T05:04:38.382461Z",
     "iopub.status.busy": "2025-06-17T05:04:38.382150Z",
     "iopub.status.idle": "2025-06-17T05:04:43.732043Z",
     "shell.execute_reply": "2025-06-17T05:04:43.730439Z",
     "shell.execute_reply.started": "2025-06-17T05:04:38.382413Z"
    }
   },
   "outputs": [
    {
     "data": {
      "application/vnd.jupyter.widget-view+json": {
       "model_id": "6d5df8b70d6c44bb974862629398730d",
       "version_major": 2,
       "version_minor": 0
      },
      "text/plain": [
       "VBox()"
      ]
     },
     "metadata": {},
     "output_type": "display_data"
    },
    {
     "data": {
      "application/vnd.jupyter.widget-view+json": {
       "model_id": "",
       "version_major": 2,
       "version_minor": 0
      },
      "text/plain": [
       "FloatProgress(value=0.0, bar_style='info', description='Progress:', layout=Layout(height='25px', width='50%'),…"
      ]
     },
     "metadata": {},
     "output_type": "display_data"
    },
    {
     "name": "stdout",
     "output_type": "stream",
     "text": [
      "+--------------+\n",
      "|killed_victims|\n",
      "+--------------+\n",
      "|          NULL|\n",
      "|           0.0|\n",
      "+--------------+"
     ]
    }
   ],
   "source": [
    "collisions_df.select(\"killed_victims\").distinct().show()"
   ]
  },
  {
   "cell_type": "code",
   "execution_count": 42,
   "metadata": {
    "execution": {
     "iopub.execute_input": "2025-06-17T05:04:43.733639Z",
     "iopub.status.busy": "2025-06-17T05:04:43.733426Z",
     "iopub.status.idle": "2025-06-17T05:04:47.027948Z",
     "shell.execute_reply": "2025-06-17T05:04:47.026959Z",
     "shell.execute_reply.started": "2025-06-17T05:04:43.733611Z"
    }
   },
   "outputs": [
    {
     "data": {
      "application/vnd.jupyter.widget-view+json": {
       "model_id": "79b14f097c094d74928b24ffdaa21971",
       "version_major": 2,
       "version_minor": 0
      },
      "text/plain": [
       "VBox()"
      ]
     },
     "metadata": {},
     "output_type": "display_data"
    },
    {
     "data": {
      "application/vnd.jupyter.widget-view+json": {
       "model_id": "",
       "version_major": 2,
       "version_minor": 0
      },
      "text/plain": [
       "FloatProgress(value=0.0, bar_style='info', description='Progress:', layout=Layout(height='25px', width='50%'),…"
      ]
     },
     "metadata": {},
     "output_type": "display_data"
    },
    {
     "name": "stdout",
     "output_type": "stream",
     "text": [
      "+---------------+\n",
      "|injured_victims|\n",
      "+---------------+\n",
      "|           NULL|\n",
      "|            1.0|\n",
      "|           13.0|\n",
      "|           26.0|\n",
      "|           27.0|\n",
      "|            6.0|\n",
      "|            5.0|\n",
      "|            2.0|\n",
      "|            4.0|\n",
      "|           14.0|\n",
      "|           10.0|\n",
      "|            8.0|\n",
      "|            0.0|\n",
      "|            7.0|\n",
      "|           18.0|\n",
      "|           11.0|\n",
      "|            3.0|\n",
      "|            9.0|\n",
      "|           16.0|\n",
      "|           12.0|\n",
      "+---------------+\n",
      "only showing top 20 rows"
     ]
    }
   ],
   "source": [
    "collisions_df.select(\"injured_victims\").distinct().show()"
   ]
  },
  {
   "cell_type": "code",
   "execution_count": 43,
   "metadata": {
    "execution": {
     "iopub.execute_input": "2025-06-17T05:04:47.029910Z",
     "iopub.status.busy": "2025-06-17T05:04:47.029520Z",
     "iopub.status.idle": "2025-06-17T05:04:52.391744Z",
     "shell.execute_reply": "2025-06-17T05:04:52.390640Z",
     "shell.execute_reply.started": "2025-06-17T05:04:47.029830Z"
    }
   },
   "outputs": [
    {
     "data": {
      "application/vnd.jupyter.widget-view+json": {
       "model_id": "fd89accabea74a84956c652c4b3ccea3",
       "version_major": 2,
       "version_minor": 0
      },
      "text/plain": [
       "VBox()"
      ]
     },
     "metadata": {},
     "output_type": "display_data"
    },
    {
     "data": {
      "application/vnd.jupyter.widget-view+json": {
       "model_id": "",
       "version_major": 2,
       "version_minor": 0
      },
      "text/plain": [
       "FloatProgress(value=0.0, bar_style='info', description='Progress:', layout=Layout(height='25px', width='50%'),…"
      ]
     },
     "metadata": {},
     "output_type": "display_data"
    },
    {
     "name": "stdout",
     "output_type": "stream",
     "text": [
      "+-----------+\n",
      "|party_count|\n",
      "+-----------+\n",
      "|        1.0|\n",
      "|       13.0|\n",
      "|        6.0|\n",
      "|        5.0|\n",
      "|       19.0|\n",
      "|        2.0|\n",
      "|        4.0|\n",
      "|       10.0|\n",
      "|        8.0|\n",
      "|        7.0|\n",
      "|       11.0|\n",
      "|        3.0|\n",
      "|        9.0|\n",
      "|       12.0|\n",
      "|       20.0|\n",
      "|       16.0|\n",
      "|       14.0|\n",
      "+-----------+"
     ]
    }
   ],
   "source": [
    "collisions_df.select(\"party_count\").distinct().show()"
   ]
  },
  {
   "cell_type": "code",
   "execution_count": 44,
   "metadata": {
    "execution": {
     "iopub.execute_input": "2025-06-17T05:04:52.393787Z",
     "iopub.status.busy": "2025-06-17T05:04:52.393438Z",
     "iopub.status.idle": "2025-06-17T05:04:55.738760Z",
     "shell.execute_reply": "2025-06-17T05:04:55.737734Z",
     "shell.execute_reply.started": "2025-06-17T05:04:52.393711Z"
    }
   },
   "outputs": [
    {
     "data": {
      "application/vnd.jupyter.widget-view+json": {
       "model_id": "bb77378549084ce7a47f2abed728732e",
       "version_major": 2,
       "version_minor": 0
      },
      "text/plain": [
       "VBox()"
      ]
     },
     "metadata": {},
     "output_type": "display_data"
    },
    {
     "data": {
      "application/vnd.jupyter.widget-view+json": {
       "model_id": "",
       "version_major": 2,
       "version_minor": 0
      },
      "text/plain": [
       "FloatProgress(value=0.0, bar_style='info', description='Progress:', layout=Layout(height='25px', width='50%'),…"
      ]
     },
     "metadata": {},
     "output_type": "display_data"
    },
    {
     "name": "stdout",
     "output_type": "stream",
     "text": [
      "+-------------+\n",
      "|pcf_violation|\n",
      "+-------------+\n",
      "|         NULL|\n",
      "|      21651.0|\n",
      "|      21701.0|\n",
      "|      26101.0|\n",
      "|      22353.0|\n",
      "|      14601.0|\n",
      "|      21401.0|\n",
      "|      21657.0|\n",
      "|      22153.0|\n",
      "|      21081.0|\n",
      "|      23105.0|\n",
      "|      12500.0|\n",
      "|      27151.0|\n",
      "|      21952.0|\n",
      "|      21206.0|\n",
      "|      35401.0|\n",
      "|      21707.0|\n",
      "|      23152.0|\n",
      "|      21654.0|\n",
      "|      21810.0|\n",
      "+-------------+\n",
      "only showing top 20 rows"
     ]
    }
   ],
   "source": [
    "collisions_df.select(\"pcf_violation\").distinct().show()"
   ]
  },
  {
   "cell_type": "code",
   "execution_count": 45,
   "metadata": {
    "execution": {
     "iopub.execute_input": "2025-06-17T05:04:55.741072Z",
     "iopub.status.busy": "2025-06-17T05:04:55.740407Z",
     "iopub.status.idle": "2025-06-17T05:05:01.127410Z",
     "shell.execute_reply": "2025-06-17T05:05:01.126401Z",
     "shell.execute_reply.started": "2025-06-17T05:04:55.740991Z"
    }
   },
   "outputs": [
    {
     "data": {
      "application/vnd.jupyter.widget-view+json": {
       "model_id": "88ddf7cdb9cc43669e4ccf2d5a454841",
       "version_major": 2,
       "version_minor": 0
      },
      "text/plain": [
       "VBox()"
      ]
     },
     "metadata": {},
     "output_type": "display_data"
    },
    {
     "data": {
      "application/vnd.jupyter.widget-view+json": {
       "model_id": "",
       "version_major": 2,
       "version_minor": 0
      },
      "text/plain": [
       "FloatProgress(value=0.0, bar_style='info', description='Progress:', layout=Layout(height='25px', width='50%'),…"
      ]
     },
     "metadata": {},
     "output_type": "display_data"
    },
    {
     "name": "stdout",
     "output_type": "stream",
     "text": [
      "+-------------+\n",
      "|chp_road_type|\n",
      "+-------------+\n",
      "|          1.0|\n",
      "|          6.0|\n",
      "|          5.0|\n",
      "|          2.0|\n",
      "|          4.0|\n",
      "|          0.0|\n",
      "|          7.0|\n",
      "|          3.0|\n",
      "+-------------+"
     ]
    }
   ],
   "source": [
    "collisions_df.select(\"chp_road_type\").distinct().show()"
   ]
  },
  {
   "cell_type": "code",
   "execution_count": 46,
   "metadata": {
    "execution": {
     "iopub.execute_input": "2025-06-17T05:05:01.129120Z",
     "iopub.status.busy": "2025-06-17T05:05:01.128807Z",
     "iopub.status.idle": "2025-06-17T05:05:06.475440Z",
     "shell.execute_reply": "2025-06-17T05:05:06.473924Z",
     "shell.execute_reply.started": "2025-06-17T05:05:01.129073Z"
    }
   },
   "outputs": [
    {
     "data": {
      "application/vnd.jupyter.widget-view+json": {
       "model_id": "30a5cd89b32e4ba2a713938216204ba7",
       "version_major": 2,
       "version_minor": 0
      },
      "text/plain": [
       "VBox()"
      ]
     },
     "metadata": {},
     "output_type": "display_data"
    },
    {
     "data": {
      "application/vnd.jupyter.widget-view+json": {
       "model_id": "",
       "version_major": 2,
       "version_minor": 0
      },
      "text/plain": [
       "FloatProgress(value=0.0, bar_style='info', description='Progress:', layout=Layout(height='25px', width='50%'),…"
      ]
     },
     "metadata": {},
     "output_type": "display_data"
    },
    {
     "name": "stdout",
     "output_type": "stream",
     "text": [
      "+--------------------+\n",
      "|not_private_property|\n",
      "+--------------------+\n",
      "|                 1.0|\n",
      "+--------------------+"
     ]
    }
   ],
   "source": [
    "collisions_df.select(\"not_private_property\").distinct().show()"
   ]
  },
  {
   "cell_type": "code",
   "execution_count": 47,
   "metadata": {
    "execution": {
     "iopub.execute_input": "2025-06-17T05:05:06.477307Z",
     "iopub.status.busy": "2025-06-17T05:05:06.476993Z",
     "iopub.status.idle": "2025-06-17T05:05:09.801461Z",
     "shell.execute_reply": "2025-06-17T05:05:09.800122Z",
     "shell.execute_reply.started": "2025-06-17T05:05:06.477261Z"
    }
   },
   "outputs": [
    {
     "data": {
      "application/vnd.jupyter.widget-view+json": {
       "model_id": "0e0c16a7a29a4cea8c74faf0567f4316",
       "version_major": 2,
       "version_minor": 0
      },
      "text/plain": [
       "VBox()"
      ]
     },
     "metadata": {},
     "output_type": "display_data"
    },
    {
     "data": {
      "application/vnd.jupyter.widget-view+json": {
       "model_id": "",
       "version_major": 2,
       "version_minor": 0
      },
      "text/plain": [
       "FloatProgress(value=0.0, bar_style='info', description='Progress:', layout=Layout(height='25px', width='50%'),…"
      ]
     },
     "metadata": {},
     "output_type": "display_data"
    },
    {
     "name": "stdout",
     "output_type": "stream",
     "text": [
      "+--------------------------+\n",
      "|motorcyclist_injured_count|\n",
      "+--------------------------+\n",
      "|                       1.0|\n",
      "|                       5.0|\n",
      "|                       2.0|\n",
      "|                       4.0|\n",
      "|                       0.0|\n",
      "|                       3.0|\n",
      "|                       6.0|\n",
      "+--------------------------+"
     ]
    }
   ],
   "source": [
    "collisions_df.select(\"motorcyclist_injured_count\").distinct().show()"
   ]
  },
  {
   "cell_type": "code",
   "execution_count": 48,
   "metadata": {
    "execution": {
     "iopub.execute_input": "2025-06-17T05:05:09.803311Z",
     "iopub.status.busy": "2025-06-17T05:05:09.802931Z",
     "iopub.status.idle": "2025-06-17T05:05:09.871754Z",
     "shell.execute_reply": "2025-06-17T05:05:09.870215Z",
     "shell.execute_reply.started": "2025-06-17T05:05:09.803236Z"
    },
    "id": "FLU2nhH_P4OX",
    "tags": []
   },
   "outputs": [
    {
     "data": {
      "application/vnd.jupyter.widget-view+json": {
       "model_id": "e56c959a86664ba0ad42d3a285eb2217",
       "version_major": 2,
       "version_minor": 0
      },
      "text/plain": [
       "VBox()"
      ]
     },
     "metadata": {},
     "output_type": "display_data"
    },
    {
     "data": {
      "application/vnd.jupyter.widget-view+json": {
       "model_id": "",
       "version_major": 2,
       "version_minor": 0
      },
      "text/plain": [
       "FloatProgress(value=0.0, bar_style='info', description='Progress:', layout=Layout(height='25px', width='50%'),…"
      ]
     },
     "metadata": {},
     "output_type": "display_data"
    }
   ],
   "source": [
    "collisionsSchema = StructType([\n",
    "    StructField('case_id', StringType(), True),\n",
    "    StructField('jurisdiction', StringType(), True),\n",
    "    StructField('officer_id', StringType(), True),\n",
    "    StructField('reporting_district', StringType(), True),\n",
    "    StructField('chp_shift', StringType(), True),\n",
    "    StructField('population', StringType(), True),\n",
    "    StructField('county_city_location', IntegerType(), True),\n",
    "    StructField('county_location', StringType(), True),\n",
    "    StructField('special_condition', StringType(), True),\n",
    "    StructField('beat_type', StringType(), True),\n",
    "    StructField('chp_beat_type', StringType(), True),\n",
    "    StructField('chp_beat_class', StringType(), True),\n",
    "    StructField('beat_number', StringType(), True),\n",
    "    StructField('primary_road', StringType(), True),\n",
    "    StructField('secondary_road', StringType(), True),\n",
    "    StructField('distance', StringType(), True),\n",
    "    StructField('direction', StringType(), True),\n",
    "    StructField('intersection', StringType(), True),\n",
    "    StructField('weather_1', StringType(), True),\n",
    "    StructField('state_highway_indicator', StringType(), True),\n",
    "    StructField('caltrans_county', StringType(), True),\n",
    "    StructField('caltrans_district', StringType(), True),\n",
    "    StructField('state_route', StringType(), True),\n",
    "    StructField('postmile', StringType(), True),\n",
    "    StructField('location_type', StringType(), True),\n",
    "    StructField('side_of_highway', StringType(), True),\n",
    "    StructField('tow_away', StringType(), True),\n",
    "    StructField('collision_severity', StringType(), True),\n",
    "    StructField('killed_victims', StringType(), True),\n",
    "    StructField('injured_victims', StringType(), True),\n",
    "    StructField('party_count', StringType(), True),\n",
    "    StructField('primary_collision_factor', StringType(), True),\n",
    "    StructField('pcf_violation_category', StringType(), True),\n",
    "    StructField('pcf_violation', StringType(), True),\n",
    "    StructField('pcf_violation_subsection', StringType(), True),\n",
    "    StructField('hit_and_run', StringType(), True),\n",
    "    StructField('type_of_collision', StringType(), True),\n",
    "    StructField('motor_vehicle_involved_with', StringType(), True),\n",
    "    StructField('pedestrian_action', StringType(), True),\n",
    "    StructField('road_surface', StringType(), True),\n",
    "    StructField('road_condition_1', StringType(), True),\n",
    "    StructField('lighting', StringType(), True),\n",
    "    StructField('control_device', StringType(), True),\n",
    "    StructField('chp_road_type', StringType(), True),\n",
    "    StructField('pedestrian_collision', StringType(), True),\n",
    "    StructField('bicycle_collision', StringType(), True),\n",
    "    StructField('motorcycle_collision', StringType(), True),\n",
    "    StructField('truck_collision', StringType(), True),\n",
    "    StructField('not_private_property', StringType(), True),\n",
    "    StructField('statewide_vehicle_type_at_fault', StringType(), True),\n",
    "    StructField('chp_vehicle_type_at_fault', StringType(), True),\n",
    "    StructField('severe_injury_count', StringType(), True),\n",
    "    StructField('other_visible_injury_count', StringType(), True),\n",
    "    StructField('complaint_of_pain_injury_count', StringType(), True),\n",
    "    StructField('pedestrian_killed_count', StringType(), True),\n",
    "    StructField('pedestrian_injured_count', StringType(), True),\n",
    "    StructField('bicyclist_killed_count', StringType(), True),\n",
    "    StructField('bicyclist_injured_count', StringType(), True),\n",
    "    StructField('motorcyclist_killed_count', StringType(), True),\n",
    "    StructField('motorcyclist_injured_count', StringType(), True),\n",
    "    StructField('latitude', DoubleType(), True),\n",
    "    StructField('longitude', DoubleType(), True),\n",
    "    StructField('collision_date', DateType(), True),\n",
    "    StructField('collision_time', TimestampType(), True),\n",
    "    StructField('process_date', DateType(), True),\n",
    "])"
   ]
  },
  {
   "cell_type": "markdown",
   "metadata": {},
   "source": [
    "#### 'case_id' is an integer of max 22 digits. Define a large decimal type with 22 digits and 0 scale and use it for casting"
   ]
  },
  {
   "cell_type": "markdown",
   "metadata": {
    "id": "2nr4uVZNbC2y"
   },
   "source": [
    "#### Now validate the schema and sample records"
   ]
  },
  {
   "cell_type": "code",
   "execution_count": 49,
   "metadata": {
    "colab": {
     "base_uri": "https://localhost:8080/",
     "height": 211
    },
    "execution": {
     "iopub.execute_input": "2025-06-17T05:05:09.873642Z",
     "iopub.status.busy": "2025-06-17T05:05:09.873264Z",
     "iopub.status.idle": "2025-06-17T05:05:10.647050Z",
     "shell.execute_reply": "2025-06-17T05:05:10.645927Z",
     "shell.execute_reply.started": "2025-06-17T05:05:09.873594Z"
    },
    "id": "8YZAPfpbbHZZ",
    "outputId": "a79c47e8-7249-4808-f74f-bc64c50aee9f",
    "tags": []
   },
   "outputs": [
    {
     "data": {
      "application/vnd.jupyter.widget-view+json": {
       "model_id": "2b5ecd4612844023b5e4d38ab9dbed98",
       "version_major": 2,
       "version_minor": 0
      },
      "text/plain": [
       "VBox()"
      ]
     },
     "metadata": {},
     "output_type": "display_data"
    },
    {
     "data": {
      "application/vnd.jupyter.widget-view+json": {
       "model_id": "",
       "version_major": 2,
       "version_minor": 0
      },
      "text/plain": [
       "FloatProgress(value=0.0, bar_style='info', description='Progress:', layout=Layout(height='25px', width='50%'),…"
      ]
     },
     "metadata": {},
     "output_type": "display_data"
    },
    {
     "name": "stdout",
     "output_type": "stream",
     "text": [
      "collisions Schema after modification:\n",
      "\n",
      "root\n",
      " |-- case_id: decimal(22,0) (nullable = true)\n",
      " |-- jurisdiction: integer (nullable = true)\n",
      " |-- officer_id: string (nullable = true)\n",
      " |-- reporting_district: string (nullable = true)\n",
      " |-- chp_shift: string (nullable = true)\n",
      " |-- population: string (nullable = true)\n",
      " |-- county_city_location: integer (nullable = true)\n",
      " |-- county_location: string (nullable = true)\n",
      " |-- special_condition: string (nullable = true)\n",
      " |-- beat_type: string (nullable = true)\n",
      " |-- chp_beat_type: string (nullable = true)\n",
      " |-- chp_beat_class: string (nullable = true)\n",
      " |-- beat_number: string (nullable = true)\n",
      " |-- primary_road: string (nullable = true)\n",
      " |-- secondary_road: string (nullable = true)\n",
      " |-- distance: string (nullable = true)\n",
      " |-- direction: string (nullable = true)\n",
      " |-- intersection: string (nullable = true)\n",
      " |-- weather_1: string (nullable = true)\n",
      " |-- state_highway_indicator: string (nullable = true)\n",
      " |-- caltrans_county: string (nullable = true)\n",
      " |-- caltrans_district: string (nullable = true)\n",
      " |-- state_route: string (nullable = true)\n",
      " |-- postmile: string (nullable = true)\n",
      " |-- location_type: string (nullable = true)\n",
      " |-- side_of_highway: string (nullable = true)\n",
      " |-- tow_away: string (nullable = true)\n",
      " |-- collision_severity: string (nullable = true)\n",
      " |-- killed_victims: string (nullable = true)\n",
      " |-- injured_victims: string (nullable = true)\n",
      " |-- party_count: string (nullable = true)\n",
      " |-- primary_collision_factor: string (nullable = true)\n",
      " |-- pcf_violation_category: string (nullable = true)\n",
      " |-- pcf_violation: string (nullable = true)\n",
      " |-- pcf_violation_subsection: string (nullable = true)\n",
      " |-- hit_and_run: string (nullable = true)\n",
      " |-- type_of_collision: string (nullable = true)\n",
      " |-- motor_vehicle_involved_with: string (nullable = true)\n",
      " |-- pedestrian_action: string (nullable = true)\n",
      " |-- road_surface: string (nullable = true)\n",
      " |-- road_condition_1: string (nullable = true)\n",
      " |-- lighting: string (nullable = true)\n",
      " |-- control_device: string (nullable = true)\n",
      " |-- chp_road_type: string (nullable = true)\n",
      " |-- pedestrian_collision: string (nullable = true)\n",
      " |-- bicycle_collision: string (nullable = true)\n",
      " |-- motorcycle_collision: string (nullable = true)\n",
      " |-- truck_collision: string (nullable = true)\n",
      " |-- not_private_property: string (nullable = true)\n",
      " |-- statewide_vehicle_type_at_fault: string (nullable = true)\n",
      " |-- chp_vehicle_type_at_fault: string (nullable = true)\n",
      " |-- severe_injury_count: string (nullable = true)\n",
      " |-- other_visible_injury_count: string (nullable = true)\n",
      " |-- complaint_of_pain_injury_count: string (nullable = true)\n",
      " |-- pedestrian_killed_count: string (nullable = true)\n",
      " |-- pedestrian_injured_count: string (nullable = true)\n",
      " |-- bicyclist_killed_count: string (nullable = true)\n",
      " |-- bicyclist_injured_count: string (nullable = true)\n",
      " |-- motorcyclist_killed_count: string (nullable = true)\n",
      " |-- motorcyclist_injured_count: string (nullable = true)\n",
      " |-- latitude: double (nullable = true)\n",
      " |-- longitude: double (nullable = true)\n",
      " |-- collision_date: date (nullable = true)\n",
      " |-- collision_time: timestamp (nullable = true)\n",
      " |-- process_date: date (nullable = true)\n",
      "\n",
      "\n",
      "Sample data from collisions Schema:\n",
      "\n",
      "+--------+------------+----------+------------------+--------------+----------------+--------------------+---------------+-----------------+-------------------+----------------+--------------+-----------+------------------+--------------+--------+---------+------------+---------+-----------------------+---------------+-----------------+-----------+--------+-------------+---------------+--------+--------------------+--------------+---------------+-----------+------------------------+----------------------+-------------+------------------------+---------------+-----------------+---------------------------+--------------------+------------+----------------+--------------------+--------------+-------------+--------------------+-----------------+--------------------+---------------+--------------------+-------------------------------+-------------------------+-------------------+--------------------------+------------------------------+-----------------------+------------------------+----------------------+-----------------------+-------------------------+--------------------------+--------+----------+--------------+-------------------+------------+\n",
      "| case_id|jurisdiction|officer_id|reporting_district|     chp_shift|      population|county_city_location|county_location|special_condition|          beat_type|   chp_beat_type|chp_beat_class|beat_number|      primary_road|secondary_road|distance|direction|intersection|weather_1|state_highway_indicator|caltrans_county|caltrans_district|state_route|postmile|location_type|side_of_highway|tow_away|  collision_severity|killed_victims|injured_victims|party_count|primary_collision_factor|pcf_violation_category|pcf_violation|pcf_violation_subsection|    hit_and_run|type_of_collision|motor_vehicle_involved_with|   pedestrian_action|road_surface|road_condition_1|            lighting|control_device|chp_road_type|pedestrian_collision|bicycle_collision|motorcycle_collision|truck_collision|not_private_property|statewide_vehicle_type_at_fault|chp_vehicle_type_at_fault|severe_injury_count|other_visible_injury_count|complaint_of_pain_injury_count|pedestrian_killed_count|pedestrian_injured_count|bicyclist_killed_count|bicyclist_injured_count|motorcyclist_killed_count|motorcyclist_injured_count|latitude| longitude|collision_date|     collision_time|process_date|\n",
      "+--------+------------+----------+------------------+--------------+----------------+--------------------+---------------+-----------------+-------------------+----------------+--------------+-----------+------------------+--------------+--------+---------+------------+---------+-----------------------+---------------+-----------------+-----------+--------+-------------+---------------+--------+--------------------+--------------+---------------+-----------+------------------------+----------------------+-------------+------------------------+---------------+-----------------+---------------------------+--------------------+------------+----------------+--------------------+--------------+-------------+--------------------+-----------------+--------------------+---------------+--------------------+-------------------------------+-------------------------+-------------------+--------------------------+------------------------------+-----------------------+------------------------+----------------------+-----------------------+-------------------------+--------------------------+--------+----------+--------------+-------------------+------------+\n",
      "| 8000993|        1942|     39335|              1676|       not chp|         >250000|                1942|    los angeles|              0.0|            not chp|         not chp|       not chp|      9TL56|      NETTLETON ST|      GLENOAKS|   300.0|     west|         0.0|    clear|                    0.0|           NULL|             NULL|       NULL|    NULL|         NULL|           NULL|     0.0|property damage only|           0.0|            0.0|        2.0|    vehicle code viol...|      improper turning|      22107.0|                    NULL|    misdemeanor|         rear end|       parked motor vehicle|no pedestrian inv...|         dry|          normal|            daylight|          none|            0|                   0|                0|                   0|              0|                 1.0|                           NULL|     unknown hit and r...|                  0|                         0|                             0|                      0|                       0|                     0|                      0|                        0|                       0.0|    NULL|      NULL|    2016-03-20|2025-06-17 16:30:00|  2016-03-30|\n",
      "| 4232117|        3008|      1284|                Z2|       not chp|100000 to 250000|                3008|         orange|              0.0|            not chp|         not chp|       not chp|       NULL|         HARBOR BL|     BROOKDALE|   160.0|    south|         0.0|    clear|                    0.0|           NULL|             NULL|       NULL|    NULL|         NULL|           NULL|     1.0|        other injury|           0.0|            1.0|        1.0|    vehicle code viol...|                   dui|      23152.0|                       A|    misdemeanor|       hit object|               fixed object|no pedestrian inv...|         dry|          normal|            daylight|          none|            0|                   0|                0|                   0|              0|                 1.0|           pickup or panel t...|         pickups & panels|                  0|                         1|                             0|                      0|                       0|                     0|                      0|                        0|                       0.0|    NULL|      NULL|    2009-04-13|2025-06-17 18:24:00|  2009-11-30|\n",
      "|91389627|        9285|    019223|              NULL|1400 thru 2159|  unincorporated|                5800|           yuba|              0.0|chp county roadline|county road line|   chp primary|        041|    NORTH BEALE RD| LINDHURST AVE|   329.0|    north|         0.0|   cloudy|                    0.0|           NULL|             NULL|       NULL|    NULL|         NULL|           NULL|     1.0|                pain|           0.0|            1.0|        1.0|    vehicle code viol...|      improper turning|      22107.0|                    NULL|not hit and run|       hit object|               fixed object|no pedestrian inv...|         dry|          normal|        dusk or dawn|          none|            0|                   0|                0|                   0|              0|                 1.0|                  passenger car|     passenger car, st...|                  0|                         0|                             1|                      0|                       0|                     0|                      0|                        0|                       0.0|39.12512|-121.57211|    2021-01-09|2025-06-17 18:15:00|  2021-01-18|\n",
      "| 3589817|        3610|     50586|              3610|       not chp|100000 to 250000|                3610| san bernardino|              0.0|            not chp|         not chp|       not chp|       NULL|N MOUNTAIN VIEW AV| W BASELINE ST|     0.0|     NULL|         1.0|    clear|                    0.0|           NULL|             NULL|       NULL|    NULL|         NULL|           NULL|     0.0|property damage only|           0.0|            0.0|        2.0|    vehicle code viol...|  traffic signals a...|      21453.0|                       A|    misdemeanor|             NULL|        other motor vehicle|no pedestrian inv...|         dry|          normal|dark with street ...|   functioning|            0|                   0|                0|                   0|              0|                 1.0|                      other bus|         other commercial|                  0|                         0|                             0|                      0|                       0|                     0|                      0|                        0|                       0.0|    NULL|      NULL|    2007-06-16|2025-06-17 21:50:00|  2008-03-11|\n",
      "| 9111695|        1900|    649318|              0261|       not chp|  25000 to 50000|                1917|    los angeles|              0.0|            not chp|         not chp|       not chp|        26T|       ATLANTIC AV|      CLARA ST|    15.0|    south|         0.0|    clear|                    0.0|           NULL|             NULL|       NULL|    NULL|         NULL|           NULL|     1.0|property damage only|           0.0|            0.0|        2.0|    vehicle code viol...|      improper turning|      22107.0|                    NULL|    misdemeanor|         rear end|        other motor vehicle|no pedestrian inv...|         dry|          normal|            daylight|          none|            0|                   0|                0|                   0|              0|                 1.0|                  passenger car|     passenger car, st...|                  0|                         0|                             0|                      0|                       0|                     0|                      0|                        0|                       0.0|    NULL|      NULL|    2020-04-14|2025-06-17 17:56:00|  2020-08-03|\n",
      "+--------+------------+----------+------------------+--------------+----------------+--------------------+---------------+-----------------+-------------------+----------------+--------------+-----------+------------------+--------------+--------+---------+------------+---------+-----------------------+---------------+-----------------+-----------+--------+-------------+---------------+--------+--------------------+--------------+---------------+-----------+------------------------+----------------------+-------------+------------------------+---------------+-----------------+---------------------------+--------------------+------------+----------------+--------------------+--------------+-------------+--------------------+-----------------+--------------------+---------------+--------------------+-------------------------------+-------------------------+-------------------+--------------------------+------------------------------+-----------------------+------------------------+----------------------+-----------------------+-------------------------+--------------------------+--------+----------+--------------+-------------------+------------+\n",
      "only showing top 5 rows"
     ]
    }
   ],
   "source": [
    "collisions_df1 = spark.read.load(\"/user/livy/sample_collisions.csv\", format = \"csv\", header = \"true\", schema = collisionsSchema)\n",
    "\n",
    "collisions_df1 = collisions_df1.withColumn(\"case_id\", col(\"case_id\").cast(large_case_id_decimal_type))\n",
    "\n",
    "collisions_df1 = collisions_df1 \\\n",
    "    .withColumn(\"jurisdiction\", col(\"jurisdiction\").cast(\"int\"))\n",
    "print(\"collisions Schema after modification:\\n\")\n",
    "collisions_df1.printSchema()\n",
    "print(\"\\nSample data from collisions Schema:\\n\")\n",
    "collisions_df1.show(5)"
   ]
  },
  {
   "cell_type": "markdown",
   "metadata": {},
   "source": [
    "### 1.4 Read Case ID Sample CSV File"
   ]
  },
  {
   "cell_type": "code",
   "execution_count": 50,
   "metadata": {
    "colab": {
     "referenced_widgets": [
      "0358baae787d475889deeaa311eeb159",
      ""
     ]
    },
    "execution": {
     "iopub.execute_input": "2025-06-17T05:05:10.648763Z",
     "iopub.status.busy": "2025-06-17T05:05:10.648531Z",
     "iopub.status.idle": "2025-06-17T05:05:11.925520Z",
     "shell.execute_reply": "2025-06-17T05:05:11.924566Z",
     "shell.execute_reply.started": "2025-06-17T05:05:10.648732Z"
    },
    "id": "7eZ1737q7BQN",
    "outputId": "1e98943c-4dc1-4c9d-b655-ce9e7bc79a90",
    "tags": []
   },
   "outputs": [
    {
     "data": {
      "application/vnd.jupyter.widget-view+json": {
       "model_id": "cad8ff16a604420588b52099c5217bb7",
       "version_major": 2,
       "version_minor": 0
      },
      "text/plain": [
       "VBox()"
      ]
     },
     "metadata": {},
     "output_type": "display_data"
    },
    {
     "data": {
      "application/vnd.jupyter.widget-view+json": {
       "model_id": "",
       "version_major": 2,
       "version_minor": 0
      },
      "text/plain": [
       "FloatProgress(value=0.0, bar_style='info', description='Progress:', layout=Layout(height='25px', width='50%'),…"
      ]
     },
     "metadata": {},
     "output_type": "display_data"
    }
   ],
   "source": [
    "case_ids_df = spark.read.load(\"/user/livy/sample_case_ids.csv\", format = \"csv\", header = \"true\", inferSchema = \"true\")"
   ]
  },
  {
   "cell_type": "code",
   "execution_count": 51,
   "metadata": {
    "colab": {
     "referenced_widgets": [
      "45195d5b6f0d49f09bd37c07122ed559",
      ""
     ]
    },
    "execution": {
     "iopub.execute_input": "2025-06-17T05:05:11.927285Z",
     "iopub.status.busy": "2025-06-17T05:05:11.926970Z",
     "iopub.status.idle": "2025-06-17T05:05:11.984665Z",
     "shell.execute_reply": "2025-06-17T05:05:11.983614Z",
     "shell.execute_reply.started": "2025-06-17T05:05:11.927238Z"
    },
    "id": "42LZOHM67BQN",
    "outputId": "180557e9-0303-4a21-e620-a9e936fc14f7",
    "tags": []
   },
   "outputs": [
    {
     "data": {
      "application/vnd.jupyter.widget-view+json": {
       "model_id": "5ce6e6b215ec42eab718233ac971e993",
       "version_major": 2,
       "version_minor": 0
      },
      "text/plain": [
       "VBox()"
      ]
     },
     "metadata": {},
     "output_type": "display_data"
    },
    {
     "data": {
      "application/vnd.jupyter.widget-view+json": {
       "model_id": "",
       "version_major": 2,
       "version_minor": 0
      },
      "text/plain": [
       "FloatProgress(value=0.0, bar_style='info', description='Progress:', layout=Layout(height='25px', width='50%'),…"
      ]
     },
     "metadata": {},
     "output_type": "display_data"
    },
    {
     "name": "stdout",
     "output_type": "stream",
     "text": [
      "Case ID Schema as read by PySpark:\n",
      "\n",
      "root\n",
      " |-- case_id: double (nullable = true)\n",
      " |-- db_year: integer (nullable = true)"
     ]
    }
   ],
   "source": [
    "print(\"Case ID Schema as read by PySpark:\\n\")\n",
    "case_ids_df.printSchema()"
   ]
  },
  {
   "cell_type": "code",
   "execution_count": 52,
   "metadata": {
    "colab": {
     "referenced_widgets": [
      "e5e7f614644b411fbd7371d60b6ec154",
      ""
     ]
    },
    "execution": {
     "iopub.execute_input": "2025-06-17T05:05:11.986207Z",
     "iopub.status.busy": "2025-06-17T05:05:11.985918Z",
     "iopub.status.idle": "2025-06-17T05:05:12.300146Z",
     "shell.execute_reply": "2025-06-17T05:05:12.299018Z",
     "shell.execute_reply.started": "2025-06-17T05:05:11.986170Z"
    },
    "id": "2pSspiOj7BQN",
    "outputId": "bcac42f2-2c6b-4c1a-87dc-3913ac971337",
    "tags": []
   },
   "outputs": [
    {
     "data": {
      "application/vnd.jupyter.widget-view+json": {
       "model_id": "3f636e60ff874cd08d7ed8b815641008",
       "version_major": 2,
       "version_minor": 0
      },
      "text/plain": [
       "VBox()"
      ]
     },
     "metadata": {},
     "output_type": "display_data"
    },
    {
     "data": {
      "application/vnd.jupyter.widget-view+json": {
       "model_id": "",
       "version_major": 2,
       "version_minor": 0
      },
      "text/plain": [
       "FloatProgress(value=0.0, bar_style='info', description='Progress:', layout=Layout(height='25px', width='50%'),…"
      ]
     },
     "metadata": {},
     "output_type": "display_data"
    },
    {
     "name": "stdout",
     "output_type": "stream",
     "text": [
      "+-----------+-------+\n",
      "|    case_id|db_year|\n",
      "+-----------+-------+\n",
      "|9.0017156E7|   2021|\n",
      "|  4078685.0|   2021|\n",
      "|9.0588783E7|   2021|\n",
      "|  3351919.0|   2018|\n",
      "|   632208.0|   2018|\n",
      "+-----------+-------+\n",
      "only showing top 5 rows"
     ]
    }
   ],
   "source": [
    "case_ids_df.show(5)"
   ]
  },
  {
   "cell_type": "code",
   "execution_count": 53,
   "metadata": {
    "execution": {
     "iopub.execute_input": "2025-06-17T05:05:12.301793Z",
     "iopub.status.busy": "2025-06-17T05:05:12.301514Z",
     "iopub.status.idle": "2025-06-17T05:05:12.388025Z",
     "shell.execute_reply": "2025-06-17T05:05:12.386971Z",
     "shell.execute_reply.started": "2025-06-17T05:05:12.301762Z"
    },
    "id": "gAiRkUZzklCj",
    "tags": []
   },
   "outputs": [
    {
     "data": {
      "application/vnd.jupyter.widget-view+json": {
       "model_id": "bd31f01d20a54da5b17bc14c385f0dd6",
       "version_major": 2,
       "version_minor": 0
      },
      "text/plain": [
       "VBox()"
      ]
     },
     "metadata": {},
     "output_type": "display_data"
    },
    {
     "data": {
      "application/vnd.jupyter.widget-view+json": {
       "model_id": "",
       "version_major": 2,
       "version_minor": 0
      },
      "text/plain": [
       "FloatProgress(value=0.0, bar_style='info', description='Progress:', layout=Layout(height='25px', width='50%'),…"
      ]
     },
     "metadata": {},
     "output_type": "display_data"
    }
   ],
   "source": [
    "caseid_Schema = StructType([\n",
    "    StructField('case_id', StringType(), True),\n",
    "    StructField('db_year', IntegerType(), True),\n",
    "    ])"
   ]
  },
  {
   "cell_type": "code",
   "execution_count": 54,
   "metadata": {
    "execution": {
     "iopub.execute_input": "2025-06-17T05:05:12.389866Z",
     "iopub.status.busy": "2025-06-17T05:05:12.389385Z",
     "iopub.status.idle": "2025-06-17T05:05:13.176029Z",
     "shell.execute_reply": "2025-06-17T05:05:13.174965Z",
     "shell.execute_reply.started": "2025-06-17T05:05:12.389834Z"
    },
    "tags": []
   },
   "outputs": [
    {
     "data": {
      "application/vnd.jupyter.widget-view+json": {
       "model_id": "9ea43d400a344deb9d7d68253ecb734d",
       "version_major": 2,
       "version_minor": 0
      },
      "text/plain": [
       "VBox()"
      ]
     },
     "metadata": {},
     "output_type": "display_data"
    },
    {
     "data": {
      "application/vnd.jupyter.widget-view+json": {
       "model_id": "",
       "version_major": 2,
       "version_minor": 0
      },
      "text/plain": [
       "FloatProgress(value=0.0, bar_style='info', description='Progress:', layout=Layout(height='25px', width='50%'),…"
      ]
     },
     "metadata": {},
     "output_type": "display_data"
    },
    {
     "name": "stdout",
     "output_type": "stream",
     "text": [
      "+--------------------+\n",
      "|max(length(case_id))|\n",
      "+--------------------+\n",
      "|                  22|\n",
      "+--------------------+"
     ]
    }
   ],
   "source": [
    "case_id_df2 = spark.read.load(\"/user/livy/sample_case_ids.csv\", format = \"csv\", header = \"true\", schema = caseid_Schema)\n",
    "case_id_df2.select(max(length(col('case_id')))).show()"
   ]
  },
  {
   "cell_type": "markdown",
   "metadata": {},
   "source": [
    "#### 'case_id' is an integer of max 22 digits. Define a large decimal type with 22 digits and 0 scale and use it for casting"
   ]
  },
  {
   "cell_type": "code",
   "execution_count": 55,
   "metadata": {
    "execution": {
     "iopub.execute_input": "2025-06-17T05:05:13.177563Z",
     "iopub.status.busy": "2025-06-17T05:05:13.177324Z",
     "iopub.status.idle": "2025-06-17T05:05:13.441490Z",
     "shell.execute_reply": "2025-06-17T05:05:13.440312Z",
     "shell.execute_reply.started": "2025-06-17T05:05:13.177533Z"
    },
    "id": "0Ce-_nNslBiG",
    "tags": []
   },
   "outputs": [
    {
     "data": {
      "application/vnd.jupyter.widget-view+json": {
       "model_id": "1903314f10004022aaeb5a945e5f51bb",
       "version_major": 2,
       "version_minor": 0
      },
      "text/plain": [
       "VBox()"
      ]
     },
     "metadata": {},
     "output_type": "display_data"
    },
    {
     "data": {
      "application/vnd.jupyter.widget-view+json": {
       "model_id": "",
       "version_major": 2,
       "version_minor": 0
      },
      "text/plain": [
       "FloatProgress(value=0.0, bar_style='info', description='Progress:', layout=Layout(height='25px', width='50%'),…"
      ]
     },
     "metadata": {},
     "output_type": "display_data"
    },
    {
     "name": "stdout",
     "output_type": "stream",
     "text": [
      "Case ID Schema after modification:\n",
      "\n",
      "root\n",
      " |-- case_id: decimal(22,0) (nullable = true)\n",
      " |-- db_year: integer (nullable = true)\n",
      "\n",
      "\n",
      "Sample data from Case ID Schema:\n",
      "\n",
      "+--------+-------+\n",
      "| case_id|db_year|\n",
      "+--------+-------+\n",
      "|90017156|   2021|\n",
      "| 4078685|   2021|\n",
      "|90588783|   2021|\n",
      "| 3351919|   2018|\n",
      "|  632208|   2018|\n",
      "+--------+-------+\n",
      "only showing top 5 rows"
     ]
    }
   ],
   "source": [
    "case_ids_df1 = spark.read.load(\"/user/livy/sample_case_ids.csv\", format = \"csv\", header = \"true\", schema = caseid_Schema)\n",
    "\n",
    "case_ids_df1 = case_ids_df.withColumn(\"case_id\", col(\"case_id\").cast(large_case_id_decimal_type))\n",
    "\n",
    "print(\"Case ID Schema after modification:\\n\")\n",
    "case_ids_df1.printSchema()\n",
    "print(\"\\nSample data from Case ID Schema:\\n\")\n",
    "case_ids_df1.show(5)"
   ]
  },
  {
   "cell_type": "code",
   "execution_count": 56,
   "metadata": {
    "execution": {
     "iopub.execute_input": "2025-06-17T05:05:13.442965Z",
     "iopub.status.busy": "2025-06-17T05:05:13.442757Z",
     "iopub.status.idle": "2025-06-17T05:05:15.727537Z",
     "shell.execute_reply": "2025-06-17T05:05:15.726529Z",
     "shell.execute_reply.started": "2025-06-17T05:05:13.442937Z"
    },
    "tags": []
   },
   "outputs": [
    {
     "data": {
      "application/vnd.jupyter.widget-view+json": {
       "model_id": "60fa4fd9febb4665abdb7b18e438043f",
       "version_major": 2,
       "version_minor": 0
      },
      "text/plain": [
       "VBox()"
      ]
     },
     "metadata": {},
     "output_type": "display_data"
    },
    {
     "data": {
      "application/vnd.jupyter.widget-view+json": {
       "model_id": "",
       "version_major": 2,
       "version_minor": 0
      },
      "text/plain": [
       "FloatProgress(value=0.0, bar_style='info', description='Progress:', layout=Layout(height='25px', width='50%'),…"
      ]
     },
     "metadata": {},
     "output_type": "display_data"
    },
    {
     "name": "stdout",
     "output_type": "stream",
     "text": [
      "+-------------------+\n",
      "|            case_id|\n",
      "+-------------------+\n",
      "|             377546|\n",
      "|            2788420|\n",
      "|            2454913|\n",
      "|            2746663|\n",
      "|            8294809|\n",
      "|            4397716|\n",
      "|            8093229|\n",
      "|           90905548|\n",
      "|9250011005145016000|\n",
      "|            8940650|\n",
      "|           90828955|\n",
      "|            5822855|\n",
      "|            4064285|\n",
      "|9550011230140017000|\n",
      "|           90627693|\n",
      "|            5051908|\n",
      "|            2730591|\n",
      "|            1379014|\n",
      "|            8792143|\n",
      "|            9000725|\n",
      "+-------------------+\n",
      "only showing top 20 rows"
     ]
    }
   ],
   "source": [
    "case_ids_df1.select(\"case_id\").distinct().show()"
   ]
  },
  {
   "cell_type": "markdown",
   "metadata": {
    "id": "kAM9ZgH_qfRL"
   },
   "source": [
    "# **2. Data Cleaning** <font color = red>[20 marks]</font> <br>\n"
   ]
  },
  {
   "cell_type": "code",
   "execution_count": 57,
   "metadata": {
    "execution": {
     "iopub.execute_input": "2025-06-17T05:05:15.729378Z",
     "iopub.status.busy": "2025-06-17T05:05:15.729025Z",
     "iopub.status.idle": "2025-06-17T05:05:15.996297Z",
     "shell.execute_reply": "2025-06-17T05:05:15.830250Z",
     "shell.execute_reply.started": "2025-06-17T05:05:15.729331Z"
    },
    "id": "k_jMLLutpNf-",
    "tags": []
   },
   "outputs": [
    {
     "data": {
      "application/vnd.jupyter.widget-view+json": {
       "model_id": "0edbc5ee4b0c478892657b40a821316c",
       "version_major": 2,
       "version_minor": 0
      },
      "text/plain": [
       "VBox()"
      ]
     },
     "metadata": {},
     "output_type": "display_data"
    },
    {
     "data": {
      "application/vnd.jupyter.widget-view+json": {
       "model_id": "",
       "version_major": 2,
       "version_minor": 0
      },
      "text/plain": [
       "FloatProgress(value=0.0, bar_style='info', description='Progress:', layout=Layout(height='25px', width='50%'),…"
      ]
     },
     "metadata": {},
     "output_type": "display_data"
    }
   ],
   "source": [
    "#Display Schema & Sample Data"
   ]
  },
  {
   "cell_type": "markdown",
   "metadata": {
    "id": "VCZOT2OHCoJZ"
   },
   "source": [
    "## **2.1 Missing Values** <font color = red>[10 marks]</font> <br>\n"
   ]
  },
  {
   "cell_type": "code",
   "execution_count": 58,
   "metadata": {
    "execution": {
     "iopub.execute_input": "2025-06-17T05:05:15.998250Z",
     "iopub.status.busy": "2025-06-17T05:05:15.997887Z",
     "iopub.status.idle": "2025-06-17T05:05:33.386887Z",
     "shell.execute_reply": "2025-06-17T05:05:33.385679Z",
     "shell.execute_reply.started": "2025-06-17T05:05:15.998216Z"
    },
    "id": "b5KJ-qd8qLbk",
    "tags": []
   },
   "outputs": [
    {
     "data": {
      "application/vnd.jupyter.widget-view+json": {
       "model_id": "20a7d4dc5b5548aeb88c864f1e549ac6",
       "version_major": 2,
       "version_minor": 0
      },
      "text/plain": [
       "VBox()"
      ]
     },
     "metadata": {},
     "output_type": "display_data"
    },
    {
     "data": {
      "application/vnd.jupyter.widget-view+json": {
       "model_id": "",
       "version_major": 2,
       "version_minor": 0
      },
      "text/plain": [
       "FloatProgress(value=0.0, bar_style='info', description='Progress:', layout=Layout(height='25px', width='50%'),…"
      ]
     },
     "metadata": {},
     "output_type": "display_data"
    },
    {
     "name": "stdout",
     "output_type": "stream",
     "text": [
      "\n",
      "Missing values in table case_ids:\n",
      "+-------+-------+\n",
      "|case_id|db_year|\n",
      "+-------+-------+\n",
      "|      0|      0|\n",
      "+-------+-------+\n",
      "\n",
      "\n",
      "Missing values in table collisions:\n",
      "+-------+------------+----------+------------------+---------+----------+--------------------+---------------+-----------------+---------+-------------+--------------+-----------+------------+--------------+--------+---------+------------+---------+-----------------------+---------------+-----------------+-----------+--------+-------------+---------------+--------+------------------+--------------+---------------+-----------+------------------------+----------------------+-------------+------------------------+-----------+-----------------+---------------------------+-----------------+------------+----------------+--------+--------------+-------------+--------------------+-----------------+--------------------+---------------+--------------------+-------------------------------+-------------------------+-------------------+--------------------------+------------------------------+-----------------------+------------------------+----------------------+-----------------------+-------------------------+--------------------------+--------+---------+--------------+--------------+------------+\n",
      "|case_id|jurisdiction|officer_id|reporting_district|chp_shift|population|county_city_location|county_location|special_condition|beat_type|chp_beat_type|chp_beat_class|beat_number|primary_road|secondary_road|distance|direction|intersection|weather_1|state_highway_indicator|caltrans_county|caltrans_district|state_route|postmile|location_type|side_of_highway|tow_away|collision_severity|killed_victims|injured_victims|party_count|primary_collision_factor|pcf_violation_category|pcf_violation|pcf_violation_subsection|hit_and_run|type_of_collision|motor_vehicle_involved_with|pedestrian_action|road_surface|road_condition_1|lighting|control_device|chp_road_type|pedestrian_collision|bicycle_collision|motorcycle_collision|truck_collision|not_private_property|statewide_vehicle_type_at_fault|chp_vehicle_type_at_fault|severe_injury_count|other_visible_injury_count|complaint_of_pain_injury_count|pedestrian_killed_count|pedestrian_injured_count|bicyclist_killed_count|bicyclist_injured_count|motorcyclist_killed_count|motorcyclist_injured_count|latitude|longitude|collision_date|collision_time|process_date|\n",
      "+-------+------------+----------+------------------+---------+----------+--------------------+---------------+-----------------+---------+-------------+--------------+-----------+------------+--------------+--------+---------+------------+---------+-----------------------+---------------+-----------------+-----------+--------+-------------+---------------+--------+------------------+--------------+---------------+-----------+------------------------+----------------------+-------------+------------------------+-----------+-----------------+---------------------------+-----------------+------------+----------------+--------+--------------+-------------+--------------------+-----------------+--------------------+---------------+--------------------+-------------------------------+-------------------------+-------------------+--------------------------+------------------------------+-----------------------+------------------------+----------------------+-----------------------+-------------------------+--------------------------+--------+---------+--------------+--------------+------------+\n",
      "|      0|        1158|      2264|            552653|        0|       165|                   0|              0|            51730|        0|            0|           274|      80780|          10|             2|       0|   232663|        9484|     4626|                    318|         682075|           648728|     648728|  648728|       682075|         682077|    6153|                 0|           200|            230|          0|                    5660|                 15424|        64175|                  601427|          0|             7655|                       4887|              615|        8141|            7903|    5301|          5791|            0|                   0|                0|                   0|              0|                   0|                         186119|                   251662|                  0|                         0|                             0|                      0|                       0|                     0|                      0|                        0|                         0|  669049|   669049|             0|          8084|           0|\n",
      "+-------+------------+----------+------------------+---------+----------+--------------------+---------------+-----------------+---------+-------------+--------------+-----------+------------+--------------+--------+---------+------------+---------+-----------------------+---------------+-----------------+-----------+--------+-------------+---------------+--------+------------------+--------------+---------------+-----------+------------------------+----------------------+-------------+------------------------+-----------+-----------------+---------------------------+-----------------+------------+----------------+--------+--------------+-------------+--------------------+-----------------+--------------------+---------------+--------------------+-------------------------------+-------------------------+-------------------+--------------------------+------------------------------+-----------------------+------------------------+----------------------+-----------------------+-------------------------+--------------------------+--------+---------+--------------+--------------+------------+\n",
      "\n",
      "\n",
      "Missing values in table parties:\n",
      "+---+-------+------------+----------+--------+---------+---------+--------------+-------------------+------------------------+------------------------+------------------------+----------------+------------------+------------------------+-------------------+--------------------+----------------------------+------------+------------+----------------------+-----------------------+----------------------+----------+\n",
      "| id|case_id|party_number|party_type|at_fault|party_sex|party_age|party_sobriety|direction_of_travel|party_safety_equipment_1|party_safety_equipment_2|financial_responsibility|cellphone_in_use|cellphone_use_type|other_associate_factor_1|party_number_killed|party_number_injured|movement_preceding_collision|vehicle_year|vehicle_make|statewide_vehicle_type|chp_vehicle_type_towing|chp_vehicle_type_towed|party_race|\n",
      "+---+-------+------------+----------+--------+---------+---------+--------------+-------------------+------------------------+------------------------+------------------------+----------------+------------------+------------------------+-------------------+--------------------+----------------------------+------------+------------+----------------------+-----------------------+----------------------+----------+\n",
      "|  0|      0|           0|      4395|       0|   249269|   290783|         55663|              52377|                  314883|                  699581|                  152613|          568197|            432264|                  112496|                  0|                   0|                       33275|      177599|      195057|                210693|                 401142|                909543|    436844|\n",
      "+---+-------+------------+----------+--------+---------+---------+--------------+-------------------+------------------------+------------------------+------------------------+----------------+------------------+------------------------+-------------------+--------------------+----------------------------+------------+------------+----------------------+-----------------------+----------------------+----------+\n",
      "\n",
      "\n",
      "Missing values in table victims:\n",
      "+---+-------+------------+-----------+----------+----------+-----------------------+-----------------------+-------------------------+-------------------------+--------------+\n",
      "| id|case_id|party_number|victim_role|victim_sex|victim_age|victim_degree_of_injury|victim_seating_position|victim_safety_equipment_1|victim_safety_equipment_2|victim_ejected|\n",
      "+---+-------+------------+-----------+----------+----------+-----------------------+-----------------------+-------------------------+-------------------------+--------------+\n",
      "|  0|      0|           0|          1|     24041|     32145|                      0|                   1913|                    55215|                   310220|          4272|\n",
      "+---+-------+------------+-----------+----------+----------+-----------------------+-----------------------+-------------------------+-------------------------+--------------+"
     ]
    }
   ],
   "source": [
    "#Check for Missing Values\n",
    "from pyspark.sql.functions import col, sum, when\n",
    "\n",
    "# Function to count missing values for each column\n",
    "def find_missing_vals(df, table):\n",
    "    print(f\"\\nMissing values in table {table}:\")\n",
    "    df.select([sum(when(col(c).isNull() | (col(c) == ''), 1).otherwise(0)).alias(c) for c in df.columns]).show()\n",
    "\n",
    "# find missing values in each table\n",
    "find_missing_vals(case_ids_df1, \"case_ids\")\n",
    "find_missing_vals(collisions_df1, \"collisions\")\n",
    "find_missing_vals(parties_df1, \"parties\")\n",
    "find_missing_vals(victims_df1, \"victims\")"
   ]
  },
  {
   "cell_type": "code",
   "execution_count": 59,
   "metadata": {
    "execution": {
     "iopub.execute_input": "2025-06-17T05:05:33.388530Z",
     "iopub.status.busy": "2025-06-17T05:05:33.388288Z",
     "iopub.status.idle": "2025-06-17T05:05:54.857752Z",
     "shell.execute_reply": "2025-06-17T05:05:54.856628Z",
     "shell.execute_reply.started": "2025-06-17T05:05:33.388500Z"
    },
    "id": "d2Sr-3uDqXd2",
    "tags": []
   },
   "outputs": [
    {
     "data": {
      "application/vnd.jupyter.widget-view+json": {
       "model_id": "c61782109ba8476caa1a95a409375f18",
       "version_major": 2,
       "version_minor": 0
      },
      "text/plain": [
       "VBox()"
      ]
     },
     "metadata": {},
     "output_type": "display_data"
    },
    {
     "data": {
      "application/vnd.jupyter.widget-view+json": {
       "model_id": "",
       "version_major": 2,
       "version_minor": 0
      },
      "text/plain": [
       "FloatProgress(value=0.0, bar_style='info', description='Progress:', layout=Layout(height='25px', width='50%'),…"
      ]
     },
     "metadata": {},
     "output_type": "display_data"
    },
    {
     "name": "stdout",
     "output_type": "stream",
     "text": [
      "\n",
      "Count of records in case_ids: 942433\n",
      "Sparse Cols to drop in table case_ids (>50.0% miss): []\n",
      "\n",
      "Count of records in collisions: 935791\n",
      "Sparse Cols to drop in table collisions (>50.0% miss): ['reporting_district', 'caltrans_county', 'caltrans_district', 'state_route', 'postmile', 'location_type', 'side_of_highway', 'pcf_violation_subsection', 'latitude', 'longitude']\n",
      "\n",
      "Count of records in parties: 1866917\n",
      "Sparse Cols to drop in table parties (>50.0% miss): []\n",
      "\n",
      "Count of records in victims: 963933\n",
      "Sparse Cols to drop in table victims (>50.0% miss): []"
     ]
    }
   ],
   "source": [
    "#Drop Sparse Columns\n",
    "from pyspark.sql.functions import col, sum, when\n",
    "\n",
    "def drop_sparse_cols(df, table, threshold=0.5):\n",
    "    table_count = df.count()\n",
    "    print(f\"\\nCount of records in {table}: {table_count}\")\n",
    "\n",
    "    # Obtain count of missing values in each column\n",
    "    miss_cnt = df.select([\n",
    "        sum(when(col(c).isNull() | (col(c) == ''), 1)).alias(c) for c in df.columns\n",
    "    ]).collect()[0].asDict()\n",
    "\n",
    "    # Handle None (treat as 0)\n",
    "    sparse_cols = [\n",
    "        c_name for c_name, miss in miss_cnt.items()\n",
    "        if (miss or 0) / table_count > threshold\n",
    "    ]\n",
    "\n",
    "    print(f\"Sparse Cols to drop in table {table} (>{threshold*100}% miss): {sparse_cols}\")\n",
    "\n",
    "    # Drop sparse columns\n",
    "    return df.drop(*sparse_cols)\n",
    "\n",
    "# Apply to each DataFrame with a 50% threshold\n",
    "case_ids_df1 = drop_sparse_cols(case_ids_df1, \"case_ids\")\n",
    "collisions_df1 = drop_sparse_cols(collisions_df1, \"collisions\")\n",
    "parties_df1 = drop_sparse_cols(parties_df1, \"parties\")\n",
    "victims_df1 = drop_sparse_cols(victims_df1, \"victims\")"
   ]
  },
  {
   "cell_type": "code",
   "execution_count": 60,
   "metadata": {
    "execution": {
     "iopub.execute_input": "2025-06-17T05:05:54.859080Z",
     "iopub.status.busy": "2025-06-17T05:05:54.858862Z",
     "iopub.status.idle": "2025-06-17T05:05:55.125424Z",
     "shell.execute_reply": "2025-06-17T05:05:55.124373Z",
     "shell.execute_reply.started": "2025-06-17T05:05:54.859050Z"
    },
    "id": "6OgjAdGbqoKM",
    "tags": []
   },
   "outputs": [
    {
     "data": {
      "application/vnd.jupyter.widget-view+json": {
       "model_id": "9b7a733b9d844b118463d89982181695",
       "version_major": 2,
       "version_minor": 0
      },
      "text/plain": [
       "VBox()"
      ]
     },
     "metadata": {},
     "output_type": "display_data"
    },
    {
     "data": {
      "application/vnd.jupyter.widget-view+json": {
       "model_id": "",
       "version_major": 2,
       "version_minor": 0
      },
      "text/plain": [
       "FloatProgress(value=0.0, bar_style='info', description='Progress:', layout=Layout(height='25px', width='50%'),…"
      ]
     },
     "metadata": {},
     "output_type": "display_data"
    },
    {
     "name": "stdout",
     "output_type": "stream",
     "text": [
      "Converted column 'collision_date' to date.\n",
      "Converted column 'process_date' to date."
     ]
    }
   ],
   "source": [
    "#Convert Data Types\n",
    "\n",
    "from pyspark.sql.functions import col, to_date\n",
    "from pyspark.sql.types import IntegerType, DoubleType\n",
    "\n",
    "# Step 1: Convert known date columns in PySpark\n",
    "def convert_date_col(df, col_name, date_format=\"yyyy-MM-dd\"):\n",
    "    if col_name in df.columns:\n",
    "        df = df.withColumn(col_name, to_date(col(col_name), date_format))\n",
    "        print(f\"Converted column '{col_name}' to date.\")\n",
    "    return df\n",
    "\n",
    "# Apply to relevant columns\n",
    "collisions_df1 = convert_date_col(collisions_df1, 'collision_date')\n",
    "collisions_df1 = convert_date_col(collisions_df1, 'process_date')\n"
   ]
  },
  {
   "cell_type": "code",
   "execution_count": 61,
   "metadata": {
    "execution": {
     "iopub.execute_input": "2025-06-17T05:05:55.126665Z",
     "iopub.status.busy": "2025-06-17T05:05:55.126410Z",
     "iopub.status.idle": "2025-06-17T05:06:00.427218Z",
     "shell.execute_reply": "2025-06-17T05:06:00.426076Z",
     "shell.execute_reply.started": "2025-06-17T05:05:55.126624Z"
    },
    "id": "4fUWSUlhqvRF",
    "tags": []
   },
   "outputs": [
    {
     "data": {
      "application/vnd.jupyter.widget-view+json": {
       "model_id": "8176fccc43af414e80d6c777b9d6350a",
       "version_major": 2,
       "version_minor": 0
      },
      "text/plain": [
       "VBox()"
      ]
     },
     "metadata": {},
     "output_type": "display_data"
    },
    {
     "data": {
      "application/vnd.jupyter.widget-view+json": {
       "model_id": "",
       "version_major": 2,
       "version_minor": 0
      },
      "text/plain": [
       "FloatProgress(value=0.0, bar_style='info', description='Progress:', layout=Layout(height='25px', width='50%'),…"
      ]
     },
     "metadata": {},
     "output_type": "display_data"
    },
    {
     "name": "stdout",
     "output_type": "stream",
     "text": [
      "\n",
      "Handling missing values for Table caseids__df:\n",
      "Replaced missing numbers with 0.\n",
      "Replaced NULL columns with 'Unknown'.\n",
      "\n",
      "Handling missing values for Table collisions_df:\n",
      "Replaced missing numbers with 0.\n",
      "Replaced NULL columns with 'Unknown'.\n",
      "Replaced missing values in 'collision_time' with earliest date: 2025-06-17 00:00:00\n",
      "\n",
      "Handling missing values for Table parties_df:\n",
      "Replaced missing numbers with 0.\n",
      "Replaced NULL columns with 'Unknown'.\n",
      "\n",
      "Handling missing values for Table victims_df:\n",
      "Replaced missing numbers with 0.\n",
      "Replaced NULL columns with 'Unknown'."
     ]
    }
   ],
   "source": [
    "#Handle Missing Values\n",
    "\n",
    "from pyspark.sql.functions import col, min, to_date\n",
    "from pyspark.sql.types import IntegerType, FloatType, StringType, DateType\n",
    "\n",
    "def impute_missing_vals(df, table):\n",
    "    print(f\"\\nHandling missing values for Table {table}:\")\n",
    "\n",
    "    # Replace missing (int and double) values to 0\n",
    "    num_cols = [c_name for c_name, dtype in df.dtypes if dtype in ['int', 'double', 'long', 'decimal(22,0)']]\n",
    "    for c_name in num_cols:\n",
    "        df = df.fillna({c_name: 0})\n",
    "    print(f\"Replaced missing numbers with 0.\")\n",
    "\n",
    "    # Replace NULL string values with 'Unknown'\n",
    "    obj_cols = [c_name for c_name, dtype in df.dtypes if dtype == 'string']\n",
    "    for c_name in obj_cols:\n",
    "        df = df.fillna({c_name: 'Unknown'})\n",
    "    print(f\"Replaced NULL columns with 'Unknown'.\")\n",
    "\n",
    "    # Fill datetime columns with the earliest available date\n",
    "    date_cols = [c_name for c_name, dtype in df.dtypes if dtype == 'timestamp']\n",
    "    for c_name in date_cols:\n",
    "        earliest_date = df.select(min(col(c_name))).collect()[0][0]  # Get the earliest date\n",
    "        if earliest_date:\n",
    "            df = df.withColumn(c_name, when(col(c_name).isNull(), earliest_date).otherwise(col(c_name)))\n",
    "            print(f\"Replaced missing values in '{c_name}' with earliest date: {earliest_date}\")\n",
    "\n",
    "    return df\n",
    "\n",
    "# Apply to all datasets\n",
    "case_ids_df1 = impute_missing_vals(case_ids_df1, \"caseids__df\")\n",
    "collisions_df1 = impute_missing_vals(collisions_df1, \"collisions_df\")\n",
    "parties_df1 = impute_missing_vals(parties_df1, \"parties_df\")\n",
    "victims_df1 = impute_missing_vals(victims_df1, \"victims_df\")"
   ]
  },
  {
   "cell_type": "markdown",
   "metadata": {
    "id": "wfEo9TE9CsH4"
   },
   "source": [
    "## **2.2 Fixing Columns** <font color = red>[5 marks]</font> <br>\n"
   ]
  },
  {
   "cell_type": "code",
   "execution_count": 62,
   "metadata": {
    "execution": {
     "iopub.execute_input": "2025-06-17T05:06:00.428766Z",
     "iopub.status.busy": "2025-06-17T05:06:00.428493Z",
     "iopub.status.idle": "2025-06-17T05:06:37.922545Z",
     "shell.execute_reply": "2025-06-17T05:06:37.920728Z",
     "shell.execute_reply.started": "2025-06-17T05:06:00.428694Z"
    },
    "id": "nkrFJOkhqzWV",
    "tags": []
   },
   "outputs": [
    {
     "data": {
      "application/vnd.jupyter.widget-view+json": {
       "model_id": "57d697e01ec64f44b136e14471b1b663",
       "version_major": 2,
       "version_minor": 0
      },
      "text/plain": [
       "VBox()"
      ]
     },
     "metadata": {},
     "output_type": "display_data"
    },
    {
     "data": {
      "application/vnd.jupyter.widget-view+json": {
       "model_id": "",
       "version_major": 2,
       "version_minor": 0
      },
      "text/plain": [
       "FloatProgress(value=0.0, bar_style='info', description='Progress:', layout=Layout(height='25px', width='50%'),…"
      ]
     },
     "metadata": {},
     "output_type": "display_data"
    },
    {
     "name": "stdout",
     "output_type": "stream",
     "text": [
      "Removed 35 duplicate rrecords from case_df.\n",
      "Removed 0 duplicate rrecords from collisions_df.\n",
      "Removed 0 duplicate rrecords from parties_df.\n",
      "Removed 0 duplicate rrecords from victims_df."
     ]
    }
   ],
   "source": [
    "#Remove Duplicates\n",
    "\n",
    "# Function to remove duplicates and print the count of duplicates removed\n",
    "def remove_dupes(df, table):\n",
    "\n",
    "    df_cleaned = df.dropDuplicates()\n",
    "    print(f\"Removed {df.count() - df_cleaned.count()} duplicate rrecords from {table}.\")\n",
    "    return df_cleaned\n",
    "\n",
    "case_ids_df1 = remove_dupes(case_ids_df1, \"case_df\")\n",
    "collisions_df1 = remove_dupes(collisions_df1, \"collisions_df\")\n",
    "parties_df1 = remove_dupes(parties_df1, \"parties_df\")\n",
    "victims_df1 = remove_dupes(victims_df1, \"victims_df\")"
   ]
  },
  {
   "cell_type": "code",
   "execution_count": 63,
   "metadata": {
    "execution": {
     "iopub.execute_input": "2025-06-17T05:06:37.924637Z",
     "iopub.status.busy": "2025-06-17T05:06:37.924324Z",
     "iopub.status.idle": "2025-06-17T05:06:37.982366Z",
     "shell.execute_reply": "2025-06-17T05:06:37.981260Z",
     "shell.execute_reply.started": "2025-06-17T05:06:37.924590Z"
    },
    "tags": []
   },
   "outputs": [
    {
     "data": {
      "application/vnd.jupyter.widget-view+json": {
       "model_id": "88a41a365e274129aa2152abb9ce8b61",
       "version_major": 2,
       "version_minor": 0
      },
      "text/plain": [
       "VBox()"
      ]
     },
     "metadata": {},
     "output_type": "display_data"
    },
    {
     "data": {
      "application/vnd.jupyter.widget-view+json": {
       "model_id": "",
       "version_major": 2,
       "version_minor": 0
      },
      "text/plain": [
       "FloatProgress(value=0.0, bar_style='info', description='Progress:', layout=Layout(height='25px', width='50%'),…"
      ]
     },
     "metadata": {},
     "output_type": "display_data"
    },
    {
     "name": "stdout",
     "output_type": "stream",
     "text": [
      "\n",
      "case_df - Numeric columns:\n",
      " - db_year\n",
      "\n",
      "collisions_df - Numeric columns:\n",
      " - jurisdiction\n",
      " - county_city_location\n",
      "\n",
      "parties_df - Numeric columns:\n",
      " - party_number\n",
      " - at_fault\n",
      " - party_age\n",
      " - cellphone_in_use\n",
      " - party_number_killed\n",
      " - party_number_injured\n",
      " - vehicle_year\n",
      "\n",
      "victims_df - Numeric columns:\n",
      " - party_number\n",
      " - victim_age"
     ]
    }
   ],
   "source": [
    "from pyspark.sql import functions as fn\n",
    "\n",
    "# List of numerical columns to check for outliers\n",
    "def num_cols(df, table):\n",
    "    # Filter numeric columns by checking data type of each column\n",
    "    num_cols_list = [c_name for c_name, dtype in df.dtypes if dtype in ['int', 'double', 'long', 'decimal(22,0)'] and 'id' not in c_name.lower()]\n",
    "    print(f\"\\n{table} - Numeric columns:\")\n",
    "    for c in num_cols_list:\n",
    "        \n",
    "        print(f\" - {c}\")\n",
    "    return num_cols_list\n",
    "\n",
    "# List of numerical columns to check for outliers\n",
    "case_ids_num_cols = num_cols(case_ids_df1, \"case_df\")\n",
    "collisions_num_cols = num_cols(collisions_df1, \"collisions_df\")\n",
    "parties_num_cols = num_cols(parties_df1, \"parties_df\")\n",
    "victims_num_cols = num_cols(victims_df1, \"victims_df\")"
   ]
  },
  {
   "cell_type": "code",
   "execution_count": 64,
   "metadata": {
    "execution": {
     "iopub.execute_input": "2025-06-17T05:06:37.984712Z",
     "iopub.status.busy": "2025-06-17T05:06:37.983950Z",
     "iopub.status.idle": "2025-06-17T05:09:24.581543Z",
     "shell.execute_reply": "2025-06-17T05:09:24.580412Z",
     "shell.execute_reply.started": "2025-06-17T05:06:37.984664Z"
    },
    "id": "SAw2eXIhq32z",
    "tags": []
   },
   "outputs": [
    {
     "data": {
      "application/vnd.jupyter.widget-view+json": {
       "model_id": "60327895be5b45379d0bde2d3f0c1a7b",
       "version_major": 2,
       "version_minor": 0
      },
      "text/plain": [
       "VBox()"
      ]
     },
     "metadata": {},
     "output_type": "display_data"
    },
    {
     "data": {
      "application/vnd.jupyter.widget-view+json": {
       "model_id": "",
       "version_major": 2,
       "version_minor": 0
      },
      "text/plain": [
       "FloatProgress(value=0.0, bar_style='info', description='Progress:', layout=Layout(height='25px', width='50%'),…"
      ]
     },
     "metadata": {},
     "output_type": "display_data"
    },
    {
     "name": "stdout",
     "output_type": "stream",
     "text": [
      "\n",
      "Detecting outliers using IQR in case_df :\n",
      "\n",
      "Detecting outliers using IQR in collisions_df :\n",
      "\n",
      "Detecting outliers using IQR in parties_df :\n",
      "party_number: 35411 outliers\n",
      "party_age: 19180 outliers\n",
      "cellphone_in_use: 26406 outliers\n",
      "party_number_killed: 6889 outliers\n",
      "party_number_injured: 437989 outliers\n",
      "vehicle_year: 193038 outliers\n",
      "\n",
      "Detecting outliers using IQR in victims_df :\n",
      "party_number: 12976 outliers\n",
      "victim_age: 17284 outliers"
     ]
    }
   ],
   "source": [
    "from pyspark.sql import functions as fn\n",
    "\n",
    "#Detect Outliers using IQR\n",
    "def detect_outliers_iqr(df, table, cols):\n",
    "    print(f\"\\nDetecting outliers using IQR in {table} :\")\n",
    "\n",
    "    for c in cols:\n",
    "         \n",
    "        qntiles = df.approxQuantile(c, [0.25, 0.75], 0.05)  # Relative error tolerance is 0.05\n",
    "        Q1 = qntiles[0]      # Calculate Q1 (25th percentile)\n",
    "        Q3 = qntiles[1]      # Calculate Q3 (75th percentile)\n",
    "        IQR = Q3 - Q1\n",
    "        lower_bound = Q1 - 1.5 * IQR\n",
    "        upper_bound = Q3 + 1.5 * IQR\n",
    "\n",
    "        # Detect outliers: values below the lower bound or above the upper bound\n",
    "        outliers_df = df.filter((fn.col(c) < lower_bound) | (fn.col(c) > upper_bound))\n",
    "        \n",
    "        # Count outliers only if there are any\n",
    "        outliers_count = outliers_df.count()\n",
    "        if outliers_count > 0:\n",
    "            print(f\"{c}: {outliers_count} outliers\")\n",
    "\n",
    "\n",
    "# Apply outlier detection to each DataFrame\n",
    "detect_outliers_iqr(case_ids_df1, \"case_df\", case_ids_num_cols)\n",
    "detect_outliers_iqr(collisions_df1, \"collisions_df\", collisions_num_cols)\n",
    "detect_outliers_iqr(parties_df1, \"parties_df\", parties_num_cols)\n",
    "detect_outliers_iqr(victims_df1, \"victims_df\", victims_num_cols)"
   ]
  },
  {
   "cell_type": "markdown",
   "metadata": {
    "id": "9NexAOW9CyUb"
   },
   "source": [
    "## **2.3 Outlier Analysis** <font color = red>[5 marks]</font> <br>\n"
   ]
  },
  {
   "cell_type": "code",
   "execution_count": 65,
   "metadata": {
    "execution": {
     "iopub.execute_input": "2025-06-17T05:09:24.583092Z",
     "iopub.status.busy": "2025-06-17T05:09:24.582867Z",
     "iopub.status.idle": "2025-06-17T05:14:33.054622Z",
     "shell.execute_reply": "2025-06-17T05:14:33.053677Z",
     "shell.execute_reply.started": "2025-06-17T05:09:24.583061Z"
    },
    "id": "aFqrGQDXrfcF",
    "tags": []
   },
   "outputs": [
    {
     "data": {
      "application/vnd.jupyter.widget-view+json": {
       "model_id": "1bf77ffc93fa4746b18329f672379bd3",
       "version_major": 2,
       "version_minor": 0
      },
      "text/plain": [
       "VBox()"
      ]
     },
     "metadata": {},
     "output_type": "display_data"
    },
    {
     "data": {
      "application/vnd.jupyter.widget-view+json": {
       "model_id": "",
       "version_major": 2,
       "version_minor": 0
      },
      "text/plain": [
       "FloatProgress(value=0.0, bar_style='info', description='Progress:', layout=Layout(height='25px', width='50%'),…"
      ]
     },
     "metadata": {},
     "output_type": "display_data"
    },
    {
     "name": "stdout",
     "output_type": "stream",
     "text": [
      "\n",
      "Removing outliers from case_df...\n",
      " - No outliers removed.\n",
      "\n",
      "Removing outliers from collisions_df...\n",
      " - No outliers removed.\n",
      "\n",
      "Removing outliers from parties_df...\n",
      " - 35411 rows removed based on column 'party_number'\n",
      " - 13536 rows removed based on column 'party_age'\n",
      " - 25923 rows removed based on column 'cellphone_in_use'\n",
      " - 6547 rows removed based on column 'party_number_killed'\n",
      " - 420961 rows removed based on column 'party_number_injured'\n",
      " - 135958 rows removed based on column 'vehicle_year'\n",
      "\n",
      "Removing outliers from victims_df...\n",
      " - 12976 rows removed based on column 'party_number'\n",
      " - 15125 rows removed based on column 'victim_age'"
     ]
    }
   ],
   "source": [
    "#Remove Outliers\n",
    "\n",
    "from pyspark.sql import functions as fn\n",
    "\n",
    "def remove_outliers_iqr(df, table, num_cols, ex_cols=None):\n",
    "    print(f\"\\nRemoving outliers from {table}...\")\n",
    "    clean_df = df\n",
    "    total_removed = 0\n",
    "\n",
    "    for c in num_cols:\n",
    "        # Calculate Q1 and Q3\n",
    "        q1, q3 = clean_df.approxQuantile(c, [0.25, 0.75], 0.05)\n",
    "        iqr = q3 - q1\n",
    "        lower = q1 - 1.5 * iqr\n",
    "        upper = q3 + 1.5 * iqr\n",
    "\n",
    "        before_count = clean_df.count()\n",
    "        clean_df = clean_df.filter((fn.col(c) >= lower) & (fn.col(c) <= upper))\n",
    "        after_count = clean_df.count()\n",
    "\n",
    "        removed = before_count - after_count\n",
    "        total_removed += removed\n",
    "\n",
    "        if removed > 0:\n",
    "            print(f\" - {removed} rows removed based on column '{c}'\")\n",
    "\n",
    "    if total_removed == 0:\n",
    "        print(\" - No outliers removed.\")\n",
    "\n",
    "    return clean_df\n",
    "\n",
    "# Define columns to exclude from outlier removal\n",
    "ex_case_id = ['case_id']\n",
    "ex_collison = ['case_id', 'id']\n",
    "ex_party = ['case_id', 'id', 'party_number']\n",
    "ex_victim = ['case_id', 'id', 'party_number']\n",
    "\n",
    "# Apply the outlier removal to all datasets\n",
    "case_ids_df1 = remove_outliers_iqr(case_ids_df1, \"case_df\", case_ids_num_cols, ex_case_id)\n",
    "collisions_df1 = remove_outliers_iqr(collisions_df1, \"collisions_df\",collisions_num_cols,  ex_collison)\n",
    "parties_df1 = remove_outliers_iqr(parties_df1, \"parties_df\", parties_num_cols , ex_party)\n",
    "victims_df1 = remove_outliers_iqr(victims_df1, \"victims_df\", victims_num_cols,  ex_victim)"
   ]
  },
  {
   "cell_type": "code",
   "execution_count": 66,
   "metadata": {
    "execution": {
     "iopub.execute_input": "2025-06-17T05:14:33.056415Z",
     "iopub.status.busy": "2025-06-17T05:14:33.055938Z",
     "iopub.status.idle": "2025-06-17T05:14:36.355877Z",
     "shell.execute_reply": "2025-06-17T05:14:36.354647Z",
     "shell.execute_reply.started": "2025-06-17T05:14:33.056316Z"
    },
    "tags": []
   },
   "outputs": [
    {
     "data": {
      "application/vnd.jupyter.widget-view+json": {
       "model_id": "0a9b55a6140e477987648a8ca6333e4b",
       "version_major": 2,
       "version_minor": 0
      },
      "text/plain": [
       "VBox()"
      ]
     },
     "metadata": {},
     "output_type": "display_data"
    },
    {
     "data": {
      "application/vnd.jupyter.widget-view+json": {
       "model_id": "",
       "version_major": 2,
       "version_minor": 0
      },
      "text/plain": [
       "FloatProgress(value=0.0, bar_style='info', description='Progress:', layout=Layout(height='25px', width='50%'),…"
      ]
     },
     "metadata": {},
     "output_type": "display_data"
    },
    {
     "name": "stdout",
     "output_type": "stream",
     "text": [
      "+--------------------+\n",
      "|  collision_severity|\n",
      "+--------------------+\n",
      "|property damage only|\n",
      "|                pain|\n",
      "|       severe injury|\n",
      "|        other injury|\n",
      "+--------------------+"
     ]
    }
   ],
   "source": [
    "collisions_df1.select(\"collision_severity\").distinct().show()"
   ]
  },
  {
   "cell_type": "markdown",
   "metadata": {
    "id": "hnfqJzRGROS3"
   },
   "source": [
    "# **3. Exploratory Data Analysis** <font color = red>[65 marks]</font> <br>\n"
   ]
  },
  {
   "cell_type": "markdown",
   "metadata": {
    "id": "7o5r7LZ4XHS4"
   },
   "source": [
    "## **3.1.1. Data Preparation** <font color = red>[5 marks]</font> <br>\n",
    "\n",
    "Q: Classify variables into categorical and numerical."
   ]
  },
  {
   "cell_type": "code",
   "execution_count": 67,
   "metadata": {
    "execution": {
     "iopub.execute_input": "2025-06-17T05:14:36.357436Z",
     "iopub.status.busy": "2025-06-17T05:14:36.357139Z",
     "iopub.status.idle": "2025-06-17T05:14:36.424498Z",
     "shell.execute_reply": "2025-06-17T05:14:36.423440Z",
     "shell.execute_reply.started": "2025-06-17T05:14:36.357404Z"
    },
    "id": "Y0jC1E0LsEuu",
    "tags": []
   },
   "outputs": [
    {
     "data": {
      "application/vnd.jupyter.widget-view+json": {
       "model_id": "0e493ea84dcd465dadb6cecb53be2161",
       "version_major": 2,
       "version_minor": 0
      },
      "text/plain": [
       "VBox()"
      ]
     },
     "metadata": {},
     "output_type": "display_data"
    },
    {
     "data": {
      "application/vnd.jupyter.widget-view+json": {
       "model_id": "",
       "version_major": 2,
       "version_minor": 0
      },
      "text/plain": [
       "FloatProgress(value=0.0, bar_style='info', description='Progress:', layout=Layout(height='25px', width='50%'),…"
      ]
     },
     "metadata": {},
     "output_type": "display_data"
    }
   ],
   "source": [
    "# Encode Categorical Variables\n",
    "\n",
    "# String Indexing for Categorical Columns\n",
    "from pyspark.sql.types import DoubleType\n",
    "from pyspark.sql import functions as fn\n",
    "\n",
    "\n",
    "def classify_cat_num_columns(df):\n",
    "    cat_cols = [c for c, t in df.dtypes if t == 'string']\n",
    "    num_cols = [c for c, t in df.dtypes if t in ['int', 'double', 'long', 'decimal(22,0)']]\n",
    "    return cat_cols, num_cols"
   ]
  },
  {
   "cell_type": "code",
   "execution_count": 68,
   "metadata": {
    "execution": {
     "iopub.execute_input": "2025-06-17T05:14:36.435227Z",
     "iopub.status.busy": "2025-06-17T05:14:36.435014Z",
     "iopub.status.idle": "2025-06-17T05:14:36.504163Z",
     "shell.execute_reply": "2025-06-17T05:14:36.502989Z",
     "shell.execute_reply.started": "2025-06-17T05:14:36.435198Z"
    },
    "tags": []
   },
   "outputs": [
    {
     "data": {
      "application/vnd.jupyter.widget-view+json": {
       "model_id": "47f245ad78e6467c97aabe26fb641d57",
       "version_major": 2,
       "version_minor": 0
      },
      "text/plain": [
       "VBox()"
      ]
     },
     "metadata": {},
     "output_type": "display_data"
    },
    {
     "data": {
      "application/vnd.jupyter.widget-view+json": {
       "model_id": "",
       "version_major": 2,
       "version_minor": 0
      },
      "text/plain": [
       "FloatProgress(value=0.0, bar_style='info', description='Progress:', layout=Layout(height='25px', width='50%'),…"
      ]
     },
     "metadata": {},
     "output_type": "display_data"
    },
    {
     "name": "stdout",
     "output_type": "stream",
     "text": [
      "Collision Table:\n",
      "\n",
      "Categorical Columns: ['officer_id', 'chp_shift', 'population', 'county_location', 'special_condition', 'beat_type', 'chp_beat_type', 'chp_beat_class', 'beat_number', 'primary_road', 'secondary_road', 'distance', 'direction', 'intersection', 'weather_1', 'state_highway_indicator', 'tow_away', 'collision_severity', 'killed_victims', 'injured_victims', 'party_count', 'primary_collision_factor', 'pcf_violation_category', 'pcf_violation', 'hit_and_run', 'type_of_collision', 'motor_vehicle_involved_with', 'pedestrian_action', 'road_surface', 'road_condition_1', 'lighting', 'control_device', 'chp_road_type', 'pedestrian_collision', 'bicycle_collision', 'motorcycle_collision', 'truck_collision', 'not_private_property', 'statewide_vehicle_type_at_fault', 'chp_vehicle_type_at_fault', 'severe_injury_count', 'other_visible_injury_count', 'complaint_of_pain_injury_count', 'pedestrian_killed_count', 'pedestrian_injured_count', 'bicyclist_killed_count', 'bicyclist_injured_count', 'motorcyclist_killed_count', 'motorcyclist_injured_count']\n",
      "\n",
      "Numerical Columns: ['case_id', 'jurisdiction', 'county_city_location']"
     ]
    }
   ],
   "source": [
    "# table collision\n",
    "cat_cols, num_cols = classify_cat_num_columns(collisions_df1)\n",
    "print(\"Collision Table:\\n\")\n",
    "print(\"Categorical Columns:\", cat_cols)\n",
    "print(\"\\nNumerical Columns:\", num_cols)"
   ]
  },
  {
   "cell_type": "code",
   "execution_count": 69,
   "metadata": {
    "execution": {
     "iopub.execute_input": "2025-06-17T05:14:36.508380Z",
     "iopub.status.busy": "2025-06-17T05:14:36.507895Z",
     "iopub.status.idle": "2025-06-17T05:14:36.571515Z",
     "shell.execute_reply": "2025-06-17T05:14:36.570069Z",
     "shell.execute_reply.started": "2025-06-17T05:14:36.508185Z"
    },
    "tags": []
   },
   "outputs": [
    {
     "data": {
      "application/vnd.jupyter.widget-view+json": {
       "model_id": "f88ea9b7dc984c2c8614d4f8f9005bfc",
       "version_major": 2,
       "version_minor": 0
      },
      "text/plain": [
       "VBox()"
      ]
     },
     "metadata": {},
     "output_type": "display_data"
    },
    {
     "data": {
      "application/vnd.jupyter.widget-view+json": {
       "model_id": "",
       "version_major": 2,
       "version_minor": 0
      },
      "text/plain": [
       "FloatProgress(value=0.0, bar_style='info', description='Progress:', layout=Layout(height='25px', width='50%'),…"
      ]
     },
     "metadata": {},
     "output_type": "display_data"
    },
    {
     "name": "stdout",
     "output_type": "stream",
     "text": [
      "Case ID Table:\n",
      "\n",
      "Categorical Columns: []\n",
      "\n",
      "Numerical Columns: ['case_id', 'db_year']"
     ]
    }
   ],
   "source": [
    "# table case_id\n",
    "cat_cols, num_cols = classify_cat_num_columns(case_ids_df1)\n",
    "print(\"Case ID Table:\\n\")\n",
    "print(\"Categorical Columns:\", cat_cols)\n",
    "print(\"\\nNumerical Columns:\", num_cols)"
   ]
  },
  {
   "cell_type": "code",
   "execution_count": 70,
   "metadata": {
    "execution": {
     "iopub.execute_input": "2025-06-17T05:14:36.573101Z",
     "iopub.status.busy": "2025-06-17T05:14:36.572818Z",
     "iopub.status.idle": "2025-06-17T05:14:36.636069Z",
     "shell.execute_reply": "2025-06-17T05:14:36.634945Z",
     "shell.execute_reply.started": "2025-06-17T05:14:36.573012Z"
    },
    "tags": []
   },
   "outputs": [
    {
     "data": {
      "application/vnd.jupyter.widget-view+json": {
       "model_id": "a72e079ca6e2440395b30ce50de7b839",
       "version_major": 2,
       "version_minor": 0
      },
      "text/plain": [
       "VBox()"
      ]
     },
     "metadata": {},
     "output_type": "display_data"
    },
    {
     "data": {
      "application/vnd.jupyter.widget-view+json": {
       "model_id": "",
       "version_major": 2,
       "version_minor": 0
      },
      "text/plain": [
       "FloatProgress(value=0.0, bar_style='info', description='Progress:', layout=Layout(height='25px', width='50%'),…"
      ]
     },
     "metadata": {},
     "output_type": "display_data"
    },
    {
     "name": "stdout",
     "output_type": "stream",
     "text": [
      "Victims Table:\n",
      "\n",
      "Categorical Columns: ['victim_role', 'victim_sex', 'victim_degree_of_injury', 'victim_seating_position', 'victim_safety_equipment_1', 'victim_safety_equipment_2', 'victim_ejected']\n",
      "\n",
      " Numerical Columns: ['id', 'case_id', 'party_number', 'victim_age']"
     ]
    }
   ],
   "source": [
    "# table victims\n",
    "cat_cols, num_cols = classify_cat_num_columns(victims_df1)\n",
    "print(\"Victims Table:\\n\")\n",
    "print(\"Categorical Columns:\", cat_cols)\n",
    "print(\"\\n Numerical Columns:\", num_cols)"
   ]
  },
  {
   "cell_type": "code",
   "execution_count": 71,
   "metadata": {
    "execution": {
     "iopub.execute_input": "2025-06-17T05:14:36.638104Z",
     "iopub.status.busy": "2025-06-17T05:14:36.637595Z",
     "iopub.status.idle": "2025-06-17T05:14:36.698153Z",
     "shell.execute_reply": "2025-06-17T05:14:36.696938Z",
     "shell.execute_reply.started": "2025-06-17T05:14:36.638056Z"
    },
    "tags": []
   },
   "outputs": [
    {
     "data": {
      "application/vnd.jupyter.widget-view+json": {
       "model_id": "04fe9f9b1c0045bab89e330fa12c7621",
       "version_major": 2,
       "version_minor": 0
      },
      "text/plain": [
       "VBox()"
      ]
     },
     "metadata": {},
     "output_type": "display_data"
    },
    {
     "data": {
      "application/vnd.jupyter.widget-view+json": {
       "model_id": "",
       "version_major": 2,
       "version_minor": 0
      },
      "text/plain": [
       "FloatProgress(value=0.0, bar_style='info', description='Progress:', layout=Layout(height='25px', width='50%'),…"
      ]
     },
     "metadata": {},
     "output_type": "display_data"
    },
    {
     "name": "stdout",
     "output_type": "stream",
     "text": [
      "Parties Table:\n",
      "\n",
      "Categorical Columns: ['party_type', 'party_sex', 'party_sobriety', 'direction_of_travel', 'party_safety_equipment_1', 'party_safety_equipment_2', 'financial_responsibility', 'cellphone_use_type', 'other_associate_factor_1', 'movement_preceding_collision', 'vehicle_make', 'statewide_vehicle_type', 'chp_vehicle_type_towing', 'chp_vehicle_type_towed', 'party_race']\n",
      "\n",
      "Numerical Columns: ['id', 'case_id', 'party_number', 'at_fault', 'party_age', 'cellphone_in_use', 'party_number_killed', 'party_number_injured', 'vehicle_year']"
     ]
    }
   ],
   "source": [
    "# table parties\n",
    "cat_cols, num_cols = classify_cat_num_columns(parties_df1)\n",
    "print(\"Parties Table:\\n\")\n",
    "print(\"Categorical Columns:\", cat_cols)\n",
    "print(\"\\nNumerical Columns:\", num_cols)"
   ]
  },
  {
   "cell_type": "code",
   "execution_count": 72,
   "metadata": {
    "execution": {
     "iopub.execute_input": "2025-06-17T05:14:36.699648Z",
     "iopub.status.busy": "2025-06-17T05:14:36.699400Z",
     "iopub.status.idle": "2025-06-17T05:25:56.135171Z",
     "shell.execute_reply": "2025-06-17T05:25:56.134018Z",
     "shell.execute_reply.started": "2025-06-17T05:14:36.699618Z"
    },
    "id": "QcfwtlGLsz9v",
    "tags": []
   },
   "outputs": [
    {
     "data": {
      "application/vnd.jupyter.widget-view+json": {
       "model_id": "c4b4f6209ec14c9bb1c0f636a35742ae",
       "version_major": 2,
       "version_minor": 0
      },
      "text/plain": [
       "VBox()"
      ]
     },
     "metadata": {},
     "output_type": "display_data"
    },
    {
     "data": {
      "application/vnd.jupyter.widget-view+json": {
       "model_id": "",
       "version_major": 2,
       "version_minor": 0
      },
      "text/plain": [
       "FloatProgress(value=0.0, bar_style='info', description='Progress:', layout=Layout(height='25px', width='50%'),…"
      ]
     },
     "metadata": {},
     "output_type": "display_data"
    },
    {
     "name": "stdout",
     "output_type": "stream",
     "text": [
      "Encoding important column: collision_severity\n",
      "Encoded 49 categorical columns.\n",
      "+-------------------+------------+----------+--------------+----------------+--------------------+---------------+-----------------+-----------------+-------------+--------------+-----------+--------------+--------------+--------+---------+------------+---------+-----------------------+--------+--------------------+--------------+---------------+-----------+------------------------+----------------------+-------------+---------------+-----------------+---------------------------+--------------------+------------+----------------+--------------------+--------------+-------------+--------------------+-----------------+--------------------+---------------+--------------------+-------------------------------+-------------------------+-------------------+--------------------------+------------------------------+-----------------------+------------------------+----------------------+-----------------------+-------------------------+--------------------------+--------------+-------------------+------------+------------------+-----------------+------------------+-----------------------+-------------------------+-----------------+---------------------+----------------------+-------------------+--------------------+----------------------+----------------+-----------------+--------------------+-----------------+-------------------------------+----------------+--------------------------+----------------------+-----------------------+-------------------+--------------------------------+------------------------------+---------------------+-------------------+-------------------------+-----------------------------------+-------------------------+--------------------+------------------------+----------------+----------------------+---------------------+----------------------------+-------------------------+----------------------------+-----------------------+----------------------------+---------------------------------------+---------------------------------+---------------------------+----------------------------------+--------------------------------------+-------------------------------+--------------------------------+------------------------------+-------------------------------+---------------------------------+----------------------------------+\n",
      "|            case_id|jurisdiction|officer_id|     chp_shift|      population|county_city_location|county_location|special_condition|        beat_type|chp_beat_type|chp_beat_class|beat_number|  primary_road|secondary_road|distance|direction|intersection|weather_1|state_highway_indicator|tow_away|  collision_severity|killed_victims|injured_victims|party_count|primary_collision_factor|pcf_violation_category|pcf_violation|    hit_and_run|type_of_collision|motor_vehicle_involved_with|   pedestrian_action|road_surface|road_condition_1|            lighting|control_device|chp_road_type|pedestrian_collision|bicycle_collision|motorcycle_collision|truck_collision|not_private_property|statewide_vehicle_type_at_fault|chp_vehicle_type_at_fault|severe_injury_count|other_visible_injury_count|complaint_of_pain_injury_count|pedestrian_killed_count|pedestrian_injured_count|bicyclist_killed_count|bicyclist_injured_count|motorcyclist_killed_count|motorcyclist_injured_count|collision_date|     collision_time|process_date|officer_id_indexed|chp_shift_indexed|population_indexed|county_location_indexed|special_condition_indexed|beat_type_indexed|chp_beat_type_indexed|chp_beat_class_indexed|beat_number_indexed|primary_road_indexed|secondary_road_indexed|distance_indexed|direction_indexed|intersection_indexed|weather_1_indexed|state_highway_indicator_indexed|tow_away_indexed|collision_severity_indexed|killed_victims_indexed|injured_victims_indexed|party_count_indexed|primary_collision_factor_indexed|pcf_violation_category_indexed|pcf_violation_indexed|hit_and_run_indexed|type_of_collision_indexed|motor_vehicle_involved_with_indexed|pedestrian_action_indexed|road_surface_indexed|road_condition_1_indexed|lighting_indexed|control_device_indexed|chp_road_type_indexed|pedestrian_collision_indexed|bicycle_collision_indexed|motorcycle_collision_indexed|truck_collision_indexed|not_private_property_indexed|statewide_vehicle_type_at_fault_indexed|chp_vehicle_type_at_fault_indexed|severe_injury_count_indexed|other_visible_injury_count_indexed|complaint_of_pain_injury_count_indexed|pedestrian_killed_count_indexed|pedestrian_injured_count_indexed|bicyclist_killed_count_indexed|bicyclist_injured_count_indexed|motorcyclist_killed_count_indexed|motorcyclist_injured_count_indexed|\n",
      "+-------------------+------------+----------+--------------+----------------+--------------------+---------------+-----------------+-----------------+-------------+--------------+-----------+--------------+--------------+--------+---------+------------+---------+-----------------------+--------+--------------------+--------------+---------------+-----------+------------------------+----------------------+-------------+---------------+-----------------+---------------------------+--------------------+------------+----------------+--------------------+--------------+-------------+--------------------+-----------------+--------------------+---------------+--------------------+-------------------------------+-------------------------+-------------------+--------------------------+------------------------------+-----------------------+------------------------+----------------------+-----------------------+-------------------------+--------------------------+--------------+-------------------+------------+------------------+-----------------+------------------+-----------------------+-------------------------+-----------------+---------------------+----------------------+-------------------+--------------------+----------------------+----------------+-----------------+--------------------+-----------------+-------------------------------+----------------+--------------------------+----------------------+-----------------------+-------------------+--------------------------------+------------------------------+---------------------+-------------------+-------------------------+-----------------------------------+-------------------------+--------------------+------------------------+----------------+----------------------+---------------------+----------------------------+-------------------------+----------------------------+-----------------------+----------------------------+---------------------------------------+---------------------------------+---------------------------+----------------------------------+--------------------------------------+-------------------------------+--------------------------------+------------------------------+-------------------------------+---------------------------------+----------------------------------+\n",
      "|            4479211|        1900|    503668|       not chp|  25000 to 50000|                1939|    los angeles|              0.0|          not chp|      not chp|       not chp|       35T1|      147TH ST|  HAWTHORNE BL|   100.0|     east|         0.0|    clear|                    0.0|     0.0|property damage only|           0.0|            0.0|        2.0|    vehicle code viol...|  unsafe starting o...|      22106.0|not hit and run|        sideswipe|        other motor vehicle|no pedestrian inv...|         dry|          normal|            daylight|          none|            0|                   0|                0|                   0|              1|                 1.0|           truck or truck tr...|           two axle truck|                  0|                         0|                             0|                      0|                       0|                     0|                      0|                        0|                       0.0|    2009-10-17|2025-06-17 14:30:00|  2010-11-17|           20271.0|              0.0|               4.0|                    0.0|                      0.0|              0.0|                  0.0|                   0.0|              229.0|              4383.0|                 350.0|             1.0|              3.0|                 0.0|              0.0|                            0.0|             1.0|                       0.0|                   0.0|                    0.0|                0.0|                             0.0|                           6.0|                  7.0|                0.0|                      2.0|                                0.0|                      0.0|                 0.0|                     0.0|             0.0|                   0.0|                  0.0|                         0.0|                      0.0|                         0.0|                    1.0|                         0.0|                                    6.0|                             12.0|                        0.0|                               0.0|                                   0.0|                            0.0|                             0.0|                           0.0|                            0.0|                              0.0|                               0.0|\n",
      "|9690010621133710000|        9690|      9739|0600 thru 1359| 50000 to 100000|                3017|         orange|          Unknown|chp state highway|   interstate|     chp other|         59|          RT 5| AV VAQUERO UC|  2650.0|    south|         0.0|    clear|                    1.0|     1.0|property damage only|           0.0|            0.0|        2.0|    vehicle code viol...|      improper turning|      22107.0|not hit and run|       hit object|               fixed object|no pedestrian inv...|         dry|          normal|            daylight|          none|            0|                   0|                0|                   0|              0|                 1.0|                  passenger car|     passenger car, st...|                  0|                         0|                             0|                      0|                       0|                     0|                      0|                        0|                       0.0|    2001-06-21|2025-06-17 13:37:00|  2001-10-12|            9948.0|              2.0|               3.0|                    1.0|                      1.0|              1.0|                  1.0|                   1.0|             1649.0|                 1.0|               41422.0|           824.0|              1.0|                 0.0|              0.0|                            1.0|             0.0|                       0.0|                   0.0|                    0.0|                0.0|                             0.0|                           1.0|                  1.0|                0.0|                      3.0|                                1.0|                      0.0|                 0.0|                     0.0|             0.0|                   0.0|                  0.0|                         0.0|                      0.0|                         0.0|                    0.0|                         0.0|                                    0.0|                              0.0|                        0.0|                               0.0|                                   0.0|                            0.0|                             0.0|                           0.0|                            0.0|                              0.0|                               0.0|\n",
      "|            9257783|         700|     OA018|       not chp|  10000 to 25000|                 734|   contra costa|              0.0|          not chp|      not chp|       not chp|        532|       MAIN ST|        3RD ST|     0.0|  Unknown|         0.0|    clear|                    0.0|     1.0|property damage only|           0.0|            0.0|        1.0|    vehicle code viol...|              speeding|      22350.0|not hit and run|       hit object|               fixed object|no pedestrian inv...|         dry|          normal|dark with street ...|          none|            0|                   0|                0|                   0|              0|                 1.0|                  passenger car|     passenger car, st...|                  0|                         0|                             0|                      0|                       0|                     0|                      0|                        0|                       0.0|    2021-03-28|2025-06-17 22:18:00|  2021-05-01|           45710.0|              0.0|               5.0|                    8.0|                      0.0|              0.0|                  0.0|                   0.0|             4788.0|                15.0|                   8.0|             0.0|              0.0|                 0.0|              0.0|                            0.0|             0.0|                       0.0|                   0.0|                    0.0|                1.0|                             0.0|                           0.0|                  0.0|                0.0|                      3.0|                                1.0|                      0.0|                 0.0|                     0.0|             1.0|                   0.0|                  0.0|                         0.0|                      0.0|                         0.0|                    0.0|                         0.0|                                    0.0|                              0.0|                        0.0|                               0.0|                                   0.0|                            0.0|                             0.0|                           0.0|                            0.0|                              0.0|                               0.0|\n",
      "|            6379190|        9565|     20573|1400 thru 2159|         >250000|                1942|    los angeles|              0.0|chp state highway|   interstate|     chp other|        062|        RT 405|         RT 10|   200.0|    south|         0.0|   cloudy|                    1.0|     1.0|                pain|           0.0|            1.0|        2.0|    vehicle code viol...|              speeding|      22350.0|not hit and run|         rear end|        other motor vehicle|no pedestrian inv...|         dry|          normal|            daylight|   functioning|            1|                   0|                0|                   0|              0|                 1.0|                  passenger car|     sport utility veh...|                  0|                         0|                             1|                      0|                       0|                     0|                      0|                        0|                       0.0|    2013-06-08|2025-06-17 18:20:00|  2014-03-22|           17323.0|              1.0|               0.0|                    0.0|                      0.0|              1.0|                  1.0|                   1.0|               39.0|                 3.0|                  15.0|             2.0|              1.0|                 0.0|              1.0|                            1.0|             0.0|                       1.0|                   0.0|                    1.0|                0.0|                             0.0|                           0.0|                  0.0|                0.0|                      0.0|                                0.0|                      0.0|                 0.0|                     0.0|             0.0|                   1.0|                  1.0|                         0.0|                      0.0|                         0.0|                    0.0|                         0.0|                                    0.0|                              3.0|                        0.0|                               0.0|                                   1.0|                            0.0|                             0.0|                           0.0|                            0.0|                              0.0|                               0.0|\n",
      "|           91207854|        9675|    019979|0600 thru 1359|100000 to 250000|                3026|         orange|              0.0|chp state highway|   interstate|     chp other|        503|I-5 NORTHBOUND|   JAMBOREE RD|   700.0|    south|         0.0|    clear|                    1.0|     0.0|property damage only|           0.0|            0.0|        2.0|       other than driver|  other than driver...|      Unknown|not hit and run|            other|               other object|no pedestrian inv...|         dry|  loose material|            daylight|          none|            0|                   0|                0|                   0|              1|                 1.0|                        Unknown|                  Unknown|                  0|                         0|                             0|                      0|                       0|                     0|                      0|                        0|                       0.0|    2020-03-03|2025-06-17 13:29:00|  2020-03-13|            2478.0|              2.0|               2.0|                    1.0|                      0.0|              1.0|                  1.0|                   1.0|               49.0|               275.0|                 158.0|            39.0|              1.0|                 0.0|              0.0|                            1.0|             1.0|                       0.0|                   0.0|                    0.0|                0.0|                             2.0|                          10.0|                  4.0|                0.0|                      5.0|                                6.0|                      0.0|                 0.0|                     6.0|             0.0|                   0.0|                  0.0|                         0.0|                      0.0|                         0.0|                    1.0|                         0.0|                                    1.0|                              1.0|                        0.0|                               0.0|                                   0.0|                            0.0|                             0.0|                           0.0|                            0.0|                              0.0|                               0.0|\n",
      "+-------------------+------------+----------+--------------+----------------+--------------------+---------------+-----------------+-----------------+-------------+--------------+-----------+--------------+--------------+--------+---------+------------+---------+-----------------------+--------+--------------------+--------------+---------------+-----------+------------------------+----------------------+-------------+---------------+-----------------+---------------------------+--------------------+------------+----------------+--------------------+--------------+-------------+--------------------+-----------------+--------------------+---------------+--------------------+-------------------------------+-------------------------+-------------------+--------------------------+------------------------------+-----------------------+------------------------+----------------------+-----------------------+-------------------------+--------------------------+--------------+-------------------+------------+------------------+-----------------+------------------+-----------------------+-------------------------+-----------------+---------------------+----------------------+-------------------+--------------------+----------------------+----------------+-----------------+--------------------+-----------------+-------------------------------+----------------+--------------------------+----------------------+-----------------------+-------------------+--------------------------------+------------------------------+---------------------+-------------------+-------------------------+-----------------------------------+-------------------------+--------------------+------------------------+----------------+----------------------+---------------------+----------------------------+-------------------------+----------------------------+-----------------------+----------------------------+---------------------------------------+---------------------------------+---------------------------+----------------------------------+--------------------------------------+-------------------------------+--------------------------------+------------------------------+-------------------------------+---------------------------------+----------------------------------+\n",
      "only showing top 5 rows"
     ]
    }
   ],
   "source": [
    "# Encode Categorical Variables\n",
    "from pyspark.sql import functions as fn\n",
    "from pyspark.ml.feature import StringIndexer\n",
    "from pyspark.ml import Pipeline\n",
    "\n",
    "#Encode Categorical Columns using StringIndexer\n",
    "def encode_cat_cols(df, cat_cols, imp_cols=None):\n",
    "    indexers = []\n",
    "    for c in cat_cols:\n",
    "        if imp_cols and c in imp_cols:\n",
    "            print(f\"Encoding important column: {c}\")\n",
    "        indexer = StringIndexer(inputCol=c, outputCol=c + \"_indexed\")\n",
    "        indexers.append(indexer)\n",
    "        \n",
    "     # Create a pipeline to apply all StringIndexers\n",
    "    pipeline = Pipeline(stages=indexers)\n",
    "    \n",
    "    # Fit and transform the data\n",
    "    df_fit_transform = pipeline.fit(df).transform(df)\n",
    "    \n",
    "    print(f\"Encoded {len(cat_cols)} categorical columns.\")\n",
    "    return df_fit_transform\n",
    "\n",
    "cat_cols, num_cols = classify_cat_num_columns(collisions_df1)\n",
    "\n",
    "# Ensure 'collision_severity' is included as an important column\n",
    "if 'collision_severity' not in cat_cols:\n",
    "    cat_cols.append('collision_severity')\n",
    "\n",
    "# Apply encoding to collisions_df\n",
    "collisions_df_fit_transform = encode_cat_cols(collisions_df1, cat_cols, imp_cols=['collision_severity'])\n",
    "\n",
    "# Show the transformed dataframe\n",
    "collisions_df_fit_transform.show(5)"
   ]
  },
  {
   "cell_type": "code",
   "execution_count": 73,
   "metadata": {
    "execution": {
     "iopub.execute_input": "2025-06-17T05:25:56.137319Z",
     "iopub.status.busy": "2025-06-17T05:25:56.136998Z",
     "iopub.status.idle": "2025-06-17T05:25:56.404432Z",
     "shell.execute_reply": "2025-06-17T05:25:56.403234Z",
     "shell.execute_reply.started": "2025-06-17T05:25:56.137272Z"
    },
    "tags": []
   },
   "outputs": [
    {
     "data": {
      "application/vnd.jupyter.widget-view+json": {
       "model_id": "fb54c56b281f4d53bda572febbef3b1d",
       "version_major": 2,
       "version_minor": 0
      },
      "text/plain": [
       "VBox()"
      ]
     },
     "metadata": {},
     "output_type": "display_data"
    },
    {
     "data": {
      "application/vnd.jupyter.widget-view+json": {
       "model_id": "",
       "version_major": 2,
       "version_minor": 0
      },
      "text/plain": [
       "FloatProgress(value=0.0, bar_style='info', description='Progress:', layout=Layout(height='25px', width='50%'),…"
      ]
     },
     "metadata": {},
     "output_type": "display_data"
    },
    {
     "name": "stdout",
     "output_type": "stream",
     "text": [
      "\n",
      "Updated Schema after Re-Order and Rename of columns: collisions_df1\n",
      "root\n",
      " |-- case_id: decimal(22,0) (nullable = false)\n",
      " |-- collision_date: date (nullable = true)\n",
      " |-- process_date: date (nullable = true)\n",
      " |-- collision_severity: string (nullable = false)\n",
      " |-- injured_victims: string (nullable = false)\n",
      " |-- killed_victims: string (nullable = false)\n",
      " |-- jurisdiction: integer (nullable = false)\n",
      " |-- officer_id: string (nullable = false)\n",
      " |-- chp_shift: string (nullable = false)\n",
      " |-- population: string (nullable = false)\n",
      " |-- county_city_location: integer (nullable = false)\n",
      " |-- county_location: string (nullable = false)\n",
      " |-- special_condition: string (nullable = false)\n",
      " |-- beat_type: string (nullable = false)\n",
      " |-- chp_beat_type: string (nullable = false)\n",
      " |-- chp_beat_class: string (nullable = false)\n",
      " |-- beat_number: string (nullable = false)\n",
      " |-- primary_road: string (nullable = false)\n",
      " |-- secondary_road: string (nullable = false)\n",
      " |-- distance: string (nullable = false)\n",
      " |-- direction: string (nullable = false)\n",
      " |-- intersection: string (nullable = false)\n",
      " |-- weather_1: string (nullable = false)\n",
      " |-- state_highway_indicator: string (nullable = false)\n",
      " |-- tow_away: string (nullable = false)\n",
      " |-- party_count: string (nullable = false)\n",
      " |-- primary_collision_factor: string (nullable = false)\n",
      " |-- pcf_violation_category: string (nullable = false)\n",
      " |-- pcf_violation: string (nullable = false)\n",
      " |-- hit_and_run: string (nullable = false)\n",
      " |-- type_of_collision: string (nullable = false)\n",
      " |-- motor_vehicle_involved_with: string (nullable = false)\n",
      " |-- pedestrian_action: string (nullable = false)\n",
      " |-- road_surface: string (nullable = false)\n",
      " |-- road_condition_1: string (nullable = false)\n",
      " |-- lighting: string (nullable = false)\n",
      " |-- control_device: string (nullable = false)\n",
      " |-- chp_road_type: string (nullable = false)\n",
      " |-- pedestrian_collision: string (nullable = false)\n",
      " |-- bicycle_collision: string (nullable = false)\n",
      " |-- motorcycle_collision: string (nullable = false)\n",
      " |-- truck_collision: string (nullable = false)\n",
      " |-- not_private_property: string (nullable = false)\n",
      " |-- statewide_vehicle_type_at_fault: string (nullable = false)\n",
      " |-- chp_vehicle_type_at_fault: string (nullable = false)\n",
      " |-- severe_injury_count: string (nullable = false)\n",
      " |-- other_visible_injury_count: string (nullable = false)\n",
      " |-- complaint_of_pain_injury_count: string (nullable = false)\n",
      " |-- pedestrian_killed_count: string (nullable = false)\n",
      " |-- pedestrian_injured_count: string (nullable = false)\n",
      " |-- bicyclist_killed_count: string (nullable = false)\n",
      " |-- bicyclist_injured_count: string (nullable = false)\n",
      " |-- motorcyclist_killed_count: string (nullable = false)\n",
      " |-- motorcyclist_injured_count: string (nullable = false)\n",
      " |-- collision_time: timestamp (nullable = true)\n",
      "\n",
      "\n",
      "Updated Schema after Re-Order and Rename of columns: victims_df1\n",
      "root\n",
      " |-- id: integer (nullable = false)\n",
      " |-- case_id: decimal(22,0) (nullable = false)\n",
      " |-- party_number: integer (nullable = false)\n",
      " |-- role: string (nullable = false)\n",
      " |-- gender: string (nullable = false)\n",
      " |-- age: integer (nullable = false)\n",
      " |-- injury_severity: string (nullable = false)\n",
      " |-- victim_seating_position: string (nullable = false)\n",
      " |-- victim_safety_equipment_1: string (nullable = false)\n",
      " |-- victim_safety_equipment_2: string (nullable = false)\n",
      " |-- victim_ejected: string (nullable = false)"
     ]
    }
   ],
   "source": [
    "# Reordering & Renaming Columns\n",
    "\n",
    "# ----------------------------\n",
    "# 1. Reorder columns in collisions_df\n",
    "# ----------------------------\n",
    "collisions_cols = collisions_df1.columns\n",
    "\n",
    "# Preferred front columns\n",
    "bring_fwd = ['case_id', 'collision_date', 'process_date', 'collision_severity', 'injured_victims', 'killed_victims']\n",
    "bring_fwd = [c for c in bring_fwd if c in collisions_cols]  # Keep only existing columns\n",
    "\n",
    "# Get remaining columns\n",
    "rest = [c for c in collisions_cols if c not in bring_fwd]\n",
    "\n",
    "# Reorder\n",
    "collisions_df1 = collisions_df1.select(bring_fwd + rest)\n",
    "\n",
    "# ----------------------------\n",
    "# 2. Rename selected columns in victims_df\n",
    "# ----------------------------\n",
    "rename_map = {\n",
    "    'victim_sex': 'gender',\n",
    "    'victim_age': 'age',\n",
    "    'victim_degree_of_injury': 'injury_severity',\n",
    "    'victim_role': 'role'\n",
    "}\n",
    "\n",
    "for old_c, new_c in rename_map.items():\n",
    "    if old_c in victims_df1.columns:\n",
    "        victims_df1 = victims_df1.withColumnRenamed(old_c, new_c)\n",
    "\n",
    "# ----------------------------\n",
    "# 3. Print schemas\n",
    "# ----------------------------\n",
    "print(\"\\nUpdated Schema after Re-Order and Rename of columns: collisions_df1\")\n",
    "collisions_df1.printSchema()\n",
    "\n",
    "print(\"\\nUpdated Schema after Re-Order and Rename of columns: victims_df1\")\n",
    "victims_df1.printSchema()"
   ]
  },
  {
   "cell_type": "code",
   "execution_count": 74,
   "metadata": {
    "execution": {
     "iopub.execute_input": "2025-06-17T05:25:56.406671Z",
     "iopub.status.busy": "2025-06-17T05:25:56.406344Z",
     "iopub.status.idle": "2025-06-17T05:26:23.879321Z",
     "shell.execute_reply": "2025-06-17T05:26:23.877441Z",
     "shell.execute_reply.started": "2025-06-17T05:25:56.406622Z"
    },
    "id": "fCrvS0O1tb_x",
    "tags": []
   },
   "outputs": [
    {
     "data": {
      "application/vnd.jupyter.widget-view+json": {
       "model_id": "d816bd0c8b2f4dcbbeb18826e232db15",
       "version_major": 2,
       "version_minor": 0
      },
      "text/plain": [
       "VBox()"
      ]
     },
     "metadata": {},
     "output_type": "display_data"
    },
    {
     "data": {
      "application/vnd.jupyter.widget-view+json": {
       "model_id": "",
       "version_major": 2,
       "version_minor": 0
      },
      "text/plain": [
       "FloatProgress(value=0.0, bar_style='info', description='Progress:', layout=Layout(height='25px', width='50%'),…"
      ]
     },
     "metadata": {},
     "output_type": "display_data"
    },
    {
     "name": "stdout",
     "output_type": "stream",
     "text": [
      "case_df ==> Rows: 942398, Columns: 2\n",
      "collisions_df ==> Rows: 935791, Columns: 55\n",
      "parties_df ==> Rows: 1228581, Columns: 24\n",
      "victims_df ==> Rows: 935832, Columns: 11"
     ]
    }
   ],
   "source": [
    "# Final cleaned data\n",
    "def final_df_shape(df, name):\n",
    "    num_rows = df.count()\n",
    "    num_cols = len(df.columns)\n",
    "    print(f\"{name} ==> Rows: {num_rows}, Columns: {num_cols}\")\n",
    "\n",
    "# Print final shapes for each cleaned DataFrame\n",
    "final_df_shape(case_ids_df1 , \"case_df\")\n",
    "final_df_shape(collisions_df1, \"collisions_df\")\n",
    "final_df_shape(parties_df1, \"parties_df\")\n",
    "final_df_shape(victims_df1, \"victims_df\")"
   ]
  },
  {
   "cell_type": "markdown",
   "metadata": {
    "id": "IwJW-jOmDafO"
   },
   "source": [
    "Loading the Final Cleaned Dataset into S3 Bucket"
   ]
  },
  {
   "cell_type": "markdown",
   "metadata": {
    "id": "XzNkZxGTuQbu"
   },
   "source": [
    "## **3.1.2. Analyze the distribution of collision severity.** <font color = red>[5 marks]</font> <br>\n",
    "\n",
    "Q: Analyze the distribution of collision severity."
   ]
  },
  {
   "cell_type": "code",
   "execution_count": 75,
   "metadata": {
    "execution": {
     "iopub.execute_input": "2025-06-17T05:26:23.881112Z",
     "iopub.status.busy": "2025-06-17T05:26:23.880757Z",
     "iopub.status.idle": "2025-06-17T05:26:39.229980Z",
     "shell.execute_reply": "2025-06-17T05:26:39.228951Z",
     "shell.execute_reply.started": "2025-06-17T05:26:23.881059Z"
    },
    "id": "9YMvi4IGtiyA",
    "tags": []
   },
   "outputs": [
    {
     "data": {
      "application/vnd.jupyter.widget-view+json": {
       "model_id": "ee0c25f145534bb290c1c75e228e7e8e",
       "version_major": 2,
       "version_minor": 0
      },
      "text/plain": [
       "VBox()"
      ]
     },
     "metadata": {},
     "output_type": "display_data"
    },
    {
     "data": {
      "application/vnd.jupyter.widget-view+json": {
       "model_id": "",
       "version_major": 2,
       "version_minor": 0
      },
      "text/plain": [
       "FloatProgress(value=0.0, bar_style='info', description='Progress:', layout=Layout(height='25px', width='50%'),…"
      ]
     },
     "metadata": {},
     "output_type": "display_data"
    },
    {
     "name": "stdout",
     "output_type": "stream",
     "text": [
      "? Plot saved locally at: /tmp/collision_severity_dist.png\n",
      "? Plot uploaded to: https://trafficds71.s3.amazonaws.com/plots/collision_severity_dist.png"
     ]
    }
   ],
   "source": [
    "import matplotlib.pyplot as plt\n",
    "import seaborn as sns\n",
    "import pandas as pd\n",
    "import boto3\n",
    "# Univariate Analysis\n",
    "\n",
    "# Collision Severity Distribution\n",
    "import matplotlib\n",
    "matplotlib.use('Agg')  # Use non-interactive backend\n",
    "\n",
    "import matplotlib.pyplot as plt\n",
    "import seaborn as sns\n",
    "\n",
    "# Convert to Pandas\n",
    "severity_cnt_df = collisions_df1.groupBy(\"collision_severity\").count().orderBy(\"count\", ascending=False)\n",
    "severity_cnt_pd = severity_cnt_df.toPandas()\n",
    "\n",
    "# Plot\n",
    "plt.figure(figsize=(10, 6))\n",
    "sns.barplot(\n",
    "    data=severity_cnt_pd,\n",
    "    x='collision_severity',\n",
    "    y='count',\n",
    "    hue='collision_severity',\n",
    "    legend=False,  # Hide redundant legend\n",
    "    palette='viridis'\n",
    ")\n",
    "plt.title(\"Collision Severity Distribution\")\n",
    "plt.xlabel(\"Collision Severity\")\n",
    "plt.ylabel(\"Count\")\n",
    "plt.xticks(rotation=45)\n",
    "plt.tight_layout()\n",
    "#plt.show()\n",
    "\n",
    "# Save plot locally on EMR\n",
    "local_path = \"/tmp/collision_severity_dist.png\"\n",
    "plt.savefig(local_path)\n",
    "print(f\"✅ Plot saved locally at: {local_path}\")\n",
    "\n",
    "# Upload to S3\n",
    "bucket_name = \"trafficds71\"\n",
    "s3_key = \"plots/collision_severity_dist.png\"  # You can customize folder/key structure\n",
    "\n",
    "# Upload\n",
    "s3 = boto3.client(\"s3\")\n",
    "s3.upload_file(local_path, bucket_name, s3_key)\n",
    "\n",
    "# Generate viewable URL (if public or accessible)\n",
    "s3_url = f\"https://{bucket_name}.s3.amazonaws.com/{s3_key}\"\n",
    "print(f\"📊 Plot uploaded to: {s3_url}\")\n"
   ]
  },
  {
   "cell_type": "code",
   "execution_count": 76,
   "metadata": {
    "execution": {
     "iopub.execute_input": "2025-06-17T05:26:39.231908Z",
     "iopub.status.busy": "2025-06-17T05:26:39.231584Z",
     "iopub.status.idle": "2025-06-17T05:26:42.547342Z",
     "shell.execute_reply": "2025-06-17T05:26:42.546161Z",
     "shell.execute_reply.started": "2025-06-17T05:26:39.231860Z"
    },
    "tags": []
   },
   "outputs": [
    {
     "data": {
      "application/vnd.jupyter.widget-view+json": {
       "model_id": "1aeeb18142fd4aa7b7f69b1d0d86bc40",
       "version_major": 2,
       "version_minor": 0
      },
      "text/plain": [
       "VBox()"
      ]
     },
     "metadata": {},
     "output_type": "display_data"
    },
    {
     "data": {
      "application/vnd.jupyter.widget-view+json": {
       "model_id": "",
       "version_major": 2,
       "version_minor": 0
      },
      "text/plain": [
       "FloatProgress(value=0.0, bar_style='info', description='Progress:', layout=Layout(height='25px', width='50%'),…"
      ]
     },
     "metadata": {},
     "output_type": "display_data"
    },
    {
     "name": "stdout",
     "output_type": "stream",
     "text": [
      "? Plot saved locally at: /tmp/collision_severity_dist2.png\n",
      "? Plot uploaded to: https://trafficds71.s3.amazonaws.com/plots/collision_severity_dist2.png"
     ]
    }
   ],
   "source": [
    "import matplotlib.pyplot as plt\n",
    "import seaborn as sns\n",
    "import pandas as pd\n",
    "import boto3\n",
    "# Univariate Analysis\n",
    "\n",
    "# Collision Severity Distribution\n",
    "import matplotlib\n",
    "matplotlib.use('Agg')  # Use non-interactive backend\n",
    "\n",
    "import matplotlib.pyplot as plt\n",
    "import seaborn as sns\n",
    "\n",
    "# Convert to Pandas\n",
    "severity_cnt_df = collisions_df.groupBy(\"collision_severity\").count().orderBy(\"count\", ascending=False)\n",
    "severity_cnt_pd = severity_cnt_df.toPandas()\n",
    "\n",
    "# Plot\n",
    "plt.figure(figsize=(10, 6))\n",
    "sns.barplot(\n",
    "    data=severity_cnt_pd,\n",
    "    x='collision_severity',\n",
    "    y='count',\n",
    "    hue='collision_severity',\n",
    "    legend=False,  # Hide redundant legend\n",
    "    palette='viridis'\n",
    ")\n",
    "plt.title(\"Collision Severity Distribution\")\n",
    "plt.xlabel(\"Collision Severity\")\n",
    "plt.ylabel(\"Count\")\n",
    "plt.xticks(rotation=45)\n",
    "plt.tight_layout()\n",
    "#plt.show()\n",
    "\n",
    "# Save plot locally on EMR\n",
    "local_path = \"/tmp/collision_severity_dist2.png\"\n",
    "plt.savefig(local_path)\n",
    "print(f\"✅ Plot saved locally at: {local_path}\")\n",
    "\n",
    "# Upload to S3\n",
    "bucket_name = \"trafficds71\"\n",
    "s3_key = \"plots/collision_severity_dist2.png\"  # You can customize folder/key structure\n",
    "\n",
    "# Upload\n",
    "s3 = boto3.client(\"s3\")\n",
    "s3.upload_file(local_path, bucket_name, s3_key)\n",
    "\n",
    "# Generate viewable URL (if public or accessible)\n",
    "s3_url = f\"https://{bucket_name}.s3.amazonaws.com/{s3_key}\"\n",
    "print(f\"📊 Plot uploaded to: {s3_url}\")\n"
   ]
  },
  {
   "cell_type": "markdown",
   "metadata": {
    "id": "KI1zWl6icTiL"
   },
   "source": [
    "## **3.1.3. Weather conditions during collisions.** <font color = red>[5 marks]</font> <br>\n",
    "\n",
    "Q: Examine weather conditions during collisions."
   ]
  },
  {
   "cell_type": "code",
   "execution_count": 77,
   "metadata": {
    "execution": {
     "iopub.execute_input": "2025-06-17T05:26:42.548778Z",
     "iopub.status.busy": "2025-06-17T05:26:42.548536Z",
     "iopub.status.idle": "2025-06-17T05:27:12.218927Z",
     "shell.execute_reply": "2025-06-17T05:27:12.211229Z",
     "shell.execute_reply.started": "2025-06-17T05:26:42.548735Z"
    },
    "id": "Y-hnishxuh7F",
    "tags": []
   },
   "outputs": [
    {
     "data": {
      "application/vnd.jupyter.widget-view+json": {
       "model_id": "d27c22aade564b97afbb674b1735626b",
       "version_major": 2,
       "version_minor": 0
      },
      "text/plain": [
       "VBox()"
      ]
     },
     "metadata": {},
     "output_type": "display_data"
    },
    {
     "data": {
      "application/vnd.jupyter.widget-view+json": {
       "model_id": "",
       "version_major": 2,
       "version_minor": 0
      },
      "text/plain": [
       "FloatProgress(value=0.0, bar_style='info', description='Progress:', layout=Layout(height='25px', width='50%'),…"
      ]
     },
     "metadata": {},
     "output_type": "display_data"
    },
    {
     "name": "stdout",
     "output_type": "stream",
     "text": [
      "Weather Condition Counts (Spark):\n",
      "+---------+------+\n",
      "|weather_1|count |\n",
      "+---------+------+\n",
      "|clear    |769927|\n",
      "|cloudy   |122155|\n",
      "|raining  |32341 |\n",
      "|Unknown  |4626  |\n",
      "|fog      |3901  |\n",
      "|snowing  |1370  |\n",
      "|other    |1081  |\n",
      "|wind     |390   |\n",
      "+---------+------+\n",
      "\n",
      "? Plot saved locally at: /tmp/weather_conditions.png\n",
      "? Plot uploaded to: https://trafficds71.s3.amazonaws.com/plots/weather_conditions.png"
     ]
    }
   ],
   "source": [
    "# Weather Conditions During Collisions\n",
    "weather_counts_df = collisions_df1.groupBy(\"weather_1\") \\\n",
    "                                 .count() \\\n",
    "                                 .orderBy(\"count\", ascending=False)\n",
    "\n",
    "print(\"Weather Condition Counts (Spark):\")\n",
    "weather_counts_df.show(truncate=False)\n",
    "\n",
    "# Convert to Pandas\n",
    "weather_counts_pd = weather_counts_df.toPandas()\n",
    "\n",
    "# Plot\n",
    "plt.figure(figsize=(12, 6))\n",
    "sns.barplot(data=weather_counts_pd,\n",
    "            x='weather_1',\n",
    "            y='count',\n",
    "            hue='weather_1',\n",
    "            palette='Set2',\n",
    "            legend=False)\n",
    "\n",
    "plt.title(\"Weather Conditions During Collisions\")\n",
    "plt.xlabel(\"Weather Condition\")\n",
    "plt.ylabel(\"Count\")\n",
    "plt.xticks(rotation=45)\n",
    "plt.tight_layout()\n",
    "#plt.show()\n",
    "\n",
    "# Save plot locally on EMR\n",
    "local_path = \"/tmp/weather_conditions.png\"\n",
    "plt.savefig(local_path)\n",
    "print(f\"✅ Plot saved locally at: {local_path}\")\n",
    "\n",
    "# Upload to S3\n",
    "bucket_name = \"trafficds71\"\n",
    "s3_key = \"plots/weather_conditions.png\"  # You can customize folder/key structure\n",
    "\n",
    "# Upload\n",
    "s3 = boto3.client(\"s3\")\n",
    "s3.upload_file(local_path, bucket_name, s3_key)\n",
    "\n",
    "# Generate viewable URL (if public or accessible)\n",
    "s3_url = f\"https://{bucket_name}.s3.amazonaws.com/{s3_key}\"\n",
    "print(f\"📊 Plot uploaded to: {s3_url}\")"
   ]
  },
  {
   "cell_type": "markdown",
   "metadata": {
    "id": "Is8jk7AMcW1h"
   },
   "source": [
    "## **3.1.4. Victime Age Distribution.** <font color = red>[5 marks]</font> <br>\n",
    "\n",
    "Q: Analyze the distribution of victim ages."
   ]
  },
  {
   "cell_type": "code",
   "execution_count": 78,
   "metadata": {
    "execution": {
     "iopub.execute_input": "2025-06-17T05:27:12.220748Z",
     "iopub.status.busy": "2025-06-17T05:27:12.220383Z",
     "iopub.status.idle": "2025-06-17T05:27:12.328739Z",
     "shell.execute_reply": "2025-06-17T05:27:12.327686Z",
     "shell.execute_reply.started": "2025-06-17T05:27:12.220700Z"
    },
    "tags": []
   },
   "outputs": [
    {
     "data": {
      "application/vnd.jupyter.widget-view+json": {
       "model_id": "161658f6b30048599e1a66c0147834a8",
       "version_major": 2,
       "version_minor": 0
      },
      "text/plain": [
       "VBox()"
      ]
     },
     "metadata": {},
     "output_type": "display_data"
    },
    {
     "data": {
      "application/vnd.jupyter.widget-view+json": {
       "model_id": "",
       "version_major": 2,
       "version_minor": 0
      },
      "text/plain": [
       "FloatProgress(value=0.0, bar_style='info', description='Progress:', layout=Layout(height='25px', width='50%'),…"
      ]
     },
     "metadata": {},
     "output_type": "display_data"
    },
    {
     "name": "stdout",
     "output_type": "stream",
     "text": [
      "root\n",
      " |-- id: integer (nullable = false)\n",
      " |-- case_id: decimal(22,0) (nullable = false)\n",
      " |-- party_number: integer (nullable = false)\n",
      " |-- role: string (nullable = false)\n",
      " |-- gender: string (nullable = false)\n",
      " |-- age: integer (nullable = false)\n",
      " |-- injury_severity: string (nullable = false)\n",
      " |-- victim_seating_position: string (nullable = false)\n",
      " |-- victim_safety_equipment_1: string (nullable = false)\n",
      " |-- victim_safety_equipment_2: string (nullable = false)\n",
      " |-- victim_ejected: string (nullable = false)"
     ]
    }
   ],
   "source": [
    "victims_df1.printSchema()"
   ]
  },
  {
   "cell_type": "code",
   "execution_count": 79,
   "metadata": {
    "execution": {
     "iopub.execute_input": "2025-06-17T05:27:12.330473Z",
     "iopub.status.busy": "2025-06-17T05:27:12.330159Z",
     "iopub.status.idle": "2025-06-17T05:27:27.679397Z",
     "shell.execute_reply": "2025-06-17T05:27:27.678345Z",
     "shell.execute_reply.started": "2025-06-17T05:27:12.330404Z"
    },
    "id": "55qUOZ2nuqv2",
    "tags": []
   },
   "outputs": [
    {
     "data": {
      "application/vnd.jupyter.widget-view+json": {
       "model_id": "116e39802a454d45a017fe080ae9a358",
       "version_major": 2,
       "version_minor": 0
      },
      "text/plain": [
       "VBox()"
      ]
     },
     "metadata": {},
     "output_type": "display_data"
    },
    {
     "data": {
      "application/vnd.jupyter.widget-view+json": {
       "model_id": "",
       "version_major": 2,
       "version_minor": 0
      },
      "text/plain": [
       "FloatProgress(value=0.0, bar_style='info', description='Progress:', layout=Layout(height='25px', width='50%'),…"
      ]
     },
     "metadata": {},
     "output_type": "display_data"
    },
    {
     "name": "stdout",
     "output_type": "stream",
     "text": [
      "+---+\n",
      "|age|\n",
      "+---+\n",
      "|0  |\n",
      "|19 |\n",
      "|39 |\n",
      "|64 |\n",
      "|36 |\n",
      "|14 |\n",
      "|19 |\n",
      "|17 |\n",
      "|28 |\n",
      "|57 |\n",
      "|22 |\n",
      "|32 |\n",
      "|34 |\n",
      "|22 |\n",
      "|20 |\n",
      "|18 |\n",
      "|22 |\n",
      "|62 |\n",
      "|46 |\n",
      "|43 |\n",
      "+---+\n",
      "only showing top 20 rows\n",
      "\n",
      "? Plot saved locally at: /tmp/victim_age_distribution.png\n",
      "? Plot uploaded to: https://trafficds71.s3.amazonaws.com/plots/victim_age_distribution.png"
     ]
    }
   ],
   "source": [
    "# Distribution of Victim Ages\n",
    "victim_ages_df = victims_df1.select(\"age\").dropna()\n",
    "victim_ages_df.show(truncate=False)\n",
    "# Convert to Pandas\n",
    "victim_ages_pd = victim_ages_df.toPandas()\n",
    "\n",
    "# Plot\n",
    "plt.figure(figsize=(10, 6))\n",
    "sns.histplot(victim_ages_pd[\"age\"], bins=30, kde=True, color='skyblue')\n",
    "\n",
    "plt.title(\"Distribution of Victim Ages\")\n",
    "plt.xlabel(\"Age\")\n",
    "plt.ylabel(\"Frequency\")\n",
    "plt.grid(True)\n",
    "plt.tight_layout()\n",
    "#plt.show()\n",
    "\n",
    "# Save plot locally on EMR\n",
    "local_path = \"/tmp/victim_age_distribution.png\"\n",
    "plt.savefig(local_path)\n",
    "print(f\"✅ Plot saved locally at: {local_path}\")\n",
    "\n",
    "# Upload to S3\n",
    "bucket_name = \"trafficds71\"\n",
    "s3_key = \"plots/victim_age_distribution.png\"  # You can customize folder/key structure\n",
    "\n",
    "# Upload\n",
    "s3 = boto3.client(\"s3\")\n",
    "s3.upload_file(local_path, bucket_name, s3_key)\n",
    "\n",
    "# Generate viewable URL (if public or accessible)\n",
    "s3_url = f\"https://{bucket_name}.s3.amazonaws.com/{s3_key}\"\n",
    "print(f\"📊 Plot uploaded to: {s3_url}\")"
   ]
  },
  {
   "cell_type": "markdown",
   "metadata": {
    "id": "C86jRBaLcam7"
   },
   "source": [
    "## **3.1.5. Collision Severity vs Number of Victims.** <font color = red>[5 marks]</font> <br>\n",
    "\n",
    "Q: Study the relationship between collision severity and the number of victims."
   ]
  },
  {
   "cell_type": "code",
   "execution_count": 80,
   "metadata": {
    "execution": {
     "iopub.execute_input": "2025-06-17T05:27:27.681514Z",
     "iopub.status.busy": "2025-06-17T05:27:27.681181Z",
     "iopub.status.idle": "2025-06-17T05:27:43.062045Z",
     "shell.execute_reply": "2025-06-17T05:27:43.060986Z",
     "shell.execute_reply.started": "2025-06-17T05:27:27.681466Z"
    },
    "id": "VrXColT_u6OG",
    "tags": []
   },
   "outputs": [
    {
     "data": {
      "application/vnd.jupyter.widget-view+json": {
       "model_id": "fd0725015a9e47a68d7298e001032023",
       "version_major": 2,
       "version_minor": 0
      },
      "text/plain": [
       "VBox()"
      ]
     },
     "metadata": {},
     "output_type": "display_data"
    },
    {
     "data": {
      "application/vnd.jupyter.widget-view+json": {
       "model_id": "",
       "version_major": 2,
       "version_minor": 0
      },
      "text/plain": [
       "FloatProgress(value=0.0, bar_style='info', description='Progress:', layout=Layout(height='25px', width='50%'),…"
      ]
     },
     "metadata": {},
     "output_type": "display_data"
    },
    {
     "name": "stdout",
     "output_type": "stream",
     "text": [
      "? Plot saved locally at: /tmp/Collision_Severity_vs_Total_Victims.png\n",
      "? Plot uploaded to: https://trafficds71.s3.amazonaws.com/plots/Collision_Severity_vs_Total_Victims.png"
     ]
    }
   ],
   "source": [
    "# Bivariate Analysis\n",
    "\n",
    "# Collision Severity vs. Number of Victims\n",
    "victims_by_severity_df = collisions_df1.groupBy(\"collision_severity\").agg(\n",
    "    fn.sum(\"injured_victims\").alias(\"total_injured_victims\"),\n",
    "    fn.sum(\"killed_victims\").alias(\"total_killed_victims\")\n",
    ")\n",
    "victims_by_severity_df = victims_by_severity_df.withColumn(\n",
    "    \"total_victims\", victims_by_severity_df[\"total_injured_victims\"] + victims_by_severity_df[\"total_killed_victims\"]\n",
    ")\n",
    "\n",
    "# Convert to Pandas\n",
    "victims_by_severity_pd = victims_by_severity_df.toPandas()\n",
    "\n",
    "# Plot\n",
    "plt.figure(figsize=(10, 6))\n",
    "sns.barplot(data=victims_by_severity_pd, x='collision_severity', y='total_victims', palette='viridis')\n",
    "\n",
    "# Step 5: Title and labels\n",
    "plt.title(\"Collision Severity vs. Total Number of Victims\")\n",
    "plt.xlabel(\"Collision Severity\")\n",
    "plt.ylabel(\"Total Number of Victims\")\n",
    "plt.xticks(rotation=45)\n",
    "plt.grid(True)\n",
    "plt.tight_layout()\n",
    "\n",
    "# Step 6: Show the plot\n",
    "# plt.show()\n",
    "\n",
    "# Save plot locally on EMR\n",
    "local_path = \"/tmp/Collision_Severity_vs_Total_Victims.png\"\n",
    "plt.savefig(local_path)\n",
    "print(f\"✅ Plot saved locally at: {local_path}\")\n",
    "\n",
    "# Upload to S3\n",
    "bucket_name = \"trafficds71\"\n",
    "s3_key = \"plots/Collision_Severity_vs_Total_Victims.png\"  # You can customize folder/key structure\n",
    "\n",
    "# Upload\n",
    "s3 = boto3.client(\"s3\")\n",
    "s3.upload_file(local_path, bucket_name, s3_key)\n",
    "\n",
    "# Generate viewable URL (if public or accessible)\n",
    "s3_url = f\"https://{bucket_name}.s3.amazonaws.com/{s3_key}\"\n",
    "print(f\"📊 Plot uploaded to: {s3_url}\")"
   ]
  },
  {
   "cell_type": "code",
   "execution_count": 81,
   "metadata": {
    "execution": {
     "iopub.execute_input": "2025-06-17T05:27:43.064106Z",
     "iopub.status.busy": "2025-06-17T05:27:43.063710Z",
     "iopub.status.idle": "2025-06-17T05:27:46.356666Z",
     "shell.execute_reply": "2025-06-17T05:27:46.355795Z",
     "shell.execute_reply.started": "2025-06-17T05:27:43.064069Z"
    },
    "tags": []
   },
   "outputs": [
    {
     "data": {
      "application/vnd.jupyter.widget-view+json": {
       "model_id": "521097ef775745f2a3813f623647c753",
       "version_major": 2,
       "version_minor": 0
      },
      "text/plain": [
       "VBox()"
      ]
     },
     "metadata": {},
     "output_type": "display_data"
    },
    {
     "data": {
      "application/vnd.jupyter.widget-view+json": {
       "model_id": "",
       "version_major": 2,
       "version_minor": 0
      },
      "text/plain": [
       "FloatProgress(value=0.0, bar_style='info', description='Progress:', layout=Layout(height='25px', width='50%'),…"
      ]
     },
     "metadata": {},
     "output_type": "display_data"
    },
    {
     "name": "stdout",
     "output_type": "stream",
     "text": [
      "? Plot saved locally at: /tmp/Collision_Severity_vs_Total_Victims2.png\n",
      "? Plot uploaded to: https://trafficds71.s3.amazonaws.com/plots/Collision_Severity_vs_Total_Victims2.png"
     ]
    }
   ],
   "source": [
    "# Bivariate Analysis\n",
    "\n",
    "# Collision Severity vs. Number of Victims\n",
    "victims_by_severity_df = collisions_df.groupBy(\"collision_severity\").agg(\n",
    "    fn.sum(\"injured_victims\").alias(\"total_injured_victims\"),\n",
    "    fn.sum(\"killed_victims\").alias(\"total_killed_victims\")\n",
    ")\n",
    "victims_by_severity_df = victims_by_severity_df.withColumn(\n",
    "    \"total_victims\", victims_by_severity_df[\"total_injured_victims\"] + victims_by_severity_df[\"total_killed_victims\"]\n",
    ")\n",
    "\n",
    "# Convert to Pandas\n",
    "victims_by_severity_pd = victims_by_severity_df.toPandas()\n",
    "\n",
    "# Plot\n",
    "plt.figure(figsize=(10, 6))\n",
    "sns.barplot(data=victims_by_severity_pd, x='collision_severity', y='total_victims', palette='viridis')\n",
    "\n",
    "# Step 5: Title and labels\n",
    "plt.title(\"Collision Severity vs. Total Number of Victims\")\n",
    "plt.xlabel(\"Collision Severity\")\n",
    "plt.ylabel(\"Total Number of Victims\")\n",
    "plt.xticks(rotation=45)\n",
    "plt.grid(True)\n",
    "plt.tight_layout()\n",
    "\n",
    "# Step 6: Show the plot\n",
    "# plt.show()\n",
    "\n",
    "# Save plot locally on EMR\n",
    "local_path = \"/tmp/Collision_Severity_vs_Total_Victims2.png\"\n",
    "plt.savefig(local_path)\n",
    "print(f\"✅ Plot saved locally at: {local_path}\")\n",
    "\n",
    "# Upload to S3\n",
    "bucket_name = \"trafficds71\"\n",
    "s3_key = \"plots/Collision_Severity_vs_Total_Victims2.png\"  # You can customize folder/key structure\n",
    "\n",
    "# Upload\n",
    "s3 = boto3.client(\"s3\")\n",
    "s3.upload_file(local_path, bucket_name, s3_key)\n",
    "\n",
    "# Generate viewable URL (if public or accessible)\n",
    "s3_url = f\"https://{bucket_name}.s3.amazonaws.com/{s3_key}\"\n",
    "print(f\"📊 Plot uploaded to: {s3_url}\")"
   ]
  },
  {
   "cell_type": "markdown",
   "metadata": {
    "id": "UNP0WTOqcdY6"
   },
   "source": [
    "## **3.1.6. Weather Conditions vs Collision Severity.** <font color = red>[5 marks]</font> <br>\n",
    "\n",
    "Q: Analyze the correlation between weather conditions and collision severity."
   ]
  },
  {
   "cell_type": "code",
   "execution_count": 82,
   "metadata": {
    "execution": {
     "iopub.execute_input": "2025-06-17T05:27:46.358874Z",
     "iopub.status.busy": "2025-06-17T05:27:46.358548Z",
     "iopub.status.idle": "2025-06-17T05:28:01.679895Z",
     "shell.execute_reply": "2025-06-17T05:28:01.678900Z",
     "shell.execute_reply.started": "2025-06-17T05:27:46.358827Z"
    },
    "id": "0lLGClfOvBPQ",
    "tags": []
   },
   "outputs": [
    {
     "data": {
      "application/vnd.jupyter.widget-view+json": {
       "model_id": "2f6869e1d728438eb975f6f37269c714",
       "version_major": 2,
       "version_minor": 0
      },
      "text/plain": [
       "VBox()"
      ]
     },
     "metadata": {},
     "output_type": "display_data"
    },
    {
     "data": {
      "application/vnd.jupyter.widget-view+json": {
       "model_id": "",
       "version_major": 2,
       "version_minor": 0
      },
      "text/plain": [
       "FloatProgress(value=0.0, bar_style='info', description='Progress:', layout=Layout(height='25px', width='50%'),…"
      ]
     },
     "metadata": {},
     "output_type": "display_data"
    },
    {
     "name": "stdout",
     "output_type": "stream",
     "text": [
      "? Plot saved locally at: /tmp/Weather_Condition_vs_Collision_Severity.png\n",
      "? Plot uploaded to: https://trafficds71.s3.amazonaws.com/plots/Weather_Condition_vs_Collision_Severity.png"
     ]
    }
   ],
   "source": [
    "# Weather vs. Collision Severity\n",
    "weather_vs_severity_df = collisions_df1.groupBy(\"weather_1\", \"collision_severity\").count()\n",
    "\n",
    "# Convert to Pandas\n",
    "weather_vs_severity_pd = weather_vs_severity_df.toPandas()\n",
    "\n",
    "# Plot\n",
    "plt.figure(figsize=(12, 6))\n",
    "sns.barplot(data=weather_vs_severity_pd, x='weather_1', y='count', hue='collision_severity', palette='viridis')\n",
    "\n",
    "# Step 4: Title and labels\n",
    "plt.title(\"Weather Condition vs. Collision Severity\")\n",
    "plt.xlabel(\"Weather Condition\")\n",
    "plt.ylabel(\"Number of Collisions\")\n",
    "plt.xticks(rotation=45)\n",
    "plt.legend(title=\"Collision Severity\", bbox_to_anchor=(1.05, 1), loc='upper left')\n",
    "plt.tight_layout()\n",
    "\n",
    "# Step 5: Show the plot\n",
    "# plt.show()\n",
    "\n",
    "# Save plot locally on EMR\n",
    "local_path = \"/tmp/Weather_Condition_vs_Collision_Severity.png\"\n",
    "plt.savefig(local_path)\n",
    "print(f\"✅ Plot saved locally at: {local_path}\")\n",
    "\n",
    "# Upload to S3\n",
    "bucket_name = \"trafficds71\"\n",
    "s3_key = \"plots/Weather_Condition_vs_Collision_Severity.png\"  # You can customize folder/key structure\n",
    "\n",
    "# Upload\n",
    "s3 = boto3.client(\"s3\")\n",
    "s3.upload_file(local_path, bucket_name, s3_key)\n",
    "\n",
    "# Generate viewable URL (if public or accessible)\n",
    "s3_url = f\"https://{bucket_name}.s3.amazonaws.com/{s3_key}\"\n",
    "print(f\"📊 Plot uploaded to: {s3_url}\")\n"
   ]
  },
  {
   "cell_type": "code",
   "execution_count": 83,
   "metadata": {
    "execution": {
     "iopub.execute_input": "2025-06-17T05:28:01.681427Z",
     "iopub.status.busy": "2025-06-17T05:28:01.681164Z",
     "iopub.status.idle": "2025-06-17T05:28:04.971190Z",
     "shell.execute_reply": "2025-06-17T05:28:04.969926Z",
     "shell.execute_reply.started": "2025-06-17T05:28:01.681393Z"
    },
    "tags": []
   },
   "outputs": [
    {
     "data": {
      "application/vnd.jupyter.widget-view+json": {
       "model_id": "d4568f82f5c04ab3ad124c507a47f819",
       "version_major": 2,
       "version_minor": 0
      },
      "text/plain": [
       "VBox()"
      ]
     },
     "metadata": {},
     "output_type": "display_data"
    },
    {
     "data": {
      "application/vnd.jupyter.widget-view+json": {
       "model_id": "",
       "version_major": 2,
       "version_minor": 0
      },
      "text/plain": [
       "FloatProgress(value=0.0, bar_style='info', description='Progress:', layout=Layout(height='25px', width='50%'),…"
      ]
     },
     "metadata": {},
     "output_type": "display_data"
    },
    {
     "name": "stdout",
     "output_type": "stream",
     "text": [
      "? Plot saved locally at: /tmp/Weather_Condition_vs_Collision_Severity2.png\n",
      "? Plot uploaded to: https://trafficds71.s3.amazonaws.com/plots/Weather_Condition_vs_Collision_Severity2.png"
     ]
    }
   ],
   "source": [
    "# Weather vs. Collision Severity\n",
    "weather_vs_severity_df = collisions_df.groupBy(\"weather_1\", \"collision_severity\").count()\n",
    "\n",
    "# Convert to Pandas\n",
    "weather_vs_severity_pd = weather_vs_severity_df.toPandas()\n",
    "\n",
    "# Plot\n",
    "plt.figure(figsize=(12, 6))\n",
    "sns.barplot(data=weather_vs_severity_pd, x='weather_1', y='count', hue='collision_severity', palette='viridis')\n",
    "\n",
    "# Step 4: Title and labels\n",
    "plt.title(\"Weather Condition vs. Collision Severity\")\n",
    "plt.xlabel(\"Weather Condition\")\n",
    "plt.ylabel(\"Number of Collisions\")\n",
    "plt.xticks(rotation=45)\n",
    "plt.legend(title=\"Collision Severity\", bbox_to_anchor=(1.05, 1), loc='upper left')\n",
    "plt.tight_layout()\n",
    "\n",
    "# Step 5: Show the plot\n",
    "# plt.show()\n",
    "\n",
    "# Save plot locally on EMR\n",
    "local_path = \"/tmp/Weather_Condition_vs_Collision_Severity2.png\"\n",
    "plt.savefig(local_path)\n",
    "print(f\"✅ Plot saved locally at: {local_path}\")\n",
    "\n",
    "# Upload to S3\n",
    "bucket_name = \"trafficds71\"\n",
    "s3_key = \"plots/Weather_Condition_vs_Collision_Severity2.png\"  # You can customize folder/key structure\n",
    "\n",
    "# Upload\n",
    "s3 = boto3.client(\"s3\")\n",
    "s3.upload_file(local_path, bucket_name, s3_key)\n",
    "\n",
    "# Generate viewable URL (if public or accessible)\n",
    "s3_url = f\"https://{bucket_name}.s3.amazonaws.com/{s3_key}\"\n",
    "print(f\"📊 Plot uploaded to: {s3_url}\")\n"
   ]
  },
  {
   "cell_type": "markdown",
   "metadata": {
    "id": "iGAPJU_zcipJ"
   },
   "source": [
    "## **3.1.7. Lighting conditions vs Collision Severity.** <font color = red>[5 marks]</font> <br>\n",
    "\n",
    "Q:Visualize the impact of lighting conditions on collision severity."
   ]
  },
  {
   "cell_type": "code",
   "execution_count": 84,
   "metadata": {
    "execution": {
     "iopub.execute_input": "2025-06-17T05:28:04.972966Z",
     "iopub.status.busy": "2025-06-17T05:28:04.972642Z",
     "iopub.status.idle": "2025-06-17T05:28:20.332419Z",
     "shell.execute_reply": "2025-06-17T05:28:20.331504Z",
     "shell.execute_reply.started": "2025-06-17T05:28:04.972919Z"
    },
    "id": "yVmFYwqlvONW",
    "tags": []
   },
   "outputs": [
    {
     "data": {
      "application/vnd.jupyter.widget-view+json": {
       "model_id": "96b45a1d1416424b97d4dc61431dc2ee",
       "version_major": 2,
       "version_minor": 0
      },
      "text/plain": [
       "VBox()"
      ]
     },
     "metadata": {},
     "output_type": "display_data"
    },
    {
     "data": {
      "application/vnd.jupyter.widget-view+json": {
       "model_id": "",
       "version_major": 2,
       "version_minor": 0
      },
      "text/plain": [
       "FloatProgress(value=0.0, bar_style='info', description='Progress:', layout=Layout(height='25px', width='50%'),…"
      ]
     },
     "metadata": {},
     "output_type": "display_data"
    },
    {
     "name": "stdout",
     "output_type": "stream",
     "text": [
      "? Plot saved locally at: /tmp/Lighting_Condition_vs_Collision_Severity.png\n",
      "? Plot uploaded to: https://trafficds71.s3.amazonaws.com/plots/Lighting_Condition_vs_Collision_Severity.png"
     ]
    }
   ],
   "source": [
    "# Lighting Conditions vs. Collision Severity\n",
    "lighting_severity_df = collisions_df1.groupBy(\"lighting\", \"collision_severity\").count()\n",
    "\n",
    "# Convert to Pandas\n",
    "lighting_severity_pd = lighting_severity_df.toPandas()\n",
    "\n",
    "# Plot\n",
    "plt.figure(figsize=(12, 6))\n",
    "sns.barplot(\n",
    "    data=lighting_severity_pd,\n",
    "    x=\"lighting\",\n",
    "    y=\"count\",\n",
    "    hue=\"collision_severity\",\n",
    "    palette=\"viridis\"\n",
    ")\n",
    "\n",
    "# Aesthetics\n",
    "plt.title(\"Lighting Conditions vs. Collision Severity\")\n",
    "plt.xlabel(\"Lighting Condition\")\n",
    "plt.ylabel(\"Number of Collisions\")\n",
    "plt.xticks(rotation=45)\n",
    "plt.legend(title=\"Collision Severity\", bbox_to_anchor=(1.05, 1), loc='upper left')\n",
    "plt.tight_layout()\n",
    "\n",
    "#plt.show()\n",
    "\n",
    "# Save plot locally on EMR\n",
    "local_path = \"/tmp/Lighting_Condition_vs_Collision_Severity.png\"\n",
    "plt.savefig(local_path)\n",
    "print(f\"✅ Plot saved locally at: {local_path}\")\n",
    "\n",
    "# Upload to S3\n",
    "bucket_name = \"trafficds71\"\n",
    "s3_key = \"plots/Lighting_Condition_vs_Collision_Severity.png\"  # You can customize folder/key structure\n",
    "\n",
    "# Upload\n",
    "s3 = boto3.client(\"s3\")\n",
    "s3.upload_file(local_path, bucket_name, s3_key)\n",
    "\n",
    "# Generate viewable URL (if public or accessible)\n",
    "s3_url = f\"https://{bucket_name}.s3.amazonaws.com/{s3_key}\"\n",
    "print(f\"📊 Plot uploaded to: {s3_url}\")"
   ]
  },
  {
   "cell_type": "code",
   "execution_count": 85,
   "metadata": {
    "execution": {
     "iopub.execute_input": "2025-06-17T05:28:20.333955Z",
     "iopub.status.busy": "2025-06-17T05:28:20.333700Z",
     "iopub.status.idle": "2025-06-17T05:28:23.627524Z",
     "shell.execute_reply": "2025-06-17T05:28:23.626525Z",
     "shell.execute_reply.started": "2025-06-17T05:28:20.333905Z"
    },
    "tags": []
   },
   "outputs": [
    {
     "data": {
      "application/vnd.jupyter.widget-view+json": {
       "model_id": "c1a027a324924f8fa45e989aa880b04e",
       "version_major": 2,
       "version_minor": 0
      },
      "text/plain": [
       "VBox()"
      ]
     },
     "metadata": {},
     "output_type": "display_data"
    },
    {
     "data": {
      "application/vnd.jupyter.widget-view+json": {
       "model_id": "",
       "version_major": 2,
       "version_minor": 0
      },
      "text/plain": [
       "FloatProgress(value=0.0, bar_style='info', description='Progress:', layout=Layout(height='25px', width='50%'),…"
      ]
     },
     "metadata": {},
     "output_type": "display_data"
    },
    {
     "name": "stdout",
     "output_type": "stream",
     "text": [
      "? Plot saved locally at: /tmp/Lighting_Condition_vs_Collision_Severity2.png\n",
      "? Plot uploaded to: https://trafficds71.s3.amazonaws.com/plots/Lighting_Condition_vs_Collision_Severity2.png"
     ]
    }
   ],
   "source": [
    "# Lighting Conditions vs. Collision Severity\n",
    "lighting_severity_df = collisions_df.groupBy(\"lighting\", \"collision_severity\").count()\n",
    "\n",
    "# Convert to Pandas\n",
    "lighting_severity_pd = lighting_severity_df.toPandas()\n",
    "\n",
    "# Plot\n",
    "plt.figure(figsize=(12, 6))\n",
    "sns.barplot(\n",
    "    data=lighting_severity_pd,\n",
    "    x=\"lighting\",\n",
    "    y=\"count\",\n",
    "    hue=\"collision_severity\",\n",
    "    palette=\"viridis\"\n",
    ")\n",
    "\n",
    "# Aesthetics\n",
    "plt.title(\"Lighting Conditions vs. Collision Severity\")\n",
    "plt.xlabel(\"Lighting Condition\")\n",
    "plt.ylabel(\"Number of Collisions\")\n",
    "plt.xticks(rotation=45)\n",
    "plt.legend(title=\"Collision Severity\", bbox_to_anchor=(1.05, 1), loc='upper left')\n",
    "plt.tight_layout()\n",
    "\n",
    "#plt.show()\n",
    "\n",
    "# Save plot locally on EMR\n",
    "local_path = \"/tmp/Lighting_Condition_vs_Collision_Severity2.png\"\n",
    "plt.savefig(local_path)\n",
    "print(f\"✅ Plot saved locally at: {local_path}\")\n",
    "\n",
    "# Upload to S3\n",
    "bucket_name = \"trafficds71\"\n",
    "s3_key = \"plots/Lighting_Condition_vs_Collision_Severity2.png\"  # You can customize folder/key structure\n",
    "\n",
    "# Upload\n",
    "s3 = boto3.client(\"s3\")\n",
    "s3.upload_file(local_path, bucket_name, s3_key)\n",
    "\n",
    "# Generate viewable URL (if public or accessible)\n",
    "s3_url = f\"https://{bucket_name}.s3.amazonaws.com/{s3_key}\"\n",
    "print(f\"📊 Plot uploaded to: {s3_url}\")"
   ]
  },
  {
   "cell_type": "markdown",
   "metadata": {
    "id": "5168vybFclCb"
   },
   "source": [
    "## **3.1.8. Weekday-Wise Collision Trends.** <font color = red>[7 marks]</font> <br>\n",
    "\n",
    "Q: Extract and analyze weekday-wise collision trends."
   ]
  },
  {
   "cell_type": "code",
   "execution_count": 86,
   "metadata": {
    "execution": {
     "iopub.execute_input": "2025-06-17T05:28:23.629111Z",
     "iopub.status.busy": "2025-06-17T05:28:23.628879Z",
     "iopub.status.idle": "2025-06-17T05:28:38.962054Z",
     "shell.execute_reply": "2025-06-17T05:28:38.961121Z",
     "shell.execute_reply.started": "2025-06-17T05:28:23.629075Z"
    },
    "id": "bthZFxXfvlU-",
    "tags": []
   },
   "outputs": [
    {
     "data": {
      "application/vnd.jupyter.widget-view+json": {
       "model_id": "76fded5aecd3495db38577a8dd82d991",
       "version_major": 2,
       "version_minor": 0
      },
      "text/plain": [
       "VBox()"
      ]
     },
     "metadata": {},
     "output_type": "display_data"
    },
    {
     "data": {
      "application/vnd.jupyter.widget-view+json": {
       "model_id": "",
       "version_major": 2,
       "version_minor": 0
      },
      "text/plain": [
       "FloatProgress(value=0.0, bar_style='info', description='Progress:', layout=Layout(height='25px', width='50%'),…"
      ]
     },
     "metadata": {},
     "output_type": "display_data"
    },
    {
     "name": "stdout",
     "output_type": "stream",
     "text": [
      "? Plot saved locally at: /tmp/Num_Collisions_per_Weekday.png\n",
      "? Plot uploaded to: https://trafficds71.s3.amazonaws.com/plots/Num_Collisions_per_Weekday.png"
     ]
    }
   ],
   "source": [
    "# Extract the weekday\n",
    "from pyspark.sql.functions import col, to_date, date_format\n",
    "\n",
    "# Step 1: Ensure date is in date format\n",
    "collisions_df1 = collisions_df1.withColumn(\"collision_date\", to_date(\"collision_date\"))\n",
    "\n",
    "# Step 2: Extract weekday name\n",
    "collisions_df1 = collisions_df1.withColumn(\"weekday\", date_format(\"collision_date\", \"EEEE\"))\n",
    "\n",
    "# Step 3: Group by weekday and count\n",
    "weekday_df = collisions_df1.groupBy(\"weekday\").count()\n",
    "\n",
    "# Step 4: Convert to Pandas\n",
    "weekday_pd = weekday_df.toPandas()\n",
    "\n",
    "# Step 5: Order weekdays correctly\n",
    "weekday_order = ['Monday', 'Tuesday', 'Wednesday', 'Thursday', 'Friday', 'Saturday', 'Sunday']\n",
    "weekday_pd[\"weekday\"] = pd.Categorical(weekday_pd[\"weekday\"], categories=weekday_order, ordered=True)\n",
    "weekday_pd = weekday_pd.sort_values(\"weekday\")\n",
    "\n",
    "# Plot\n",
    "plt.figure(figsize=(10, 6))\n",
    "sns.barplot(data=weekday_pd, x=\"weekday\", y=\"count\", palette=\"crest\")\n",
    "\n",
    "plt.title(\"Number of Collisions per Weekday\")\n",
    "plt.xlabel(\"Day of the Week\")\n",
    "plt.ylabel(\"Number of Collisions\")\n",
    "plt.xticks(rotation=45)\n",
    "plt.grid(True)\n",
    "plt.tight_layout()\n",
    "#plt.show()\n",
    "\n",
    "# Save plot locally on EMR\n",
    "local_path = \"/tmp/Num_Collisions_per_Weekday.png\"\n",
    "plt.savefig(local_path)\n",
    "print(f\"✅ Plot saved locally at: {local_path}\")\n",
    "\n",
    "# Upload to S3\n",
    "bucket_name = \"trafficds71\"\n",
    "s3_key = \"plots/Num_Collisions_per_Weekday.png\"  # You can customize folder/key structure\n",
    "\n",
    "# Upload\n",
    "s3 = boto3.client(\"s3\")\n",
    "s3.upload_file(local_path, bucket_name, s3_key)\n",
    "\n",
    "# Generate viewable URL (if public or accessible)\n",
    "s3_url = f\"https://{bucket_name}.s3.amazonaws.com/{s3_key}\"\n",
    "print(f\"📊 Plot uploaded to: {s3_url}\")\n"
   ]
  },
  {
   "cell_type": "markdown",
   "metadata": {
    "id": "pJ68_4HLcsFr"
   },
   "source": [
    "## **3.1.9. Spatial Distribution of Collisions.** <font color = red>[7 marks]</font> <br>\n",
    "\n",
    "Q: Study spatial distribution of collisions by county."
   ]
  },
  {
   "cell_type": "code",
   "execution_count": 87,
   "metadata": {
    "execution": {
     "iopub.execute_input": "2025-06-17T05:28:38.963661Z",
     "iopub.status.busy": "2025-06-17T05:28:38.963324Z",
     "iopub.status.idle": "2025-06-17T05:28:44.268131Z",
     "shell.execute_reply": "2025-06-17T05:28:44.267047Z",
     "shell.execute_reply.started": "2025-06-17T05:28:38.963630Z"
    },
    "id": "092J8SjtxUs4",
    "tags": []
   },
   "outputs": [
    {
     "data": {
      "application/vnd.jupyter.widget-view+json": {
       "model_id": "9001358aa17145f7b9c200e54ac74ccb",
       "version_major": 2,
       "version_minor": 0
      },
      "text/plain": [
       "VBox()"
      ]
     },
     "metadata": {},
     "output_type": "display_data"
    },
    {
     "data": {
      "application/vnd.jupyter.widget-view+json": {
       "model_id": "",
       "version_major": 2,
       "version_minor": 0
      },
      "text/plain": [
       "FloatProgress(value=0.0, bar_style='info', description='Progress:', layout=Layout(height='25px', width='50%'),…"
      ]
     },
     "metadata": {},
     "output_type": "display_data"
    },
    {
     "name": "stdout",
     "output_type": "stream",
     "text": [
      "\n",
      "Total valid coordinates plotted: 266742\n",
      "? Plot saved locally at: /tmp/Spatial_Dist_Collision.png\n",
      "? Plot uploaded to: https://trafficds71.s3.amazonaws.com/plots/Spatial_Dist_Collision.png"
     ]
    }
   ],
   "source": [
    "# Spatial Analysis\n",
    "from pyspark.sql.functions import col\n",
    "\n",
    "# Collision Density by County\n",
    "# Step 1: Ensure the columns exist\n",
    "collisions_df_copy = spark.read.option(\"header\", True).csv(\"/user/livy/sample_collisions.csv\")\n",
    "\n",
    "collisions_df_copy = (\n",
    "    collisions_df_copy\n",
    "    .withColumn(\"latitude\", col(\"latitude\").cast(DoubleType()))\n",
    "    .withColumn(\"longitude\", col(\"longitude\").cast(DoubleType()))\n",
    ")\n",
    "\n",
    "# Step 2: Filter out invalid/missing coordinates in PySpark\n",
    "map_df = collisions_df_copy.filter(\n",
    "    (col(\"latitude\").isNotNull()) & (col(\"longitude\").isNotNull()) &\n",
    "    (col(\"latitude\") != 0) & (col(\"longitude\") != 0)\n",
    ")\n",
    "map_pd = map_df.select(\"latitude\", \"longitude\").toPandas()\n",
    "\n",
    "# Plot the map\n",
    "plt.figure(figsize=(10, 6))\n",
    "plt.scatter(map_pd[\"longitude\"], map_pd[\"latitude\"], alpha=0.2, s=10, c='blue')\n",
    "\n",
    "plt.title(\"Spatial Distribution of Collisions\")\n",
    "plt.xlabel(\"Longitude\")\n",
    "plt.ylabel(\"Latitude\")\n",
    "plt.grid(True)\n",
    "plt.tight_layout()\n",
    "#plt.show()\n",
    "\n",
    "# Optional: Print number of plotted points\n",
    "print(f\"\\nTotal valid coordinates plotted: {len(map_pd)}\")\n",
    "\n",
    "\n",
    "# Save plot locally on EMR\n",
    "local_path = \"/tmp/Spatial_Dist_Collision.png\"\n",
    "plt.savefig(local_path)\n",
    "print(f\"✅ Plot saved locally at: {local_path}\")\n",
    "\n",
    "# Upload to S3\n",
    "bucket_name = \"trafficds71\"\n",
    "s3_key = \"plots/Spatial_Dist_Collision.png\"  # You can customize folder/key structure\n",
    "\n",
    "# Upload\n",
    "s3 = boto3.client(\"s3\")\n",
    "s3.upload_file(local_path, bucket_name, s3_key)\n",
    "\n",
    "# Generate viewable URL (if public or accessible)\n",
    "s3_url = f\"https://{bucket_name}.s3.amazonaws.com/{s3_key}\"\n",
    "print(f\"📊 Plot uploaded to: {s3_url}\")\n"
   ]
  },
  {
   "cell_type": "markdown",
   "metadata": {
    "id": "6qA-drC_c0va"
   },
   "source": [
    "## **3.1.10. Collision Analysis by Geography.** <font color = red>[6 marks]</font> <br>\n",
    "\n",
    "Q: Generate a scatter plot to analyze collision locations geographically."
   ]
  },
  {
   "cell_type": "code",
   "execution_count": 88,
   "metadata": {
    "execution": {
     "iopub.execute_input": "2025-06-17T05:28:44.270261Z",
     "iopub.status.busy": "2025-06-17T05:28:44.269703Z",
     "iopub.status.idle": "2025-06-17T05:28:49.634014Z",
     "shell.execute_reply": "2025-06-17T05:28:49.632864Z",
     "shell.execute_reply.started": "2025-06-17T05:28:44.270213Z"
    },
    "id": "6umQP5zSynJ7",
    "tags": []
   },
   "outputs": [
    {
     "data": {
      "application/vnd.jupyter.widget-view+json": {
       "model_id": "ffa59de459144009823e627175764edb",
       "version_major": 2,
       "version_minor": 0
      },
      "text/plain": [
       "VBox()"
      ]
     },
     "metadata": {},
     "output_type": "display_data"
    },
    {
     "data": {
      "application/vnd.jupyter.widget-view+json": {
       "model_id": "",
       "version_major": 2,
       "version_minor": 0
      },
      "text/plain": [
       "FloatProgress(value=0.0, bar_style='info', description='Progress:', layout=Layout(height='25px', width='50%'),…"
      ]
     },
     "metadata": {},
     "output_type": "display_data"
    },
    {
     "name": "stdout",
     "output_type": "stream",
     "text": [
      "\n",
      "Total valid coordinates plotted: 266742\n",
      "? Plot saved locally at: /tmp/Scatter_Plot_Collision_Locations.png\n",
      "? Plot uploaded to: https://trafficds71.s3.amazonaws.com/plots/Scatter_Plot_Collision_Locations.png"
     ]
    }
   ],
   "source": [
    "# Scatter Plot of Collision Locations\n",
    "collisions_df_copy = (\n",
    "    collisions_df_copy\n",
    "    .withColumn(\"latitude\", col(\"latitude\").cast(DoubleType()))\n",
    "    .withColumn(\"longitude\", col(\"longitude\").cast(DoubleType()))\n",
    ")\n",
    "\n",
    "\n",
    "# Convert PySpark DataFrame to Pandas, handling potential missing values\n",
    "map_df = collisions_df_copy.filter(\n",
    "    (col(\"latitude\").isNotNull()) & (col(\"longitude\").isNotNull()) &\n",
    "    (col(\"latitude\") != 0) & (col(\"longitude\") != 0)\n",
    ")\n",
    "map_pd = map_df.select(\"latitude\", \"longitude\").toPandas()\n",
    "\n",
    "# Convert to numeric (if needed) and handle invalid data\n",
    "\n",
    "# Plot the scatter plot\n",
    "plt.figure(figsize=(10, 6))\n",
    "plt.scatter(map_pd[\"longitude\"], map_pd[\"latitude\"], alpha=0.2, s=10, c='blue')\n",
    "\n",
    "plt.title(\"Scatter Plot of Collision Locations\")\n",
    "plt.xlabel(\"Longitude\")\n",
    "plt.ylabel(\"Latitude\")\n",
    "plt.grid(True)\n",
    "plt.tight_layout()\n",
    "# plt.show()\n",
    "\n",
    "# Step 5: Optional count of valid records\n",
    "print(f\"\\nTotal valid coordinates plotted: {len(map_pd)}\")\n",
    "\n",
    "\n",
    "# Save plot locally on EMR\n",
    "local_path = \"/tmp/Scatter_Plot_Collision_Locations.png\"\n",
    "plt.savefig(local_path)\n",
    "print(f\"✅ Plot saved locally at: {local_path}\")\n",
    "\n",
    "# Upload to S3\n",
    "bucket_name = \"trafficds71\"\n",
    "s3_key = \"plots/Scatter_Plot_Collision_Locations.png\"  # You can customize folder/key structure\n",
    "\n",
    "# Upload\n",
    "s3 = boto3.client(\"s3\")\n",
    "s3.upload_file(local_path, bucket_name, s3_key)\n",
    "\n",
    "# Generate viewable URL (if public or accessible)\n",
    "s3_url = f\"https://{bucket_name}.s3.amazonaws.com/{s3_key}\"\n",
    "print(f\"📊 Plot uploaded to: {s3_url}\")\n"
   ]
  },
  {
   "cell_type": "markdown",
   "metadata": {
    "id": "-KdMCtpy1ccv"
   },
   "source": [
    "## **3.1.11. Collision Trends Over Time.** <font color = red>[10 marks]</font> <br>\n",
    "\n",
    "Extract and analyzing collision trends over time."
   ]
  },
  {
   "cell_type": "code",
   "execution_count": 89,
   "metadata": {
    "execution": {
     "iopub.execute_input": "2025-06-17T05:28:49.635963Z",
     "iopub.status.busy": "2025-06-17T05:28:49.635642Z",
     "iopub.status.idle": "2025-06-17T05:29:10.979804Z",
     "shell.execute_reply": "2025-06-17T05:29:10.978680Z",
     "shell.execute_reply.started": "2025-06-17T05:28:49.635914Z"
    },
    "id": "MF5v2dIv0kdD",
    "tags": []
   },
   "outputs": [
    {
     "data": {
      "application/vnd.jupyter.widget-view+json": {
       "model_id": "c8fd6b13621646538ebd0149bbaeef51",
       "version_major": 2,
       "version_minor": 0
      },
      "text/plain": [
       "VBox()"
      ]
     },
     "metadata": {},
     "output_type": "display_data"
    },
    {
     "data": {
      "application/vnd.jupyter.widget-view+json": {
       "model_id": "",
       "version_major": 2,
       "version_minor": 0
      },
      "text/plain": [
       "FloatProgress(value=0.0, bar_style='info', description='Progress:', layout=Layout(height='25px', width='50%'),…"
      ]
     },
     "metadata": {},
     "output_type": "display_data"
    },
    {
     "name": "stdout",
     "output_type": "stream",
     "text": [
      "? Plot saved locally at: /tmp/Collision_BY_Month.png\n",
      "? Plot uploaded to: https://trafficds71.s3.amazonaws.com/plots/Collision_BY_Month.png"
     ]
    }
   ],
   "source": [
    "from pyspark.sql.functions import year, month, hour, to_timestamp, col\n",
    "\n",
    "# Extract year and month from collision_date\n",
    "collisions_df1 = collisions_df1.withColumn(\"collision_date\", to_date(col(\"collision_date\")))\n",
    "\n",
    "collisions_df1 = collisions_df1.withColumn(\"year\", year(\"collision_date\"))\n",
    "collisions_df1 = collisions_df1.withColumn(\"month\", month(\"collision_date\"))\n",
    "\n",
    "# Plot\n",
    "date_stats_pd = collisions_df1.select(\"year\", \"month\").dropna().toPandas()\n",
    "\n",
    "# Plotting collisions by month\n",
    "plt.figure(figsize=(10, 6))\n",
    "sns.countplot(data=date_stats_pd, x=\"month\", palette=\"Blues\")\n",
    "\n",
    "plt.title(\"Collisions by Month\")\n",
    "plt.xlabel(\"Month\")\n",
    "plt.ylabel(\"Count\")\n",
    "plt.grid(True)\n",
    "plt.tight_layout()\n",
    "#plt.show()\n",
    "\n",
    "\n",
    "\n",
    "# Save plot locally on EMR\n",
    "local_path = \"/tmp/Collision_BY_Month.png\"\n",
    "plt.savefig(local_path)\n",
    "print(f\"✅ Plot saved locally at: {local_path}\")\n",
    "\n",
    "# Upload to S3\n",
    "bucket_name = \"trafficds71\"\n",
    "s3_key = \"plots/Collision_BY_Month.png\"  # You can customize folder/key structure\n",
    "\n",
    "# Upload\n",
    "s3 = boto3.client(\"s3\")\n",
    "s3.upload_file(local_path, bucket_name, s3_key)\n",
    "\n",
    "# Generate viewable URL (if public or accessible)\n",
    "s3_url = f\"https://{bucket_name}.s3.amazonaws.com/{s3_key}\"\n",
    "print(f\"📊 Plot uploaded to: {s3_url}\")\n"
   ]
  },
  {
   "cell_type": "markdown",
   "metadata": {
    "id": "NN9Opz_gc62p"
   },
   "source": [
    "Q: Analyze yearly, monthly and hourly trends in collisions."
   ]
  },
  {
   "cell_type": "code",
   "execution_count": 90,
   "metadata": {
    "execution": {
     "iopub.execute_input": "2025-06-17T05:29:10.981862Z",
     "iopub.status.busy": "2025-06-17T05:29:10.981533Z",
     "iopub.status.idle": "2025-06-17T05:29:26.315496Z",
     "shell.execute_reply": "2025-06-17T05:29:26.314527Z",
     "shell.execute_reply.started": "2025-06-17T05:29:10.981812Z"
    },
    "id": "HCNrHT011hs7",
    "tags": []
   },
   "outputs": [
    {
     "data": {
      "application/vnd.jupyter.widget-view+json": {
       "model_id": "c400c63e81604848975decfc7cf1df30",
       "version_major": 2,
       "version_minor": 0
      },
      "text/plain": [
       "VBox()"
      ]
     },
     "metadata": {},
     "output_type": "display_data"
    },
    {
     "data": {
      "application/vnd.jupyter.widget-view+json": {
       "model_id": "",
       "version_major": 2,
       "version_minor": 0
      },
      "text/plain": [
       "FloatProgress(value=0.0, bar_style='info', description='Progress:', layout=Layout(height='25px', width='50%'),…"
      ]
     },
     "metadata": {},
     "output_type": "display_data"
    },
    {
     "name": "stdout",
     "output_type": "stream",
     "text": [
      "? Plot saved locally at: /tmp/Yearly_Trend_Collisions.png\n",
      "? Plot uploaded to: https://trafficds71.s3.amazonaws.com/plots/Yearly_Trend_Collisions.png"
     ]
    }
   ],
   "source": [
    "# Yearly Trend of Collisions\n",
    "collisions_df1 = collisions_df1.withColumn(\"collision_datetime\", to_timestamp(\"collision_date\"))\n",
    "collisions_df1 = (\n",
    "    collisions_df1\n",
    "    .withColumn(\"year\", year(\"collision_datetime\"))\n",
    "    .withColumn(\"month\", month(\"collision_datetime\"))\n",
    "    .withColumn(\"hour\", hour(to_timestamp(\"collision_time\", \"HHmm\")))\n",
    ")\n",
    "yearly_df = collisions_df1.groupBy(\"year\").count().orderBy(\"year\")\n",
    "yearly_pd = yearly_df.toPandas()\n",
    "\n",
    "# Plot\n",
    "plt.figure(figsize=(10, 5))\n",
    "sns.lineplot(data=yearly_pd, x=\"year\", y=\"count\", marker=\"o\", color=\"steelblue\")\n",
    "plt.title(\"Yearly Trend of Collisions\")\n",
    "plt.xlabel(\"Year\")\n",
    "plt.ylabel(\"Number of Collisions\")\n",
    "plt.grid(True)\n",
    "plt.tight_layout()\n",
    "# plt.show()\n",
    "\n",
    "# Save plot locally on EMR\n",
    "local_path = \"/tmp/Yearly_Trend_Collisions.png\"\n",
    "plt.savefig(local_path)\n",
    "print(f\"✅ Plot saved locally at: {local_path}\")\n",
    "\n",
    "# Upload to S3\n",
    "bucket_name = \"trafficds71\"\n",
    "s3_key = \"plots/Yearly_Trend_Collisions.png\"  # You can customize folder/key structure\n",
    "\n",
    "# Upload\n",
    "s3 = boto3.client(\"s3\")\n",
    "s3.upload_file(local_path, bucket_name, s3_key)\n",
    "\n",
    "# Generate viewable URL (if public or accessible)\n",
    "s3_url = f\"https://{bucket_name}.s3.amazonaws.com/{s3_key}\"\n",
    "print(f\"📊 Plot uploaded to: {s3_url}\")\n"
   ]
  },
  {
   "cell_type": "code",
   "execution_count": 91,
   "metadata": {
    "execution": {
     "iopub.execute_input": "2025-06-17T05:29:26.317054Z",
     "iopub.status.busy": "2025-06-17T05:29:26.316798Z",
     "iopub.status.idle": "2025-06-17T05:29:41.770252Z",
     "shell.execute_reply": "2025-06-17T05:29:41.769244Z",
     "shell.execute_reply.started": "2025-06-17T05:29:26.317022Z"
    },
    "id": "Et6E1HEI2oAH",
    "tags": []
   },
   "outputs": [
    {
     "data": {
      "application/vnd.jupyter.widget-view+json": {
       "model_id": "e98b134f9db548e9abec3e214cbe3c9f",
       "version_major": 2,
       "version_minor": 0
      },
      "text/plain": [
       "VBox()"
      ]
     },
     "metadata": {},
     "output_type": "display_data"
    },
    {
     "data": {
      "application/vnd.jupyter.widget-view+json": {
       "model_id": "",
       "version_major": 2,
       "version_minor": 0
      },
      "text/plain": [
       "FloatProgress(value=0.0, bar_style='info', description='Progress:', layout=Layout(height='25px', width='50%'),…"
      ]
     },
     "metadata": {},
     "output_type": "display_data"
    },
    {
     "name": "stdout",
     "output_type": "stream",
     "text": [
      "? Plot saved locally at: /tmp/Monthly_Trend_Collisions.png\n",
      "? Plot uploaded to: https://trafficds71.s3.amazonaws.com/plots/Monthly_Trend_Collisions.png"
     ]
    }
   ],
   "source": [
    "# Monthly Trend of Collisions\n",
    "monthly_df = collisions_df1.groupBy(\"month\").count().orderBy(\"month\")\n",
    "monthly_pd = monthly_df.toPandas()\n",
    "\n",
    "# Plot\n",
    "plt.figure(figsize=(10, 5))\n",
    "sns.barplot(data=monthly_pd, x=\"month\", y=\"count\", palette=\"viridis\")\n",
    "plt.title(\"Monthly Trend of Collisions\")\n",
    "plt.xlabel(\"Month\")\n",
    "plt.ylabel(\"Number of Collisions\")\n",
    "plt.grid(True)\n",
    "plt.tight_layout()\n",
    "# plt.show()\n",
    "# Save plot locally on EMR\n",
    "local_path = \"/tmp/Monthly_Trend_Collisions.png\"\n",
    "plt.savefig(local_path)\n",
    "print(f\"✅ Plot saved locally at: {local_path}\")\n",
    "\n",
    "# Upload to S3\n",
    "bucket_name = \"trafficds71\"\n",
    "s3_key = \"plots/Monthly_Trend_Collisions.png\"  # You can customize folder/key structure\n",
    "\n",
    "# Upload\n",
    "s3 = boto3.client(\"s3\")\n",
    "s3.upload_file(local_path, bucket_name, s3_key)\n",
    "\n",
    "# Generate viewable URL (if public or accessible)\n",
    "s3_url = f\"https://{bucket_name}.s3.amazonaws.com/{s3_key}\"\n",
    "print(f\"📊 Plot uploaded to: {s3_url}\")"
   ]
  },
  {
   "cell_type": "code",
   "execution_count": 92,
   "metadata": {
    "execution": {
     "iopub.execute_input": "2025-06-17T05:29:41.771727Z",
     "iopub.status.busy": "2025-06-17T05:29:41.771486Z",
     "iopub.status.idle": "2025-06-17T05:29:55.339035Z",
     "shell.execute_reply": "2025-06-17T05:29:55.338059Z",
     "shell.execute_reply.started": "2025-06-17T05:29:41.771691Z"
    },
    "id": "MIP5WyYe2y3L",
    "tags": []
   },
   "outputs": [
    {
     "data": {
      "application/vnd.jupyter.widget-view+json": {
       "model_id": "6b4966e820ad4e63ad552eefcf091586",
       "version_major": 2,
       "version_minor": 0
      },
      "text/plain": [
       "VBox()"
      ]
     },
     "metadata": {},
     "output_type": "display_data"
    },
    {
     "data": {
      "application/vnd.jupyter.widget-view+json": {
       "model_id": "",
       "version_major": 2,
       "version_minor": 0
      },
      "text/plain": [
       "FloatProgress(value=0.0, bar_style='info', description='Progress:', layout=Layout(height='25px', width='50%'),…"
      ]
     },
     "metadata": {},
     "output_type": "display_data"
    },
    {
     "name": "stdout",
     "output_type": "stream",
     "text": [
      "? Plot saved locally at: /tmp/Hourly_Trend_Collisions.png\n",
      "? Plot uploaded to: https://trafficds71.s3.amazonaws.com/plots/Hourly_Trend_Collisions.png"
     ]
    }
   ],
   "source": [
    "# Hourly Trend of Collisions\n",
    "from pyspark.sql.functions import col, hour, to_timestamp\n",
    "\n",
    "hourly_df = collisions_df1.withColumn(\"collision_time\", to_timestamp(\"collision_time\", \"HH:mm:ss\"))\n",
    "hourly_df = hourly_df.withColumn(\"hour\", hour(\"collision_time\"))\n",
    "hourly_df = hourly_df.groupBy(\"hour\").count().orderBy(\"hour\")\n",
    "hourly_pd = hourly_df.toPandas()\n",
    "\n",
    "# Plot\n",
    "plt.figure(figsize=(10, 5))\n",
    "sns.lineplot(data=hourly_pd, x=\"hour\", y=\"count\", marker=\"o\", color=\"orange\")\n",
    "plt.title(\"Hourly Trend of Collisions\")\n",
    "plt.xlabel(\"Hour of Day\")\n",
    "plt.ylabel(\"Number of Collisions\")\n",
    "plt.xticks(range(0, 24))\n",
    "plt.grid(True)\n",
    "plt.tight_layout()\n",
    "# plt.show()\n",
    "# Save plot locally on EMR\n",
    "local_path = \"/tmp/Hourly_Trend_Collisions.png\"\n",
    "plt.savefig(local_path)\n",
    "print(f\"✅ Plot saved locally at: {local_path}\")\n",
    "\n",
    "# Upload to S3\n",
    "bucket_name = \"trafficds71\"\n",
    "s3_key = \"plots/Hourly_Trend_Collisions.png\"  # You can customize folder/key structure\n",
    "\n",
    "# Upload\n",
    "s3 = boto3.client(\"s3\")\n",
    "s3.upload_file(local_path, bucket_name, s3_key)\n",
    "\n",
    "# Generate viewable URL (if public or accessible)\n",
    "s3_url = f\"https://{bucket_name}.s3.amazonaws.com/{s3_key}\"\n",
    "print(f\"📊 Plot uploaded to: {s3_url}\")"
   ]
  },
  {
   "cell_type": "markdown",
   "metadata": {
    "id": "CNPO9y2qBNsr"
   },
   "source": [
    "# **4. ETL Querying** <font color = red>[35 marks]</font> <br>"
   ]
  },
  {
   "cell_type": "markdown",
   "metadata": {
    "id": "N5sEX_8Uc-6a"
   },
   "source": [
    "## **4.1 Loading the Dataset** <font color = red>[1 marks]</font> <br>\n",
    "\n",
    "Q: Load the processed dataset as CSV files in S3 bucket."
   ]
  },
  {
   "cell_type": "code",
   "execution_count": 93,
   "metadata": {
    "execution": {
     "iopub.execute_input": "2025-06-17T05:29:55.340556Z",
     "iopub.status.busy": "2025-06-17T05:29:55.340328Z",
     "iopub.status.idle": "2025-06-17T05:30:02.746645Z",
     "shell.execute_reply": "2025-06-17T05:30:02.745801Z",
     "shell.execute_reply.started": "2025-06-17T05:29:55.340526Z"
    },
    "id": "cyBNEDe2R86y",
    "tags": []
   },
   "outputs": [
    {
     "data": {
      "application/vnd.jupyter.widget-view+json": {
       "model_id": "8be7578a3ae64b22960476e3036230ee",
       "version_major": 2,
       "version_minor": 0
      },
      "text/plain": [
       "VBox()"
      ]
     },
     "metadata": {},
     "output_type": "display_data"
    },
    {
     "data": {
      "application/vnd.jupyter.widget-view+json": {
       "model_id": "",
       "version_major": 2,
       "version_minor": 0
      },
      "text/plain": [
       "FloatProgress(value=0.0, bar_style='info', description='Progress:', layout=Layout(height='25px', width='50%'),…"
      ]
     },
     "metadata": {},
     "output_type": "display_data"
    }
   ],
   "source": [
    "# Write your query here\n",
    "# Loding sample_case_ids\n",
    "case_ids_df1.coalesce(1) \\\n",
    "  .write \\\n",
    "  .option(\"header\", \"true\") \\\n",
    "  .mode(\"overwrite\") \\\n",
    "  .csv(\"s3://trafficds71/temp_output/\")"
   ]
  },
  {
   "cell_type": "code",
   "execution_count": 94,
   "metadata": {
    "execution": {
     "iopub.execute_input": "2025-06-17T05:30:02.747907Z",
     "iopub.status.busy": "2025-06-17T05:30:02.747657Z",
     "iopub.status.idle": "2025-06-17T05:30:03.530118Z",
     "shell.execute_reply": "2025-06-17T05:30:03.529021Z",
     "shell.execute_reply.started": "2025-06-17T05:30:02.747876Z"
    },
    "tags": []
   },
   "outputs": [
    {
     "data": {
      "application/vnd.jupyter.widget-view+json": {
       "model_id": "4b4b859848d14ca8b4ea343521341009",
       "version_major": 2,
       "version_minor": 0
      },
      "text/plain": [
       "VBox()"
      ]
     },
     "metadata": {},
     "output_type": "display_data"
    },
    {
     "data": {
      "application/vnd.jupyter.widget-view+json": {
       "model_id": "",
       "version_major": 2,
       "version_minor": 0
      },
      "text/plain": [
       "FloatProgress(value=0.0, bar_style='info', description='Progress:', layout=Layout(height='25px', width='50%'),…"
      ]
     },
     "metadata": {},
     "output_type": "display_data"
    },
    {
     "name": "stdout",
     "output_type": "stream",
     "text": [
      "Renaming temp_output/part-00000-ca223808-ab45-47a1-95fa-58d507e86653-c000.csv to output/sample_case_ids.csv\n",
      "{'ResponseMetadata': {'RequestId': 'C6JEFWFENDEA7QYP', 'HostId': 'nJsti4b/xRtHyaD2tlJFV0qvoATuh0myABq0vRKhWHt3Ln/wTZcfbYyCYUw8g5Oft/VBi+VnsL0=', 'HTTPStatusCode': 200, 'HTTPHeaders': {'x-amz-id-2': 'nJsti4b/xRtHyaD2tlJFV0qvoATuh0myABq0vRKhWHt3Ln/wTZcfbYyCYUw8g5Oft/VBi+VnsL0=', 'x-amz-request-id': 'C6JEFWFENDEA7QYP', 'date': 'Tue, 17 Jun 2025 05:30:03 GMT', 'x-amz-server-side-encryption': 'AES256', 'content-type': 'application/xml', 'content-length': '275', 'server': 'AmazonS3'}, 'RetryAttempts': 0}, 'ServerSideEncryption': 'AES256', 'CopyObjectResult': {'ETag': '\"3e0531c0343e1e80270d2ffed8d2b164\"', 'LastModified': datetime.datetime(2025, 6, 17, 5, 30, 3, tzinfo=tzlocal()), 'ChecksumCRC64NVME': 'mVUbjxJU1AM='}}\n",
      "{'ResponseMetadata': {'RequestId': 'N719RW01Z7FBW7T2', 'HostId': 'PoFV3MxhOdEh6+3+CKNkszQw/iO6R15zMwdSR5m/LQsIGHlEX+HuRTKJ9R6OJXZ6xvzpQR7dqo0=', 'HTTPStatusCode': 204, 'HTTPHeaders': {'x-amz-id-2': 'PoFV3MxhOdEh6+3+CKNkszQw/iO6R15zMwdSR5m/LQsIGHlEX+HuRTKJ9R6OJXZ6xvzpQR7dqo0=', 'x-amz-request-id': 'N719RW01Z7FBW7T2', 'date': 'Tue, 17 Jun 2025 05:30:04 GMT', 'server': 'AmazonS3'}, 'RetryAttempts': 0}}"
     ]
    }
   ],
   "source": [
    "import boto3\n",
    "\n",
    "s3 = boto3.client('s3')\n",
    "bucket = 'trafficds71'\n",
    "prefix = 'temp_output/'\n",
    "\n",
    "# List objects to find the actual CSV file\n",
    "response = s3.list_objects_v2(Bucket=bucket, Prefix=prefix)\n",
    "\n",
    "for obj in response.get('Contents', []):\n",
    "    key = obj['Key']\n",
    "    if key.endswith(\".csv\"):\n",
    "        print(f\"Renaming {key} to output/sample_case_ids.csv\")\n",
    "\n",
    "        # Copy with new name\n",
    "        s3.copy_object(\n",
    "            Bucket=bucket,\n",
    "            CopySource={'Bucket': bucket, 'Key': key},\n",
    "            Key='output/sample_case_ids.csv'\n",
    "        )\n",
    "\n",
    "        # Optionally delete original part file\n",
    "        s3.delete_object(Bucket=bucket, Key=key)\n",
    "        break"
   ]
  },
  {
   "cell_type": "code",
   "execution_count": 95,
   "metadata": {
    "execution": {
     "iopub.execute_input": "2025-06-17T05:30:03.531686Z",
     "iopub.status.busy": "2025-06-17T05:30:03.531401Z",
     "iopub.status.idle": "2025-06-17T05:30:36.927216Z",
     "shell.execute_reply": "2025-06-17T05:30:36.926120Z",
     "shell.execute_reply.started": "2025-06-17T05:30:03.531655Z"
    },
    "tags": []
   },
   "outputs": [
    {
     "data": {
      "application/vnd.jupyter.widget-view+json": {
       "model_id": "f60158e6aee54646a697c64646d422ce",
       "version_major": 2,
       "version_minor": 0
      },
      "text/plain": [
       "VBox()"
      ]
     },
     "metadata": {},
     "output_type": "display_data"
    },
    {
     "data": {
      "application/vnd.jupyter.widget-view+json": {
       "model_id": "",
       "version_major": 2,
       "version_minor": 0
      },
      "text/plain": [
       "FloatProgress(value=0.0, bar_style='info', description='Progress:', layout=Layout(height='25px', width='50%'),…"
      ]
     },
     "metadata": {},
     "output_type": "display_data"
    }
   ],
   "source": [
    "# Write your query here\n",
    "# Loding sample_collisions\n",
    "collisions_df1.coalesce(1) \\\n",
    "  .write \\\n",
    "  .option(\"header\", \"true\") \\\n",
    "  .mode(\"overwrite\") \\\n",
    "  .csv(\"s3://trafficds71/temp_output/\")"
   ]
  },
  {
   "cell_type": "code",
   "execution_count": 96,
   "metadata": {
    "execution": {
     "iopub.execute_input": "2025-06-17T05:30:36.928636Z",
     "iopub.status.busy": "2025-06-17T05:30:36.928412Z",
     "iopub.status.idle": "2025-06-17T05:30:42.207788Z",
     "shell.execute_reply": "2025-06-17T05:30:42.206587Z",
     "shell.execute_reply.started": "2025-06-17T05:30:36.928606Z"
    },
    "tags": []
   },
   "outputs": [
    {
     "data": {
      "application/vnd.jupyter.widget-view+json": {
       "model_id": "8eb63b9ce2444f849be234ce95d932b3",
       "version_major": 2,
       "version_minor": 0
      },
      "text/plain": [
       "VBox()"
      ]
     },
     "metadata": {},
     "output_type": "display_data"
    },
    {
     "data": {
      "application/vnd.jupyter.widget-view+json": {
       "model_id": "",
       "version_major": 2,
       "version_minor": 0
      },
      "text/plain": [
       "FloatProgress(value=0.0, bar_style='info', description='Progress:', layout=Layout(height='25px', width='50%'),…"
      ]
     },
     "metadata": {},
     "output_type": "display_data"
    },
    {
     "name": "stdout",
     "output_type": "stream",
     "text": [
      "Renaming temp_output/part-00000-66be7f5b-5931-41f2-a3c0-aedcc1363a1a-c000.csv to output/sample_collisions.csv\n",
      "{'ResponseMetadata': {'RequestId': 'T0X5XKMSESJ6GKWA', 'HostId': 'fH0Jr1tzQit7gfI6T6MN+fkjxcoGy8DdrxI9pZPZ4E1JGIgpic57IS/ZDDbGbMfAmTM7xXein1I=', 'HTTPStatusCode': 200, 'HTTPHeaders': {'x-amz-id-2': 'fH0Jr1tzQit7gfI6T6MN+fkjxcoGy8DdrxI9pZPZ4E1JGIgpic57IS/ZDDbGbMfAmTM7xXein1I=', 'x-amz-request-id': 'T0X5XKMSESJ6GKWA', 'date': 'Tue, 17 Jun 2025 05:30:38 GMT', 'x-amz-server-side-encryption': 'AES256', 'content-type': 'application/xml', 'content-length': '275', 'server': 'AmazonS3'}, 'RetryAttempts': 0}, 'ServerSideEncryption': 'AES256', 'CopyObjectResult': {'ETag': '\"81e8d72ce1be69152a4298c8a0fdb15f\"', 'LastModified': datetime.datetime(2025, 6, 17, 5, 30, 38, tzinfo=tzlocal()), 'ChecksumCRC64NVME': '+QyFWSgbg2A='}}\n",
      "{'ResponseMetadata': {'RequestId': '977DS0B5K3JBYNZ8', 'HostId': 'HefPZPGnv+ADVh50t/qa1+LS1E6iMiZtaXZJmjUhdd8WX0UZVYPiHCUVzKQ2PlOgwJsnGEQVlnA=', 'HTTPStatusCode': 204, 'HTTPHeaders': {'x-amz-id-2': 'HefPZPGnv+ADVh50t/qa1+LS1E6iMiZtaXZJmjUhdd8WX0UZVYPiHCUVzKQ2PlOgwJsnGEQVlnA=', 'x-amz-request-id': '977DS0B5K3JBYNZ8', 'date': 'Tue, 17 Jun 2025 05:30:43 GMT', 'server': 'AmazonS3'}, 'RetryAttempts': 0}}"
     ]
    }
   ],
   "source": [
    "import boto3\n",
    "\n",
    "s3 = boto3.client('s3')\n",
    "bucket = 'trafficds71'\n",
    "prefix = 'temp_output/'\n",
    "\n",
    "# List objects to find the actual CSV file\n",
    "response = s3.list_objects_v2(Bucket=bucket, Prefix=prefix)\n",
    "\n",
    "for obj in response.get('Contents', []):\n",
    "    key = obj['Key']\n",
    "    if key.endswith(\".csv\"):\n",
    "        print(f\"Renaming {key} to output/sample_collisions.csv\")\n",
    "\n",
    "        # Copy with new name\n",
    "        s3.copy_object(\n",
    "            Bucket=bucket,\n",
    "            CopySource={'Bucket': bucket, 'Key': key},\n",
    "            Key='output/sample_collisions.csv'\n",
    "        )\n",
    "\n",
    "        # Optionally delete original part file\n",
    "        s3.delete_object(Bucket=bucket, Key=key)\n",
    "        break"
   ]
  },
  {
   "cell_type": "code",
   "execution_count": 97,
   "metadata": {
    "execution": {
     "iopub.execute_input": "2025-06-17T05:30:42.209298Z",
     "iopub.status.busy": "2025-06-17T05:30:42.209020Z",
     "iopub.status.idle": "2025-06-17T05:31:01.567031Z",
     "shell.execute_reply": "2025-06-17T05:31:01.565910Z",
     "shell.execute_reply.started": "2025-06-17T05:30:42.209253Z"
    },
    "tags": []
   },
   "outputs": [
    {
     "data": {
      "application/vnd.jupyter.widget-view+json": {
       "model_id": "d2278a7a6ec74d22a7f4c0fd647e23f5",
       "version_major": 2,
       "version_minor": 0
      },
      "text/plain": [
       "VBox()"
      ]
     },
     "metadata": {},
     "output_type": "display_data"
    },
    {
     "data": {
      "application/vnd.jupyter.widget-view+json": {
       "model_id": "",
       "version_major": 2,
       "version_minor": 0
      },
      "text/plain": [
       "FloatProgress(value=0.0, bar_style='info', description='Progress:', layout=Layout(height='25px', width='50%'),…"
      ]
     },
     "metadata": {},
     "output_type": "display_data"
    }
   ],
   "source": [
    "# Write your query here\n",
    "# Loding sample_parties\n",
    "parties_df1.coalesce(1) \\\n",
    "  .write \\\n",
    "  .option(\"header\", \"true\") \\\n",
    "  .mode(\"overwrite\") \\\n",
    "  .csv(\"s3://trafficds71/temp_output/\")"
   ]
  },
  {
   "cell_type": "code",
   "execution_count": 98,
   "metadata": {
    "execution": {
     "iopub.execute_input": "2025-06-17T05:31:01.569197Z",
     "iopub.status.busy": "2025-06-17T05:31:01.568417Z",
     "iopub.status.idle": "2025-06-17T05:31:06.859253Z",
     "shell.execute_reply": "2025-06-17T05:31:06.858319Z",
     "shell.execute_reply.started": "2025-06-17T05:31:01.569148Z"
    },
    "tags": []
   },
   "outputs": [
    {
     "data": {
      "application/vnd.jupyter.widget-view+json": {
       "model_id": "27f0414a97cb450f8e2528578f492763",
       "version_major": 2,
       "version_minor": 0
      },
      "text/plain": [
       "VBox()"
      ]
     },
     "metadata": {},
     "output_type": "display_data"
    },
    {
     "data": {
      "application/vnd.jupyter.widget-view+json": {
       "model_id": "",
       "version_major": 2,
       "version_minor": 0
      },
      "text/plain": [
       "FloatProgress(value=0.0, bar_style='info', description='Progress:', layout=Layout(height='25px', width='50%'),…"
      ]
     },
     "metadata": {},
     "output_type": "display_data"
    },
    {
     "name": "stdout",
     "output_type": "stream",
     "text": [
      "Renaming temp_output/part-00000-ea443920-ff5a-4e33-b343-7794a0e16aec-c000.csv to output/sample_parties.csv\n",
      "{'ResponseMetadata': {'RequestId': '4M2YKS28YDP4X7MQ', 'HostId': 't4phz2U5qNLudPwH9kS1M417ppQ7yEOZmYU4+UEsdYxrJ6tz36RbqH6yni/Nly3NZxow060o4CU=', 'HTTPStatusCode': 200, 'HTTPHeaders': {'x-amz-id-2': 't4phz2U5qNLudPwH9kS1M417ppQ7yEOZmYU4+UEsdYxrJ6tz36RbqH6yni/Nly3NZxow060o4CU=', 'x-amz-request-id': '4M2YKS28YDP4X7MQ', 'date': 'Tue, 17 Jun 2025 05:31:02 GMT', 'x-amz-server-side-encryption': 'AES256', 'content-type': 'application/xml', 'content-length': '275', 'server': 'AmazonS3'}, 'RetryAttempts': 0}, 'ServerSideEncryption': 'AES256', 'CopyObjectResult': {'ETag': '\"ecbadc9c4f8fab169dda8d0cfbf1b3f8\"', 'LastModified': datetime.datetime(2025, 6, 17, 5, 31, 2, tzinfo=tzlocal()), 'ChecksumCRC64NVME': 'rir81dE2gA0='}}\n",
      "{'ResponseMetadata': {'RequestId': 'F6BNJ6C9Z0Q913NA', 'HostId': 'sSOfduhXVWhybyrQDXag9a6E4azBi7/HZqsfmDR+tMMrHpwIe8RrU5vuixmJguZaytWCur7CxMw=', 'HTTPStatusCode': 204, 'HTTPHeaders': {'x-amz-id-2': 'sSOfduhXVWhybyrQDXag9a6E4azBi7/HZqsfmDR+tMMrHpwIe8RrU5vuixmJguZaytWCur7CxMw=', 'x-amz-request-id': 'F6BNJ6C9Z0Q913NA', 'date': 'Tue, 17 Jun 2025 05:31:07 GMT', 'server': 'AmazonS3'}, 'RetryAttempts': 0}}"
     ]
    }
   ],
   "source": [
    "import boto3\n",
    "\n",
    "s3 = boto3.client('s3')\n",
    "bucket = 'trafficds71'\n",
    "prefix = 'temp_output/'\n",
    "\n",
    "# List objects to find the actual CSV file\n",
    "response = s3.list_objects_v2(Bucket=bucket, Prefix=prefix)\n",
    "\n",
    "for obj in response.get('Contents', []):\n",
    "    key = obj['Key']\n",
    "    if key.endswith(\".csv\"):\n",
    "        print(f\"Renaming {key} to output/sample_parties.csv\")\n",
    "\n",
    "        # Copy with new name\n",
    "        s3.copy_object(\n",
    "            Bucket=bucket,\n",
    "            CopySource={'Bucket': bucket, 'Key': key},\n",
    "            Key='output/sample_parties.csv'\n",
    "        )\n",
    "\n",
    "        # Optionally delete original part file\n",
    "        s3.delete_object(Bucket=bucket, Key=key)\n",
    "        break"
   ]
  },
  {
   "cell_type": "code",
   "execution_count": 99,
   "metadata": {
    "execution": {
     "iopub.execute_input": "2025-06-17T05:31:06.860696Z",
     "iopub.status.busy": "2025-06-17T05:31:06.860477Z",
     "iopub.status.idle": "2025-06-17T05:31:16.169355Z",
     "shell.execute_reply": "2025-06-17T05:31:16.168287Z",
     "shell.execute_reply.started": "2025-06-17T05:31:06.860665Z"
    },
    "tags": []
   },
   "outputs": [
    {
     "data": {
      "application/vnd.jupyter.widget-view+json": {
       "model_id": "ce8778115d544b86960bd4b750e06f76",
       "version_major": 2,
       "version_minor": 0
      },
      "text/plain": [
       "VBox()"
      ]
     },
     "metadata": {},
     "output_type": "display_data"
    },
    {
     "data": {
      "application/vnd.jupyter.widget-view+json": {
       "model_id": "",
       "version_major": 2,
       "version_minor": 0
      },
      "text/plain": [
       "FloatProgress(value=0.0, bar_style='info', description='Progress:', layout=Layout(height='25px', width='50%'),…"
      ]
     },
     "metadata": {},
     "output_type": "display_data"
    }
   ],
   "source": [
    "# Write your query here\n",
    "# Loding sample_victims\n",
    "victims_df1.coalesce(1) \\\n",
    "  .write \\\n",
    "  .option(\"header\", \"true\") \\\n",
    "  .mode(\"overwrite\") \\\n",
    "  .csv(\"s3://trafficds71/temp_output/\")"
   ]
  },
  {
   "cell_type": "code",
   "execution_count": 100,
   "metadata": {
    "execution": {
     "iopub.execute_input": "2025-06-17T05:31:16.170867Z",
     "iopub.status.busy": "2025-06-17T05:31:16.170657Z",
     "iopub.status.idle": "2025-06-17T05:31:18.474625Z",
     "shell.execute_reply": "2025-06-17T05:31:18.473479Z",
     "shell.execute_reply.started": "2025-06-17T05:31:16.170838Z"
    },
    "tags": []
   },
   "outputs": [
    {
     "data": {
      "application/vnd.jupyter.widget-view+json": {
       "model_id": "e57b3d3959a54319afbf02cb026a14c1",
       "version_major": 2,
       "version_minor": 0
      },
      "text/plain": [
       "VBox()"
      ]
     },
     "metadata": {},
     "output_type": "display_data"
    },
    {
     "data": {
      "application/vnd.jupyter.widget-view+json": {
       "model_id": "",
       "version_major": 2,
       "version_minor": 0
      },
      "text/plain": [
       "FloatProgress(value=0.0, bar_style='info', description='Progress:', layout=Layout(height='25px', width='50%'),…"
      ]
     },
     "metadata": {},
     "output_type": "display_data"
    },
    {
     "name": "stdout",
     "output_type": "stream",
     "text": [
      "Renaming temp_output/part-00000-c34c80d2-b3fe-43fa-a3a7-b6a16b8e1259-c000.csv to output/sample_victims.csv\n",
      "{'ResponseMetadata': {'RequestId': '96E3304G73S1GVCJ', 'HostId': 'u9hwysQLSNmp1MPZczba0yeEK+hmxYQIPfva0tGeZYRYxDtfjUIsPK87+zjuJ1W+gMomWX8bDTM3k3vyUj7gmv9jGNa0FUyW', 'HTTPStatusCode': 200, 'HTTPHeaders': {'x-amz-id-2': 'u9hwysQLSNmp1MPZczba0yeEK+hmxYQIPfva0tGeZYRYxDtfjUIsPK87+zjuJ1W+gMomWX8bDTM3k3vyUj7gmv9jGNa0FUyW', 'x-amz-request-id': '96E3304G73S1GVCJ', 'date': 'Tue, 17 Jun 2025 05:31:17 GMT', 'x-amz-server-side-encryption': 'AES256', 'content-type': 'application/xml', 'content-length': '275', 'server': 'AmazonS3'}, 'RetryAttempts': 0}, 'ServerSideEncryption': 'AES256', 'CopyObjectResult': {'ETag': '\"994a462afc0d6c8e860ce1a625a53707\"', 'LastModified': datetime.datetime(2025, 6, 17, 5, 31, 17, tzinfo=tzlocal()), 'ChecksumCRC64NVME': 'dVADEQkFA9I='}}\n",
      "{'ResponseMetadata': {'RequestId': 'PF2YEYR56FT6VQDE', 'HostId': 'fSc+ou/ngoUesWR6xLBlKmod+frybFSdJxAcXptuS1wR9sQMwNFhJmlbQlHS8KWbffIfMNhDcP3nsAAydbiCkFzpHX0iT5SF', 'HTTPStatusCode': 204, 'HTTPHeaders': {'x-amz-id-2': 'fSc+ou/ngoUesWR6xLBlKmod+frybFSdJxAcXptuS1wR9sQMwNFhJmlbQlHS8KWbffIfMNhDcP3nsAAydbiCkFzpHX0iT5SF', 'x-amz-request-id': 'PF2YEYR56FT6VQDE', 'date': 'Tue, 17 Jun 2025 05:31:18 GMT', 'server': 'AmazonS3'}, 'RetryAttempts': 0}}"
     ]
    }
   ],
   "source": [
    "import boto3\n",
    "\n",
    "s3 = boto3.client('s3')\n",
    "bucket = 'trafficds71'\n",
    "prefix = 'temp_output/'\n",
    "\n",
    "# List objects to find the actual CSV file\n",
    "response = s3.list_objects_v2(Bucket=bucket, Prefix=prefix)\n",
    "\n",
    "for obj in response.get('Contents', []):\n",
    "    key = obj['Key']\n",
    "    if key.endswith(\".csv\"):\n",
    "        print(f\"Renaming {key} to output/sample_victims.csv\")\n",
    "\n",
    "        # Copy with new name\n",
    "        s3.copy_object(\n",
    "            Bucket=bucket,\n",
    "            CopySource={'Bucket': bucket, 'Key': key},\n",
    "            Key='output/sample_victims.csv'\n",
    "        )\n",
    "\n",
    "        # Optionally delete original part file\n",
    "        s3.delete_object(Bucket=bucket, Key=key)\n",
    "        break"
   ]
  },
  {
   "cell_type": "markdown",
   "metadata": {
    "id": "S8Ts_6JGdgCB"
   },
   "source": [
    "## **4.2. Top 5 Counties** <font color = red>[4 marks]</font> <br>\n",
    "\n",
    "Q: Identify the top 5 counties with the highest number of collisions."
   ]
  },
  {
   "cell_type": "code",
   "execution_count": 101,
   "metadata": {
    "execution": {
     "iopub.execute_input": "2025-06-17T05:31:18.477186Z",
     "iopub.status.busy": "2025-06-17T05:31:18.476930Z",
     "iopub.status.idle": "2025-06-17T05:31:31.818305Z",
     "shell.execute_reply": "2025-06-17T05:31:31.817156Z",
     "shell.execute_reply.started": "2025-06-17T05:31:18.477156Z"
    },
    "id": "i_88_Urs3dHa",
    "tags": []
   },
   "outputs": [
    {
     "data": {
      "application/vnd.jupyter.widget-view+json": {
       "model_id": "6f14c3ebfe9748b4a076323752007b7d",
       "version_major": 2,
       "version_minor": 0
      },
      "text/plain": [
       "VBox()"
      ]
     },
     "metadata": {},
     "output_type": "display_data"
    },
    {
     "data": {
      "application/vnd.jupyter.widget-view+json": {
       "model_id": "",
       "version_major": 2,
       "version_minor": 0
      },
      "text/plain": [
       "FloatProgress(value=0.0, bar_style='info', description='Progress:', layout=Layout(height='25px', width='50%'),…"
      ]
     },
     "metadata": {},
     "output_type": "display_data"
    },
    {
     "name": "stdout",
     "output_type": "stream",
     "text": [
      "+---------------+------+\n",
      "|county_location| count|\n",
      "+---------------+------+\n",
      "|    los angeles|284100|\n",
      "|         orange| 72042|\n",
      "| san bernardino| 56737|\n",
      "|      san diego| 53105|\n",
      "|      riverside| 48686|\n",
      "+---------------+------+"
     ]
    }
   ],
   "source": [
    "# Query: Identify the top 5 counties with the most collisions\n",
    "from pyspark.sql.functions import col, desc, month, count\n",
    "\n",
    "top5_counties = collisions_df1.groupBy(\"county_location\") \\\n",
    "    .count() \\\n",
    "    .orderBy(desc(\"count\")) \\\n",
    "    .limit(5)\n",
    "\n",
    "top5_counties.show()"
   ]
  },
  {
   "cell_type": "markdown",
   "metadata": {
    "id": "_I3h6B13didy"
   },
   "source": [
    "## **4.3. Month with Highest Collisions** <font color = red>[5 marks]</font> <br>\n",
    "\n",
    "Q. Identify the month with the highest number of collisions."
   ]
  },
  {
   "cell_type": "code",
   "execution_count": 102,
   "metadata": {
    "execution": {
     "iopub.execute_input": "2025-06-17T05:31:31.820431Z",
     "iopub.status.busy": "2025-06-17T05:31:31.820121Z",
     "iopub.status.idle": "2025-06-17T05:31:45.205764Z",
     "shell.execute_reply": "2025-06-17T05:31:45.204565Z",
     "shell.execute_reply.started": "2025-06-17T05:31:31.820384Z"
    },
    "id": "_9Z8nj9VCRap",
    "tags": []
   },
   "outputs": [
    {
     "data": {
      "application/vnd.jupyter.widget-view+json": {
       "model_id": "9567229fb8314fd7a84038d2b84f5bec",
       "version_major": 2,
       "version_minor": 0
      },
      "text/plain": [
       "VBox()"
      ]
     },
     "metadata": {},
     "output_type": "display_data"
    },
    {
     "data": {
      "application/vnd.jupyter.widget-view+json": {
       "model_id": "",
       "version_major": 2,
       "version_minor": 0
      },
      "text/plain": [
       "FloatProgress(value=0.0, bar_style='info', description='Progress:', layout=Layout(height='25px', width='50%'),…"
      ]
     },
     "metadata": {},
     "output_type": "display_data"
    },
    {
     "name": "stdout",
     "output_type": "stream",
     "text": [
      "+---------------+---------------+\n",
      "|collision_month|collision_count|\n",
      "+---------------+---------------+\n",
      "|             10|          83274|\n",
      "+---------------+---------------+"
     ]
    }
   ],
   "source": [
    "# Query: Find the month with the highest number of collisions\n",
    "# Extract month with highest collisions\n",
    "month_with_high_collisions = collisions_df1 \\\n",
    "    .withColumn(\"collision_month\", month(\"collision_date\")) \\\n",
    "    .groupBy(\"collision_month\") \\\n",
    "    .agg(count(\"*\").alias(\"collision_count\")) \\\n",
    "    .orderBy(desc(\"collision_count\")) \\\n",
    "    .limit(1)\n",
    "\n",
    "month_with_high_collisions.show()"
   ]
  },
  {
   "cell_type": "markdown",
   "metadata": {
    "id": "OrgmCW6HdluR"
   },
   "source": [
    "## **4.4. Weather Conditions with Highest Collisions.** <font color = red>[5 marks]</font> <br>\n",
    "\n",
    "Q. Determine the most common weather condition during collisions."
   ]
  },
  {
   "cell_type": "code",
   "execution_count": 103,
   "metadata": {
    "execution": {
     "iopub.execute_input": "2025-06-17T05:31:45.207262Z",
     "iopub.status.busy": "2025-06-17T05:31:45.207050Z",
     "iopub.status.idle": "2025-06-17T05:31:58.527354Z",
     "shell.execute_reply": "2025-06-17T05:31:58.526218Z",
     "shell.execute_reply.started": "2025-06-17T05:31:45.207233Z"
    },
    "id": "6tRfOE9JCUZ1",
    "tags": []
   },
   "outputs": [
    {
     "data": {
      "application/vnd.jupyter.widget-view+json": {
       "model_id": "1f06acbc0f70496183a23be3bebce956",
       "version_major": 2,
       "version_minor": 0
      },
      "text/plain": [
       "VBox()"
      ]
     },
     "metadata": {},
     "output_type": "display_data"
    },
    {
     "data": {
      "application/vnd.jupyter.widget-view+json": {
       "model_id": "",
       "version_major": 2,
       "version_minor": 0
      },
      "text/plain": [
       "FloatProgress(value=0.0, bar_style='info', description='Progress:', layout=Layout(height='25px', width='50%'),…"
      ]
     },
     "metadata": {},
     "output_type": "display_data"
    },
    {
     "name": "stdout",
     "output_type": "stream",
     "text": [
      "+---------+---------------+\n",
      "|weather_1|collision_count|\n",
      "+---------+---------------+\n",
      "|    clear|         769927|\n",
      "+---------+---------------+"
     ]
    }
   ],
   "source": [
    "# Query: Find the most common weather condition during collisions\n",
    "\n",
    "weather_with_most_col = collisions_df1 \\\n",
    "    .groupBy(\"weather_1\") \\\n",
    "    .agg(count(\"*\").alias(\"collision_count\")) \\\n",
    "    .orderBy(desc(\"collision_count\")) \\\n",
    "    .limit(1)\n",
    "\n",
    "weather_with_most_col .show()"
   ]
  },
  {
   "cell_type": "markdown",
   "metadata": {
    "id": "__wjubw8dpER"
   },
   "source": [
    "## **4.5. Fatal Collisions.** <font color = red>[5 marks]</font> <br>\n",
    "\n",
    "Q. Calculate the percentage of collisions that resulted in fatalities."
   ]
  },
  {
   "cell_type": "code",
   "execution_count": 104,
   "metadata": {
    "execution": {
     "iopub.execute_input": "2025-06-17T05:31:58.529319Z",
     "iopub.status.busy": "2025-06-17T05:31:58.528998Z",
     "iopub.status.idle": "2025-06-17T05:32:18.089957Z",
     "shell.execute_reply": "2025-06-17T05:32:18.088975Z",
     "shell.execute_reply.started": "2025-06-17T05:31:58.529271Z"
    },
    "id": "MDShu7uyCYfh",
    "tags": []
   },
   "outputs": [
    {
     "data": {
      "application/vnd.jupyter.widget-view+json": {
       "model_id": "2d0cd01e7e7f4a9093b4646926f62747",
       "version_major": 2,
       "version_minor": 0
      },
      "text/plain": [
       "VBox()"
      ]
     },
     "metadata": {},
     "output_type": "display_data"
    },
    {
     "data": {
      "application/vnd.jupyter.widget-view+json": {
       "model_id": "",
       "version_major": 2,
       "version_minor": 0
      },
      "text/plain": [
       "FloatProgress(value=0.0, bar_style='info', description='Progress:', layout=Layout(height='25px', width='50%'),…"
      ]
     },
     "metadata": {},
     "output_type": "display_data"
    },
    {
     "name": "stdout",
     "output_type": "stream",
     "text": [
      "Percentage of collisions with fatalities: 0.00%"
     ]
    }
   ],
   "source": [
    "# Query: Determine the percentage of collisions that resulted in fatalities\n",
    "from pyspark.sql.functions import col, count, when\n",
    "# Total number of collisions\n",
    "total_col = collisions_df1.count()\n",
    "\n",
    "# Count of Collisions with fatalities\n",
    "fatal_col = collisions_df1.filter(col(\"killed_victims\") > 0).count()\n",
    "\n",
    "# percentage Calculation\n",
    "fatal_percent = (fatal_col / total_col) * 100\n",
    "\n",
    "print(f\"Percentage of collisions with fatalities: {fatal_percent:.2f}%\")"
   ]
  },
  {
   "cell_type": "code",
   "execution_count": 105,
   "metadata": {
    "execution": {
     "iopub.execute_input": "2025-06-17T05:32:18.091944Z",
     "iopub.status.busy": "2025-06-17T05:32:18.091550Z",
     "iopub.status.idle": "2025-06-17T05:32:18.152900Z",
     "shell.execute_reply": "2025-06-17T05:32:18.151545Z",
     "shell.execute_reply.started": "2025-06-17T05:32:18.091831Z"
    },
    "tags": []
   },
   "outputs": [
    {
     "data": {
      "application/vnd.jupyter.widget-view+json": {
       "model_id": "1bf313f59b8247918488c053b4413590",
       "version_major": 2,
       "version_minor": 0
      },
      "text/plain": [
       "VBox()"
      ]
     },
     "metadata": {},
     "output_type": "display_data"
    },
    {
     "data": {
      "application/vnd.jupyter.widget-view+json": {
       "model_id": "",
       "version_major": 2,
       "version_minor": 0
      },
      "text/plain": [
       "FloatProgress(value=0.0, bar_style='info', description='Progress:', layout=Layout(height='25px', width='50%'),…"
      ]
     },
     "metadata": {},
     "output_type": "display_data"
    },
    {
     "name": "stdout",
     "output_type": "stream",
     "text": [
      "0"
     ]
    }
   ],
   "source": [
    "fatal_col"
   ]
  },
  {
   "cell_type": "markdown",
   "metadata": {
    "id": "7xZmWUeXdvTy"
   },
   "source": [
    "## **4.6. Dangerous Time for Collisions.** <font color = red>[5 marks]</font> <br>\n",
    "\n",
    "Q. Find the most dangerous time of day for collisions."
   ]
  },
  {
   "cell_type": "code",
   "execution_count": 106,
   "metadata": {
    "execution": {
     "iopub.execute_input": "2025-06-17T05:32:18.154970Z",
     "iopub.status.busy": "2025-06-17T05:32:18.154640Z",
     "iopub.status.idle": "2025-06-17T05:32:31.474736Z",
     "shell.execute_reply": "2025-06-17T05:32:31.473640Z",
     "shell.execute_reply.started": "2025-06-17T05:32:18.154910Z"
    },
    "id": "cWlQetLNCh9h",
    "tags": []
   },
   "outputs": [
    {
     "data": {
      "application/vnd.jupyter.widget-view+json": {
       "model_id": "93d195905b634dd0b86faa9d6375a6e8",
       "version_major": 2,
       "version_minor": 0
      },
      "text/plain": [
       "VBox()"
      ]
     },
     "metadata": {},
     "output_type": "display_data"
    },
    {
     "data": {
      "application/vnd.jupyter.widget-view+json": {
       "model_id": "",
       "version_major": 2,
       "version_minor": 0
      },
      "text/plain": [
       "FloatProgress(value=0.0, bar_style='info', description='Progress:', layout=Layout(height='25px', width='50%'),…"
      ]
     },
     "metadata": {},
     "output_type": "display_data"
    },
    {
     "name": "stdout",
     "output_type": "stream",
     "text": [
      "+--------------+---------------+\n",
      "|collision_hour|collision_count|\n",
      "+--------------+---------------+\n",
      "|            17|          73255|\n",
      "+--------------+---------------+"
     ]
    }
   ],
   "source": [
    "# Query: Find the most dangerous time of day for collisions\n",
    "from pyspark.sql.functions import hour, count, desc\n",
    "\n",
    "# Extract hour and rsepective count collisions\n",
    "dangerous_hour = collisions_df1 \\\n",
    "    .withColumn(\"collision_hour\", hour(\"collision_time\")) \\\n",
    "    .groupBy(\"collision_hour\") \\\n",
    "    .agg(count(\"*\").alias(\"collision_count\")) \\\n",
    "    .orderBy(desc(\"collision_count\")) \\\n",
    "    .limit(1)\n",
    "\n",
    "dangerous_hour.show()"
   ]
  },
  {
   "cell_type": "markdown",
   "metadata": {
    "id": "JyUVOUj4dxKx"
   },
   "source": [
    "## **4.7. Road Surface Conditions.** <font color = red>[5 marks]</font> <br>\n",
    "\n",
    "Q. Identify the top 5 road surface conditions with the highest collision frequency."
   ]
  },
  {
   "cell_type": "code",
   "execution_count": 107,
   "metadata": {
    "execution": {
     "iopub.execute_input": "2025-06-17T05:32:31.476233Z",
     "iopub.status.busy": "2025-06-17T05:32:31.476007Z",
     "iopub.status.idle": "2025-06-17T05:32:42.996416Z",
     "shell.execute_reply": "2025-06-17T05:32:42.995013Z",
     "shell.execute_reply.started": "2025-06-17T05:32:31.476203Z"
    },
    "tags": []
   },
   "outputs": [
    {
     "data": {
      "application/vnd.jupyter.widget-view+json": {
       "model_id": "3e6c1c3c33fd4c2487fc32014d8c494e",
       "version_major": 2,
       "version_minor": 0
      },
      "text/plain": [
       "VBox()"
      ]
     },
     "metadata": {},
     "output_type": "display_data"
    },
    {
     "data": {
      "application/vnd.jupyter.widget-view+json": {
       "model_id": "",
       "version_major": 2,
       "version_minor": 0
      },
      "text/plain": [
       "FloatProgress(value=0.0, bar_style='info', description='Progress:', layout=Layout(height='25px', width='50%'),…"
      ]
     },
     "metadata": {},
     "output_type": "display_data"
    },
    {
     "name": "stdout",
     "output_type": "stream",
     "text": [
      "+-------------------+--------------+------------+--------------------+---------------+--------------+------------+----------+--------------+----------------+--------------------+---------------+-----------------+-----------------+-------------+--------------+-----------+--------------+--------------+--------+---------+------------+---------+-----------------------+--------+-----------+------------------------+----------------------+-------------+---------------+-----------------+---------------------------+--------------------+------------+----------------+--------------------+--------------+-------------+--------------------+-----------------+--------------------+---------------+--------------------+-------------------------------+-------------------------+-------------------+--------------------------+------------------------------+-----------------------+------------------------+----------------------+-----------------------+-------------------------+--------------------------+-------------------+--------+----+-----+-------------------+----+\n",
      "|            case_id|collision_date|process_date|  collision_severity|injured_victims|killed_victims|jurisdiction|officer_id|     chp_shift|      population|county_city_location|county_location|special_condition|        beat_type|chp_beat_type|chp_beat_class|beat_number|  primary_road|secondary_road|distance|direction|intersection|weather_1|state_highway_indicator|tow_away|party_count|primary_collision_factor|pcf_violation_category|pcf_violation|    hit_and_run|type_of_collision|motor_vehicle_involved_with|   pedestrian_action|road_surface|road_condition_1|            lighting|control_device|chp_road_type|pedestrian_collision|bicycle_collision|motorcycle_collision|truck_collision|not_private_property|statewide_vehicle_type_at_fault|chp_vehicle_type_at_fault|severe_injury_count|other_visible_injury_count|complaint_of_pain_injury_count|pedestrian_killed_count|pedestrian_injured_count|bicyclist_killed_count|bicyclist_injured_count|motorcyclist_killed_count|motorcyclist_injured_count|     collision_time| weekday|year|month| collision_datetime|hour|\n",
      "+-------------------+--------------+------------+--------------------+---------------+--------------+------------+----------+--------------+----------------+--------------------+---------------+-----------------+-----------------+-------------+--------------+-----------+--------------+--------------+--------+---------+------------+---------+-----------------------+--------+-----------+------------------------+----------------------+-------------+---------------+-----------------+---------------------------+--------------------+------------+----------------+--------------------+--------------+-------------+--------------------+-----------------+--------------------+---------------+--------------------+-------------------------------+-------------------------+-------------------+--------------------------+------------------------------+-----------------------+------------------------+----------------------+-----------------------+-------------------------+--------------------------+-------------------+--------+----+-----+-------------------+----+\n",
      "|            4479211|    2009-10-17|  2010-11-17|property damage only|            0.0|           0.0|        1900|    503668|       not chp|  25000 to 50000|                1939|    los angeles|              0.0|          not chp|      not chp|       not chp|       35T1|      147TH ST|  HAWTHORNE BL|   100.0|     east|         0.0|    clear|                    0.0|     0.0|        2.0|    vehicle code viol...|  unsafe starting o...|      22106.0|not hit and run|        sideswipe|        other motor vehicle|no pedestrian inv...|         dry|          normal|            daylight|          none|            0|                   0|                0|                   0|              1|                 1.0|           truck or truck tr...|           two axle truck|                  0|                         0|                             0|                      0|                       0|                     0|                      0|                        0|                       0.0|2025-06-17 14:30:00|Saturday|2009|   10|2009-10-17 00:00:00|  14|\n",
      "|9690010621133710000|    2001-06-21|  2001-10-12|property damage only|            0.0|           0.0|        9690|      9739|0600 thru 1359| 50000 to 100000|                3017|         orange|          Unknown|chp state highway|   interstate|     chp other|         59|          RT 5| AV VAQUERO UC|  2650.0|    south|         0.0|    clear|                    1.0|     1.0|        2.0|    vehicle code viol...|      improper turning|      22107.0|not hit and run|       hit object|               fixed object|no pedestrian inv...|         dry|          normal|            daylight|          none|            0|                   0|                0|                   0|              0|                 1.0|                  passenger car|     passenger car, st...|                  0|                         0|                             0|                      0|                       0|                     0|                      0|                        0|                       0.0|2025-06-17 13:37:00|Thursday|2001|    6|2001-06-21 00:00:00|  13|\n",
      "|            9257783|    2021-03-28|  2021-05-01|property damage only|            0.0|           0.0|         700|     OA018|       not chp|  10000 to 25000|                 734|   contra costa|              0.0|          not chp|      not chp|       not chp|        532|       MAIN ST|        3RD ST|     0.0|  Unknown|         0.0|    clear|                    0.0|     1.0|        1.0|    vehicle code viol...|              speeding|      22350.0|not hit and run|       hit object|               fixed object|no pedestrian inv...|         dry|          normal|dark with street ...|          none|            0|                   0|                0|                   0|              0|                 1.0|                  passenger car|     passenger car, st...|                  0|                         0|                             0|                      0|                       0|                     0|                      0|                        0|                       0.0|2025-06-17 22:18:00|  Sunday|2021|    3|2021-03-28 00:00:00|  22|\n",
      "|            6379190|    2013-06-08|  2014-03-22|                pain|            1.0|           0.0|        9565|     20573|1400 thru 2159|         >250000|                1942|    los angeles|              0.0|chp state highway|   interstate|     chp other|        062|        RT 405|         RT 10|   200.0|    south|         0.0|   cloudy|                    1.0|     1.0|        2.0|    vehicle code viol...|              speeding|      22350.0|not hit and run|         rear end|        other motor vehicle|no pedestrian inv...|         dry|          normal|            daylight|   functioning|            1|                   0|                0|                   0|              0|                 1.0|                  passenger car|     sport utility veh...|                  0|                         0|                             1|                      0|                       0|                     0|                      0|                        0|                       0.0|2025-06-17 18:20:00|Saturday|2013|    6|2013-06-08 00:00:00|  18|\n",
      "|           91207854|    2020-03-03|  2020-03-13|property damage only|            0.0|           0.0|        9675|    019979|0600 thru 1359|100000 to 250000|                3026|         orange|              0.0|chp state highway|   interstate|     chp other|        503|I-5 NORTHBOUND|   JAMBOREE RD|   700.0|    south|         0.0|    clear|                    1.0|     0.0|        2.0|       other than driver|  other than driver...|      Unknown|not hit and run|            other|               other object|no pedestrian inv...|         dry|  loose material|            daylight|          none|            0|                   0|                0|                   0|              1|                 1.0|                        Unknown|                  Unknown|                  0|                         0|                             0|                      0|                       0|                     0|                      0|                        0|                       0.0|2025-06-17 13:29:00| Tuesday|2020|    3|2020-03-03 00:00:00|  13|\n",
      "+-------------------+--------------+------------+--------------------+---------------+--------------+------------+----------+--------------+----------------+--------------------+---------------+-----------------+-----------------+-------------+--------------+-----------+--------------+--------------+--------+---------+------------+---------+-----------------------+--------+-----------+------------------------+----------------------+-------------+---------------+-----------------+---------------------------+--------------------+------------+----------------+--------------------+--------------+-------------+--------------------+-----------------+--------------------+---------------+--------------------+-------------------------------+-------------------------+-------------------+--------------------------+------------------------------+-----------------------+------------------------+----------------------+-----------------------+-------------------------+--------------------------+-------------------+--------+----+-----+-------------------+----+\n",
      "only showing top 5 rows"
     ]
    }
   ],
   "source": [
    "collisions_df1.show(5)"
   ]
  },
  {
   "cell_type": "code",
   "execution_count": 108,
   "metadata": {
    "execution": {
     "iopub.execute_input": "2025-06-17T05:32:42.998331Z",
     "iopub.status.busy": "2025-06-17T05:32:42.998019Z",
     "iopub.status.idle": "2025-06-17T05:32:56.347749Z",
     "shell.execute_reply": "2025-06-17T05:32:56.346737Z",
     "shell.execute_reply.started": "2025-06-17T05:32:42.998285Z"
    },
    "id": "H-L4YSq2Ck-u",
    "tags": []
   },
   "outputs": [
    {
     "data": {
      "application/vnd.jupyter.widget-view+json": {
       "model_id": "b054bbbf0ebe468285881acc8e2ace49",
       "version_major": 2,
       "version_minor": 0
      },
      "text/plain": [
       "VBox()"
      ]
     },
     "metadata": {},
     "output_type": "display_data"
    },
    {
     "data": {
      "application/vnd.jupyter.widget-view+json": {
       "model_id": "",
       "version_major": 2,
       "version_minor": 0
      },
      "text/plain": [
       "FloatProgress(value=0.0, bar_style='info', description='Progress:', layout=Layout(height='25px', width='50%'),…"
      ]
     },
     "metadata": {},
     "output_type": "display_data"
    },
    {
     "name": "stdout",
     "output_type": "stream",
     "text": [
      "+------------+---------------+\n",
      "|road_surface|collision_count|\n",
      "+------------+---------------+\n",
      "|         dry|         845637|\n",
      "|         wet|          76833|\n",
      "|     Unknown|           8141|\n",
      "|       snowy|           4122|\n",
      "|    slippery|           1048|\n",
      "+------------+---------------+"
     ]
    }
   ],
   "source": [
    "# Query: List the top 5 road types with the highest collision frequency\n",
    "top5_road_types = collisions_df1 \\\n",
    "    .groupBy(\"road_surface\") \\\n",
    "    .agg(count(\"*\").alias(\"collision_count\")) \\\n",
    "    .orderBy(desc(\"collision_count\")) \\\n",
    "    .limit(5)\n",
    "\n",
    "top5_road_types.show()"
   ]
  },
  {
   "cell_type": "markdown",
   "metadata": {
    "id": "Ta_JXenUd1rS"
   },
   "source": [
    "## **4.8. Lighting Conditions.** <font color = red>[5 marks]</font> <br>\n",
    "\n",
    "Q. Analyze lighting conditions that contribute to the highest number of collisions."
   ]
  },
  {
   "cell_type": "code",
   "execution_count": 109,
   "metadata": {
    "execution": {
     "iopub.execute_input": "2025-06-17T05:32:56.349788Z",
     "iopub.status.busy": "2025-06-17T05:32:56.349386Z",
     "iopub.status.idle": "2025-06-17T05:33:10.076071Z",
     "shell.execute_reply": "2025-06-17T05:33:10.073069Z",
     "shell.execute_reply.started": "2025-06-17T05:32:56.349741Z"
    },
    "id": "QzTHXl27CoJX",
    "tags": []
   },
   "outputs": [
    {
     "data": {
      "application/vnd.jupyter.widget-view+json": {
       "model_id": "da672a9184d244e49e833c87be690547",
       "version_major": 2,
       "version_minor": 0
      },
      "text/plain": [
       "VBox()"
      ]
     },
     "metadata": {},
     "output_type": "display_data"
    },
    {
     "data": {
      "application/vnd.jupyter.widget-view+json": {
       "model_id": "",
       "version_major": 2,
       "version_minor": 0
      },
      "text/plain": [
       "FloatProgress(value=0.0, bar_style='info', description='Progress:', layout=Layout(height='25px', width='50%'),…"
      ]
     },
     "metadata": {},
     "output_type": "display_data"
    },
    {
     "name": "stdout",
     "output_type": "stream",
     "text": [
      "+--------------------+---------------+\n",
      "|            lighting|collision_count|\n",
      "+--------------------+---------------+\n",
      "|            daylight|         625574|\n",
      "|dark with street ...|         195867|\n",
      "|dark with no stre...|          74634|\n",
      "+--------------------+---------------+"
     ]
    }
   ],
   "source": [
    "# Query: Find the top 3 lighting conditions that lead to the most collisions\n",
    "\n",
    "top3_lighting_conditions = collisions_df1 \\\n",
    "    .groupBy(\"lighting\") \\\n",
    "    .agg(count(\"*\").alias(\"collision_count\")) \\\n",
    "    .orderBy(desc(\"collision_count\")) \\\n",
    "    .limit(3)\n",
    "\n",
    "top3_lighting_conditions.show()"
   ]
  },
  {
   "cell_type": "markdown",
   "metadata": {
    "id": "T5be5VwyaLPU"
   },
   "source": [
    "# 5. Conclusion <font color = red>[10 marks]</font> <br>\n",
    "\n",
    "Write your conclusion."
   ]
  },
  {
   "cell_type": "markdown",
   "metadata": {
    "execution": {
     "iopub.execute_input": "2025-06-17T05:33:10.105305Z",
     "iopub.status.busy": "2025-06-17T05:33:10.105090Z",
     "iopub.status.idle": "2025-06-17T05:33:10.166509Z",
     "shell.execute_reply": "2025-06-17T05:33:10.165455Z",
     "shell.execute_reply.started": "2025-06-17T05:33:10.105276Z"
    },
    "id": "nxjWTRcRaWy1"
   },
   "source": [
    "# Conclusion\n",
    "This project effectively leveraged Apache Spark and AWS S3 to process and analyze large-scale California traffic collision data. Through detailed ETL operations and rich visual analysis, we uncovered crucial patterns in accident severity, timing, locations, and contributing factors.\n",
    "\n",
    "These insights can help traffic authorities, city planners, and policymakers:"
   ]
  },
  {
   "cell_type": "markdown",
   "metadata": {},
   "source": [
    "## 📊Key Insights from Collision Data\n",
    "\n",
    "### 1. Collision Severity\n",
    "- **Property damage only** is the most common, with over **500,000** cases.\n",
    "- **Pain-related injuries** are the second highest, over **200,000** cases.\n",
    "\n",
    "### 2. Weather Conditions\n",
    "- Most collisions occurred in **clear weather**, likely due to high traffic.\n",
    "- **Cloudy** and **raining** conditions also show significant collision counts.\n",
    "\n",
    "### 3. Weather vs Severity\n",
    "- Majority of severe collisions happen during **clear weather**.\n",
    "- **Cloudy and rainy** conditions also contribute to higher severity.\n",
    "\n",
    "### 4. Victim Age Distribution\n",
    "- Highest collision involvement is in the **16–24 age group**.\n",
    "- Notably high involvement also seen in **0–4 age group**.\n",
    "\n",
    "### 5. Lighting Conditions\n",
    "- Most collisions occur during **daylight**.\n",
    "- **Dark with street lights** is the second most common lighting condition.\n",
    "\n",
    "### 6. Hourly Collision Trend\n",
    "- Peak hours: **15:00–17:00**, likely due to office traffic.\n",
    "- Collisions drop post-midnight and rise sharply from **08:00** onward.\n",
    "\n",
    "### 7. Daily Trend\n",
    "- **Friday** sees the most collisions; **Sunday** the least.\n",
    "\n",
    "### 8. Monthly Trend\n",
    "- Highest collisions in **March**, **October**, and **December**, likely due to holidays and festive traffic.\n",
    "\n",
    "### 9. Yearly Trend\n",
    "- Decrease from **2000–2013**, spike till **2016**, then a drop.\n",
    "- **Post-2019 decline** aligns with COVID-19 pandemic and reduced mobility.\n",
    "\n",
    "### 10. Geographical Trends\n",
    "- High collision density in **Los Angeles**, **San Francisco Bay Area**, and **Central Valley**.\n",
    "- Sparse data in **eastern deserts** and **northern rural regions** due to low population density.\n"
   ]
  },
  {
   "cell_type": "markdown",
   "metadata": {},
   "source": [
    "## ✅ Key Recommendations for Policy Makers & Traffic Authorities\n",
    "\n",
    "1. **Focus on High-Risk Areas & Time Slots**  \n",
    "   - Improve infrastructure and traffic control in regions with high collision density (e.g., Los Angeles, Bay Area).  \n",
    "   - Increase monitoring and enforcement during peak hours (15:00–17:00) and high-risk days (Fridays).\n",
    "\n",
    "2. **Implement Targeted Safety Campaigns**  \n",
    "   - Launch awareness programs for vulnerable age groups (16–24 and 0–4 years).  \n",
    "   - Enforce child safety seat usage and promote defensive driving education.\n",
    "\n",
    "3. **Leverage Technology & Seasonal Planning**  \n",
    "   - Use predictive analytics and smart traffic systems for weather-based and real-time alerts.  \n",
    "   - Plan special safety measures during festive months (March, October, December) when collisions spike.\n"
   ]
  },
  {
   "cell_type": "markdown",
   "metadata": {
    "id": "2cdvQqNGeKI5"
   },
   "source": [
    "# 6. Visualization Integration using Tableau/ PowerBI <font color = red>[Optional]</font> <br>"
   ]
  },
  {
   "cell_type": "code",
   "execution_count": null,
   "metadata": {
    "id": "U30S_dXeTSJp"
   },
   "outputs": [],
   "source": []
  }
 ],
 "metadata": {
  "colab": {
   "provenance": [],
   "toc_visible": true
  },
  "kernelspec": {
   "display_name": "Python 3 (ipykernel)",
   "language": "python",
   "name": "python3"
  },
  "language_info": {
   "codemirror_mode": {
    "name": "ipython",
    "version": 3
   },
   "file_extension": ".py",
   "mimetype": "text/x-python",
   "name": "python",
   "nbconvert_exporter": "python",
   "pygments_lexer": "ipython3",
   "version": "3.12.4"
  }
 },
 "nbformat": 4,
 "nbformat_minor": 4
}
